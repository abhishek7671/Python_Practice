{
 "cells": [
  {
   "cell_type": "code",
   "execution_count": 1,
   "id": "2e7edc62-a7f2-4646-b93e-b2e398ac0ec5",
   "metadata": {},
   "outputs": [
    {
     "name": "stdout",
     "output_type": "stream",
     "text": [
      "[5, 4, 3, 2, 1]\n"
     ]
    }
   ],
   "source": [
    "# reverse the list of data\n",
    "\n",
    "list = [1,2,3,4,5]\n",
    "a=[]\n",
    "for i in list:\n",
    "    a.insert(0,i)\n",
    "print(a)\n",
    "    "
   ]
  },
  {
   "cell_type": "code",
   "execution_count": 2,
   "id": "b71f7e7d-c2b9-43f9-9d65-6edc04e750b8",
   "metadata": {},
   "outputs": [
    {
     "name": "stdout",
     "output_type": "stream",
     "text": [
      "[7, 6, 5, 4, 3, 2, 1]\n"
     ]
    }
   ],
   "source": [
    "a= [1,2,3,4,5,6,7]\n",
    "b= []\n",
    "for i in range(len(a)-1,-1,-1):\n",
    "    b.append(a[i])\n",
    "print(b)"
   ]
  },
  {
   "cell_type": "code",
   "execution_count": 13,
   "id": "afe86d43-1017-4ad3-a2e2-3f910733e9d6",
   "metadata": {},
   "outputs": [
    {
     "name": "stdout",
     "output_type": "stream",
     "text": [
      "[7, 6, 5, 4, 3, 2, 1]\n"
     ]
    }
   ],
   "source": [
    "a= [1,2,3,4,5,6,7]\n",
    "n= len(a)\n",
    "for i in range(n//2):\n",
    "    a[i], a[n-i-1] = a[n-i-1],a[i]\n",
    "print(a)"
   ]
  },
  {
   "cell_type": "code",
   "execution_count": 21,
   "id": "eddc49f0-2fc7-4625-9955-a70c87e57296",
   "metadata": {},
   "outputs": [
    {
     "name": "stdout",
     "output_type": "stream",
     "text": [
      "7\n"
     ]
    }
   ],
   "source": [
    "#  max value in the list\n",
    "\n",
    "a= [1,2,3,4,5,6,7]\n",
    "max = a[0]\n",
    "for i in a:\n",
    "    if i > max:\n",
    "        max = i\n",
    "print(max)"
   ]
  },
  {
   "cell_type": "code",
   "execution_count": 17,
   "id": "c55ff88c-afee-45ea-98a5-22f6ccb76ba5",
   "metadata": {},
   "outputs": [
    {
     "name": "stdout",
     "output_type": "stream",
     "text": [
      "1\n"
     ]
    }
   ],
   "source": [
    "#  min  value in the list\n",
    "\n",
    "a= [1,2,3,4,5,6,7]\n",
    "min = a[0]\n",
    "for i in a:\n",
    "    if i < min:\n",
    "        min =i \n",
    "print(min)"
   ]
  },
  {
   "cell_type": "code",
   "execution_count": 27,
   "id": "32b146c6-d8c6-4579-ba0c-ebf0ca1a37c6",
   "metadata": {},
   "outputs": [
    {
     "name": "stdout",
     "output_type": "stream",
     "text": [
      "28\n"
     ]
    }
   ],
   "source": [
    "# sum of all data in list\n",
    "\n",
    "a= [1,2,3,4,5,6,7]\n",
    "total = 0\n",
    "for i in a:\n",
    "    total+=i\n",
    "print(total)"
   ]
  },
  {
   "cell_type": "code",
   "execution_count": 28,
   "id": "4135b91b-b27b-47b8-9f1b-c49f197aca29",
   "metadata": {},
   "outputs": [
    {
     "name": "stdout",
     "output_type": "stream",
     "text": [
      "[1, 2, 4, 1, 3, 4]\n"
     ]
    }
   ],
   "source": [
    "# combine the both list in single list\n",
    "\n",
    "list1 = [1,2,4]\n",
    "list2 = [1,3,4]\n",
    "a= []\n",
    "for i in list1:\n",
    "    a.append(i)\n",
    "for j in list2:\n",
    "    a.append(j)\n",
    "\n",
    "print(a)"
   ]
  },
  {
   "cell_type": "code",
   "execution_count": 54,
   "id": "19ff7a08-e4de-468a-b679-3b28fae7865e",
   "metadata": {},
   "outputs": [
    {
     "name": "stdout",
     "output_type": "stream",
     "text": [
      "5 [0, 1, 2, 3, 4, '_', '_', '_', '_', '_']\n"
     ]
    }
   ],
   "source": [
    "\n",
    "nums = [0,0,1,1,1,2,2,3,3,4]\n",
    "if nums:\n",
    "    data = 0\n",
    "    for i in range(1,len(nums)):\n",
    "        if nums[i] != nums[data]:\n",
    "            data += 1\n",
    "            nums[data] = nums[i]\n",
    "    num_data = nums[data] + 1\n",
    "print(num_data,nums[:num_data] + [\"_\"] * (len(nums) - num_data))"
   ]
  },
  {
   "cell_type": "code",
   "execution_count": 60,
   "id": "9b63b389-cb68-48b3-8a0e-6e72a6ca4099",
   "metadata": {},
   "outputs": [
    {
     "name": "stdout",
     "output_type": "stream",
     "text": [
      "[1, 2, 3, 4, 5, 6, 7, 743]\n"
     ]
    }
   ],
   "source": [
    "# remove the duplicates in list\n",
    "\n",
    "l = [1,2,3,4,5,6,7,1,2,4,4,5,6,743,2,3,4,5]\n",
    "d= []\n",
    "for i in l:\n",
    "    if i not in d:\n",
    "        d.append(i)\n",
    "print(d)"
   ]
  },
  {
   "cell_type": "code",
   "execution_count": 80,
   "id": "aa961851-e4ca-452a-93d5-39135eccaf80",
   "metadata": {},
   "outputs": [
    {
     "name": "stdout",
     "output_type": "stream",
     "text": [
      "second: 5\n"
     ]
    }
   ],
   "source": [
    "# # second highest value in list\n",
    "\n",
    "l = [1,2,3,4,5,6,7,1,2,4,4,5,6,743,2,3,4,5]\n",
    "largest = second_large = float('-inf')\n",
    "for i in l:\n",
    "    if i > largest:\n",
    "        second_large = largest\n",
    "        largest = i\n",
    "    else:\n",
    "        i > second_large and i != largest\n",
    "        second_large = i\n",
    "if second_large == float('-inf'):\n",
    "    print('no second highest value')\n",
    "else:\n",
    "    print('second:', second_large)"
   ]
  },
  {
   "cell_type": "code",
   "execution_count": 23,
   "id": "73588232-da90-4ea7-8a55-c26e48cd1f94",
   "metadata": {},
   "outputs": [
    {
     "name": "stdout",
     "output_type": "stream",
     "text": [
      "True\n",
      "False\n",
      "ValueError: data is not correct\n"
     ]
    }
   ],
   "source": [
    "def demo(func):\n",
    "    def data(a,b):\n",
    "        if b ==0:\n",
    "            return 'ValueError: data is not correct'\n",
    "        return func(a,b)<1\n",
    "    return data\n",
    "    \n",
    "@demo\n",
    "def lie(a,b):\n",
    "    return a/b\n",
    "\n",
    "print(lie(2,5))\n",
    "print(lie(6,5))\n",
    "print(lie(2,0))\n",
    "\n"
   ]
  },
  {
   "cell_type": "code",
   "execution_count": 31,
   "id": "09f87f2e-b31d-4e91-b54f-111be1ba6f05",
   "metadata": {},
   "outputs": [
    {
     "name": "stdout",
     "output_type": "stream",
     "text": [
      "[(2, 1), (1, 2), (2, 3), (4, 4), (2, 5)]\n"
     ]
    }
   ],
   "source": [
    "a=[(2,5),(1,2),(4,4),(2,3),(2,1)]\n",
    "\n",
    "b = []"
   ]
  },
  {
   "cell_type": "code",
   "execution_count": null,
   "id": "02b223a9-2f99-4c89-bb66-f20413fe8608",
   "metadata": {},
   "outputs": [],
   "source": []
  }
 ],
 "metadata": {
  "kernelspec": {
   "display_name": "Python 3 (ipykernel)",
   "language": "python",
   "name": "python3"
  },
  "language_info": {
   "codemirror_mode": {
    "name": "ipython",
    "version": 3
   },
   "file_extension": ".py",
   "mimetype": "text/x-python",
   "name": "python",
   "nbconvert_exporter": "python",
   "pygments_lexer": "ipython3",
   "version": "3.11.5"
  }
 },
 "nbformat": 4,
 "nbformat_minor": 5
}
