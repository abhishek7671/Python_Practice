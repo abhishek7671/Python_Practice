{
 "cells": [
  {
   "cell_type": "code",
   "execution_count": 7,
   "id": "bb9812d1-4453-4236-a30e-f4b0178c4e2a",
   "metadata": {},
   "outputs": [
    {
     "name": "stdout",
     "output_type": "stream",
     "text": [
      "[1, 3, 4, 5, 6, 6, 8, 9, 9, 9, 33, 77]\n",
      "[77, 33, 9, 9, 9, 8, 6, 6, 5, 4, 3, 1]\n"
     ]
    }
   ],
   "source": [
    "list = [1,3,4,5,6,33,6,77,8,9,9,9]\n",
    "\n",
    "for i in range(len(list)):\n",
    "    for j in range(len(list)-1):\n",
    "        if list[j]> list[j+1]:\n",
    "            list[j], list[j+1] = list[j+1], list[j]\n",
    "print(list)\n",
    "b  =list[::-1]\n",
    "print(b)\n"
   ]
  },
  {
   "cell_type": "code",
   "execution_count": 11,
   "id": "55610a6a-4975-4f09-92f6-e847a09eccda",
   "metadata": {},
   "outputs": [
    {
     "name": "stdout",
     "output_type": "stream",
     "text": [
      "1\n"
     ]
    }
   ],
   "source": [
    "list = [1,3,4,5,6,33,6,77,8,9,9,9]\n",
    "max=list[0]\n",
    "for i in range(len(list)):\n",
    "    if max > list[i]:\n",
    "        max =i\n",
    "print(max)\n"
   ]
  },
  {
   "cell_type": "code",
   "execution_count": null,
   "id": "5f9d7efe-46f3-42f6-ada0-831b0b569522",
   "metadata": {},
   "outputs": [],
   "source": []
  },
  {
   "cell_type": "code",
   "execution_count": null,
   "id": "2f7af336-323b-47ec-af0c-83bafc447aff",
   "metadata": {},
   "outputs": [],
   "source": []
  },
  {
   "cell_type": "code",
   "execution_count": null,
   "id": "486f3de4-ec76-468d-afc4-03b3bc63fa03",
   "metadata": {},
   "outputs": [],
   "source": []
  }
 ],
 "metadata": {
  "kernelspec": {
   "display_name": "Python 3 (ipykernel)",
   "language": "python",
   "name": "python3"
  },
  "language_info": {
   "codemirror_mode": {
    "name": "ipython",
    "version": 3
   },
   "file_extension": ".py",
   "mimetype": "text/x-python",
   "name": "python",
   "nbconvert_exporter": "python",
   "pygments_lexer": "ipython3",
   "version": "3.12.9"
  }
 },
 "nbformat": 4,
 "nbformat_minor": 5
}
