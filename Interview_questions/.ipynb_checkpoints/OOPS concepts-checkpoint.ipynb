{
 "cells": [
  {
   "cell_type": "markdown",
   "id": "8164a089-e84c-4ecf-bd5a-893fc1586056",
   "metadata": {},
   "source": [
    "#Polymorphism in Python\n",
    "Definition:\n",
    "#Polymorphism means \"many forms\"  allows the same function work differently based on the object.\n",
    "\n",
    "types of polymorphism:\n",
    "\n",
    "1.\n",
    "#Method Overloading: Multiple methods with the same name, but different parameters   [[[[[ note: it is not satisfy in python ]]]] \n",
    "Operator Overloading: Changing the behavior of operators (e.g., +, -) for custom objects.\n",
    "\n",
    "\n",
    "2.(Runtime Polymorphism)\n",
    "#Method Overriding: A child class provides a different implementation of a method from the parent class.\n",
    "\n",
    "\n",
    "3. #Duck Typing (Behavior-based Polymorphism)\n",
    "Class of an object is determined by its behavior rather than its actual class."
   ]
  },
  {
   "cell_type": "code",
   "execution_count": null,
   "id": "fa97e7a3-3ce4-465e-9fe2-033ce75491db",
   "metadata": {},
   "outputs": [],
   "source": [
    "# operator overloading:\n",
    "\n"
   ]
  },
  {
   "cell_type": "code",
   "execution_count": null,
   "id": "0bc234fb-6280-40e0-aa56-58026c0c7445",
   "metadata": {},
   "outputs": [],
   "source": []
  }
 ],
 "metadata": {
  "kernelspec": {
   "display_name": "Python 3 (ipykernel)",
   "language": "python",
   "name": "python3"
  },
  "language_info": {
   "codemirror_mode": {
    "name": "ipython",
    "version": 3
   },
   "file_extension": ".py",
   "mimetype": "text/x-python",
   "name": "python",
   "nbconvert_exporter": "python",
   "pygments_lexer": "ipython3",
   "version": "3.11.5"
  }
 },
 "nbformat": 4,
 "nbformat_minor": 5
}
