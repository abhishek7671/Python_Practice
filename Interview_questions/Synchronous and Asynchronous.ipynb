{
 "cells": [
  {
   "cell_type": "code",
   "execution_count": 5,
   "id": "ee5b4f25-2445-405a-ba60-87e9b4754ca9",
   "metadata": {},
   "outputs": [
    {
     "name": "stdout",
     "output_type": "stream",
     "text": [
      "task1 started\n",
      "task1 completed\n",
      "task2 started\n",
      "task2 completed\n"
     ]
    }
   ],
   "source": [
    "# synchronous method\n",
    "\n",
    "import time\n",
    "\n",
    "def task1():\n",
    "    print('task1 started')\n",
    "    time.sleep(2)\n",
    "    print('task1 completed')\n",
    "def task2():\n",
    "    print('task2 started')\n",
    "    time.sleep(2)\n",
    "    print('task2 completed')\n",
    "task1()\n",
    "task2()"
   ]
  },
  {
   "cell_type": "code",
   "execution_count": 13,
   "id": "f1e60faa-9f71-4e1a-ad08-b6036bcc346c",
   "metadata": {},
   "outputs": [
    {
     "name": "stdout",
     "output_type": "stream",
     "text": [
      "task1 started\n",
      "task2 started\n",
      "task1 completed\n",
      "task2 complete\n"
     ]
    }
   ],
   "source": [
    "# asynchronous method\n",
    "\n",
    "import asyncio\n",
    "\n",
    "async def task1():\n",
    "    print('task1 started')\n",
    "    await asyncio.sleep(1)\n",
    "    print('task1 completed')\n",
    "\n",
    "async def task2():\n",
    "    print('task2 started')\n",
    "    await asyncio.sleep(1)\n",
    "    print('task2 complete')\n",
    "\n",
    "async def main():\n",
    "    await asyncio.gather(task1(), task2())\n",
    "\n",
    "\n",
    "await main()"
   ]
  },
  {
   "cell_type": "code",
   "execution_count": 15,
   "id": "7c99360f-5ebc-4f55-8c14-60d8ba3d91b7",
   "metadata": {},
   "outputs": [
    {
     "name": "stdout",
     "output_type": "stream",
     "text": [
      "[[100, 2, 3], [4, 5, 6]]\n",
      "[[100, 2, 3], [4, 5, 6]]\n"
     ]
    }
   ],
   "source": [
    "import copy\n",
    "\n",
    "original = [[1, 2, 3], [4, 5, 6]]\n",
    "shallow = copy.copy(original)\n",
    "original [0][0] = 100\n",
    "print(original)\n",
    "print(shallow)"
   ]
  },
  {
   "cell_type": "code",
   "execution_count": 16,
   "id": "7d08b2aa-776f-4f85-ad7b-0edbfa447a98",
   "metadata": {},
   "outputs": [
    {
     "name": "stdout",
     "output_type": "stream",
     "text": [
      "[[120, 2, 3], [4, 5, 6]]\n",
      "[[1, 2, 3], [4, 5, 6]]\n"
     ]
    }
   ],
   "source": [
    "import copy\n",
    "\n",
    "original = [[1, 2, 3], [4, 5, 6]]\n",
    "\n",
    "deep = copy.deepcopy(original)\n",
    "original[0][0] = 120\n",
    "print(original)\n",
    "print(deep)"
   ]
  }
 ],
 "metadata": {
  "kernelspec": {
   "display_name": "Python 3 (ipykernel)",
   "language": "python",
   "name": "python3"
  },
  "language_info": {
   "codemirror_mode": {
    "name": "ipython",
    "version": 3
   },
   "file_extension": ".py",
   "mimetype": "text/x-python",
   "name": "python",
   "nbconvert_exporter": "python",
   "pygments_lexer": "ipython3",
   "version": "3.11.5"
  }
 },
 "nbformat": 4,
 "nbformat_minor": 5
}
