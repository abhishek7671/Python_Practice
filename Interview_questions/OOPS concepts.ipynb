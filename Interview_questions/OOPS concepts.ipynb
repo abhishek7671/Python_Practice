{
 "cells": [
  {
   "cell_type": "markdown",
   "id": "8164a089-e84c-4ecf-bd5a-893fc1586056",
   "metadata": {},
   "source": [
    "OOPS Concepts:\n",
    "4 pillars of OOPS \n",
    "    1.Inheritence\n",
    "    2.Data Abstraction\n",
    "    3.Polymorphism\n",
    "    4.Encapsulation"
   ]
  },
  {
   "cell_type": "code",
   "execution_count": 75,
   "id": "97430a2c-b585-4804-9f41-d7ba595eccce",
   "metadata": {},
   "outputs": [
    {
     "name": "stdout",
     "output_type": "stream",
     "text": [
      "Abhi\n",
      "23\n"
     ]
    }
   ],
   "source": [
    "# A Class is like an object constructor, or a \"blueprint\" for creating objects.\n",
    "\n",
    "\n",
    "# _init_() function:\n",
    "# All classes have a function called __init__(), which is always executed when the class is being initiated.\n",
    "\n",
    "\n",
    "class Person:\n",
    "    def __init__(self,name,age):\n",
    "        self.name  =  name\n",
    "        self.age = age\n",
    "\n",
    "p = Person('Abhi',23)\n",
    "\n",
    "print(p.name)\n",
    "print(p.age)"
   ]
  },
  {
   "cell_type": "code",
   "execution_count": 83,
   "id": "c9915570-09da-45b5-974b-02a86fb0291b",
   "metadata": {},
   "outputs": [
    {
     "name": "stdout",
     "output_type": "stream",
     "text": [
      "Abhi\n"
     ]
    }
   ],
   "source": [
    " # The __str__() Function\n",
    "# The __str__() function controls what should be returned when the class object is represented as a string.\n",
    "\n",
    "\n",
    "# without __str__() method\n",
    "\n",
    "# class Person:\n",
    "#     def __init__(self,name,age):\n",
    "#         self.name = name\n",
    "#         self.age = age\n",
    "\n",
    "# p= Person('Abhi',25)\n",
    "# print(p.name)\n",
    "# print(p.age)\n",
    "\n",
    "\n",
    "# with __str__() method\n",
    "\n",
    "class Person:\n",
    "    def __init__(self, name,age):\n",
    "        self.name = name\n",
    "        self.age = age\n",
    "    def __str__(self):\n",
    "        return self.name\n",
    "\n",
    "p = Person('Abhi',24)\n",
    "print(p)"
   ]
  },
  {
   "cell_type": "code",
   "execution_count": null,
   "id": "89e9a519-ee5f-466a-b172-5de9743a6356",
   "metadata": {},
   "outputs": [],
   "source": []
  },
  {
   "cell_type": "code",
   "execution_count": null,
   "id": "72c9b571-5e5e-4e44-a4a9-75237558b231",
   "metadata": {},
   "outputs": [],
   "source": []
  },
  {
   "cell_type": "markdown",
   "id": "ed7ef015-6870-48c2-9a31-25b1ad010c1d",
   "metadata": {},
   "source": [
    "Inheritance in Python :\n",
    "Child class to inherit the properties and methods of parent class.\n",
    "\n",
    "\n",
    "Types of Inheritance:\n",
    "\n",
    "1. Single Inheritance:  Child class inherits from a single parent class.\n",
    "2. Multiple Inheritance :  Child class inherits from multiple parent classes.\n",
    "3. Multilevel Inheritance : Class inherits from another class, forming a chain.\n",
    "4. Hierarchical Inheritance : Multiple child classes inherit from a single parent class.\n",
    "5. Hybrid Inheritance : Combination of different types of inheritance."
   ]
  },
  {
   "cell_type": "code",
   "execution_count": 22,
   "id": "a4ef1aad-d6bc-4a8f-97b8-0857b63121c6",
   "metadata": {},
   "outputs": [
    {
     "name": "stdout",
     "output_type": "stream",
     "text": [
      "Child data\n"
     ]
    }
   ],
   "source": [
    "# 1. Single Inheritance:\n",
    "# Child class inherits from a single parent class.\n",
    "\n",
    "class Parent:\n",
    "    def talk(self):\n",
    "        return 'Parents data'\n",
    "\n",
    "class Child(Parent):\n",
    "    def talk(self):\n",
    "        return 'Child data'\n",
    "\n",
    "d= Child()\n",
    "print(d.talk())\n"
   ]
  },
  {
   "cell_type": "code",
   "execution_count": 23,
   "id": "9443b703-54f9-41d0-a511-2861762dfc72",
   "metadata": {},
   "outputs": [
    {
     "name": "stdout",
     "output_type": "stream",
     "text": [
      "Father data\n",
      "Mother data\n"
     ]
    }
   ],
   "source": [
    "# 2. Multiple Inheritance :\n",
    "child class inherits from two or more parent classes.\n",
    "\n",
    "class Father:\n",
    "    def data1(self):\n",
    "        return 'Father data'\n",
    "\n",
    "class Mother:\n",
    "    def data2(self):\n",
    "        return 'Mother data'\n",
    "\n",
    "class Child(Father,Mother):\n",
    "    def child_method(self):\n",
    "        return 'child data'\n",
    "\n",
    "c= Child()\n",
    "print(c.data1())\n",
    "print(c.data2())"
   ]
  },
  {
   "cell_type": "code",
   "execution_count": 28,
   "id": "bb8f3929-6a74-4477-ab0a-19e2f575fc0e",
   "metadata": {},
   "outputs": [
    {
     "name": "stdout",
     "output_type": "stream",
     "text": [
      "GrandFather data\n",
      "Father data\n",
      "Child data\n"
     ]
    }
   ],
   "source": [
    "# 3. Multilevel Inheritance:\n",
    "# child class inherits from another child class, forming a chain.\n",
    "\n",
    "class GrandFather:\n",
    "    def data1(self):\n",
    "        return 'GrandFather data'\n",
    "\n",
    "class Father(GrandFather):\n",
    "    def data2(self):\n",
    "        return 'Father data'\n",
    "\n",
    "class Child(Father):\n",
    "    def data3(self):\n",
    "        return 'Child data'\n",
    "c=Child()\n",
    "print(c.data1())\n",
    "print(c.data2())\n",
    "print(c.data3())"
   ]
  },
  {
   "cell_type": "code",
   "execution_count": 33,
   "id": "b5fb8a21-47a1-48b8-9433-be36eae40417",
   "metadata": {},
   "outputs": [
    {
     "name": "stdout",
     "output_type": "stream",
     "text": [
      "Parent data\n",
      "Parent data\n"
     ]
    }
   ],
   "source": [
    "# 4.Hierarchical Inheritance:\n",
    "# Multiple child classes inherit from one parent class.\n",
    "\n",
    "class Parent:\n",
    "    def data(self):\n",
    "        return 'Parent data'\n",
    "\n",
    "class Child1(Parent):\n",
    "    def data2(self):\n",
    "        return 'Child1 data'\n",
    "\n",
    "class Child2(Parent):\n",
    "    def data3(self):\n",
    "        return 'Child2 data'\n",
    "\n",
    "a = Child1()\n",
    "b = Child2()\n",
    "\n",
    "print(a.data())\n",
    "print(b.data())"
   ]
  },
  {
   "cell_type": "code",
   "execution_count": 43,
   "id": "50b07fd1-1c4c-4ddd-819f-da02a082eb15",
   "metadata": {},
   "outputs": [
    {
     "name": "stdout",
     "output_type": "stream",
     "text": [
      "Retrieve A\n",
      "Retrieve B\n",
      "Retrieve C\n",
      "Retrieve D\n"
     ]
    }
   ],
   "source": [
    "# 5. Hybrid Inheritance :\n",
    "# Combination of multiple inheritance types.\n",
    "\n",
    "class A:\n",
    "    def methodA(self):\n",
    "        return 'Retrieve A'\n",
    "\n",
    "class B(A):\n",
    "    def methodB(self):\n",
    "        return 'Retrieve B'\n",
    "\n",
    "class C(A):\n",
    "    def methodC(self):\n",
    "        return 'Retrieve C'\n",
    "\n",
    "class D(B,C):\n",
    "    def methodD(self):\n",
    "        return 'Retrieve D'\n",
    "\n",
    "d= D()\n",
    "print(d.methodA())  \n",
    "print(d.methodB())\n",
    "print(d.methodC()) \n",
    "print(d.methodD()) \n"
   ]
  },
  {
   "cell_type": "code",
   "execution_count": null,
   "id": "08c64476-2290-4fb2-a201-753a4624ec55",
   "metadata": {},
   "outputs": [],
   "source": []
  },
  {
   "cell_type": "markdown",
   "id": "b0d7cc04-59d4-465a-bc0c-7ad089f355a3",
   "metadata": {},
   "source": [
    "2.Data Abstraction:\n",
    "Hide the implementation details and exposing the necessary functionality to the user.\n",
    "This helps in reducing complexity and improving code readability.\n",
    "\n",
    "Types of Abstraction:\n",
    "\n",
    "1. Abstract Class :\tclass that cannot be instantiated and contains abstract methods.\n",
    "2. Abstract Method : \tmethod declared but not implemented in the parent class.\n",
    "3. Interface (ABC) : \tcontract that enforces method implementation in subclasses.\t\n",
    "\n",
    "    "
   ]
  },
  {
   "cell_type": "code",
   "execution_count": 70,
   "id": "f71b2c5f-221a-4087-8f75-dee8fdceff96",
   "metadata": {},
   "outputs": [
    {
     "name": "stdout",
     "output_type": "stream",
     "text": [
      "bark\n"
     ]
    }
   ],
   "source": [
    "# 1. Abstract Class : \n",
    "# An abstract class is a class that cannot be instantiated and contains at least one abstract method.\n",
    "\n",
    "\n",
    "from abc import ABC, abstractmethod\n",
    "\n",
    "class Animal(ABC):\n",
    "    @abstractmethod\n",
    "    def make_sound(self):\n",
    "        return 'data'\n",
    "\n",
    "class Dog(Animal):\n",
    "    def make_sound(slef):\n",
    "        return 'bark'\n",
    "\n",
    "d= Dog()\n",
    "print(d.make_sound())\n",
    "    "
   ]
  },
  {
   "cell_type": "code",
   "execution_count": 73,
   "id": "abe4641d-8ccb-47d6-80d8-e80f266217c9",
   "metadata": {},
   "outputs": [
    {
     "name": "stdout",
     "output_type": "stream",
     "text": [
      "Engine Start\n"
     ]
    }
   ],
   "source": [
    "# 2. Abstract Method:\n",
    "# An abstract method is a method that is declared but not implemented in the parent class. Subclasses must override this method.\n",
    "\n",
    "\n",
    "from abc import ABC, abstractmethod\n",
    "\n",
    "class Vehicle(ABC):\n",
    "    @abstractmethod\n",
    "    def start(self):\n",
    "        pass\n",
    "        \n",
    "\n",
    "class Car(Vehicle):\n",
    "    def start(self):\n",
    "        return 'Engine Start'\n",
    "\n",
    "c= Car()\n",
    "print(c.start())\n"
   ]
  },
  {
   "cell_type": "code",
   "execution_count": null,
   "id": "e452ef41-e809-425f-ae4f-696df3fc9782",
   "metadata": {},
   "outputs": [],
   "source": []
  },
  {
   "cell_type": "code",
   "execution_count": null,
   "id": "a1634b60-1421-47c1-b2b5-6f639485762f",
   "metadata": {},
   "outputs": [],
   "source": []
  },
  {
   "cell_type": "markdown",
   "id": "69904d24-621e-4c36-b7c3-b8187f92b98a",
   "metadata": {},
   "source": [
    "Encapsulation:\n",
    "wrapping of variables and methods into a single unit.\n",
    "\n",
    "Types of Encapsulation:\n",
    "\n",
    "1. Public Members: Can be accessed anywhere, both inside and outside the class.\n",
    "\n",
    "2. Protected Members:\n",
    "Indicated with a single underscore (_).\n",
    "Can be accessed within the class and subclasses but not recommended for direct access.\n",
    "\n",
    "3. Private Members:\n",
    "Indicated with double underscore (__).\n",
    "Cannot be accessed directly outside the class.\n",
    "\n",
    "\n",
    "\n",
    "Note: ACCESS THE PRIVATE Variables \n",
    "\n",
    "Encapsulation using Getters and Setters\n",
    "Use getter methods to access private variables.\n",
    "Use setter methods to modify private variables.\n"
   ]
  },
  {
   "cell_type": "code",
   "execution_count": 59,
   "id": "fc3fdf3e-7bec-434a-9555-34414f3a508e",
   "metadata": {},
   "outputs": [
    {
     "name": "stdout",
     "output_type": "stream",
     "text": [
      "John\n"
     ]
    }
   ],
   "source": [
    "# 1. Public Members:\n",
    "# Can be accessed anywhere, both inside and outside the class.\n",
    "\n",
    "class Person:\n",
    "    def __init__(self,name):\n",
    "        self.name = name\n",
    "\n",
    "c= Person('John')\n",
    "print(c.name)"
   ]
  },
  {
   "cell_type": "code",
   "execution_count": 50,
   "id": "319df6ab-ee30-44b6-a8cf-73003c7a92cb",
   "metadata": {},
   "outputs": [
    {
     "name": "stdout",
     "output_type": "stream",
     "text": [
      "John\n"
     ]
    }
   ],
   "source": [
    "# 2. Protected Members:\n",
    "# Indicated with a single underscore (_).\n",
    "# Can be accessed within the class and subclasses but not recommended for direct access.\n",
    "\n",
    "class Person:\n",
    "    def __init__(self,name):\n",
    "        self._name = name\n",
    "\n",
    "p = Person('John')\n",
    "print(p._name)"
   ]
  },
  {
   "cell_type": "code",
   "execution_count": 58,
   "id": "0db24048-2163-42ed-a841-2dc21228cec3",
   "metadata": {},
   "outputs": [
    {
     "name": "stdout",
     "output_type": "stream",
     "text": [
      "John\n"
     ]
    }
   ],
   "source": [
    "# 3. Private Members:\n",
    "# Indicated with double underscore (__).\n",
    "# Cannot be accessed directly outside the class.\n",
    "\n",
    "\n",
    "class Person:\n",
    "    def __init__(self,name):\n",
    "        self.__name = name\n",
    "\n",
    "c= Person('John')\n",
    "\n",
    "\n",
    "# print(c.__name)  # ❌ This will give an AttributeError\n",
    "\n",
    "\n",
    "print(c._Person__name)  # Output: John (Using name mangling)\n",
    "        \n",
    "\n"
   ]
  },
  {
   "cell_type": "code",
   "execution_count": 69,
   "id": "830c79de-da78-429f-b1b5-0388e6c3cd93",
   "metadata": {},
   "outputs": [
    {
     "name": "stdout",
     "output_type": "stream",
     "text": [
      "John\n",
      "Mike\n"
     ]
    }
   ],
   "source": [
    "# Encapsulation using Getters and Setters\n",
    "# Use getter methods to access private variables.\n",
    "# Use setter methods to modify private variables.\n",
    "\n",
    "class Person:\n",
    "    def __init__(self, name):\n",
    "        self.__name = name  # Private attribute\n",
    "\n",
    "    def get_name(self):  # Getter\n",
    "        return self.__name\n",
    "\n",
    "    def set_name(self,new_name):\n",
    "        self.__name = new_name\n",
    "\n",
    "\n",
    "\n",
    "p = Person('John')\n",
    "print(p.get_name())\n",
    "p.set_name('Mike')\n",
    "print(p.get_name())\n",
    "\n",
    "\n",
    "        "
   ]
  },
  {
   "cell_type": "code",
   "execution_count": null,
   "id": "4741586e-3e96-4b78-8542-459be6e7ef3d",
   "metadata": {},
   "outputs": [],
   "source": []
  },
  {
   "cell_type": "markdown",
   "id": "46d7b689-0225-4e72-8122-1322783d94f8",
   "metadata": {},
   "source": [
    "#Polymorphism in Python\n",
    "Definition:\n",
    "#Polymorphism means \"many forms\"  allows the same function work differently based on the object.\n",
    "\n",
    "types of polymorphism:\n",
    "\n",
    "1.\n",
    "#Method Overloading: Multiple methods with the same name, but different parameters   [[[[[ note: it is not satisfy in python ]]]] \n",
    "Operator Overloading: Changing the behavior of operators (e.g., +, -) for custom objects.\n",
    "\n",
    "\n",
    "2.(Runtime Polymorphism)\n",
    "#Method Overriding: A child class provides a different implementation of a method from the parent class.\n",
    "\n",
    "\n",
    "3. #Duck Typing (Behavior-based Polymorphism)\n",
    "Class of an object is determined by its behavior rather than its actual class."
   ]
  },
  {
   "cell_type": "code",
   "execution_count": 17,
   "id": "fa97e7a3-3ce4-465e-9fe2-033ce75491db",
   "metadata": {},
   "outputs": [],
   "source": [
    "# operator overloading:\n",
    "\n",
    "# class Point():\n",
    "#     def __init__(self,x,y):\n",
    "#         self.x = x\n",
    "#         self.y = y\n",
    "\n",
    "#     def __add__(self,other):\n",
    "#         return Point(self.x + other.x, self.y + other.y)\n",
    "\n",
    "# p1 = Point(2,3)\n",
    "# p2 = Point(4,5)\n",
    "# p3 = p1 + p2\n",
    "\n",
    "# print(p3.x,p3.y)\n",
    "\n",
    "\n",
    "\n",
    "\n",
    "# class Point():\n",
    "#     def __init__(self,x,y):\n",
    "#         self.x = x\n",
    "#         self.y = y\n",
    "\n",
    "#     def __sub__(self, other):\n",
    "#         return Point(self.x - other.x, self.y - other.y)\n",
    "\n",
    "# p1 = Point(2,3)\n",
    "# p2 = Point(4,5)\n",
    "# p3 = p1-p2\n",
    "# print(p3.x,p3.y)\n"
   ]
  },
  {
   "cell_type": "code",
   "execution_count": 11,
   "id": "0bc234fb-6280-40e0-aa56-58026c0c7445",
   "metadata": {},
   "outputs": [
    {
     "name": "stdout",
     "output_type": "stream",
     "text": [
      "Bark\n",
      "Meow\n"
     ]
    }
   ],
   "source": [
    "# Method Overriding:\n",
    "\n",
    "class Animal:\n",
    "    def sound(self):\n",
    "        return 'Some Sound'\n",
    "\n",
    "class Dog(Animal):\n",
    "    def sound(self):\n",
    "        return 'Bark'\n",
    "class Cat(Animal):\n",
    "    def sound(self):\n",
    "        return 'Meow'\n",
    "\n",
    "obj =[Dog(), Cat()]\n",
    "for i in obj:\n",
    "    print(i.sound())"
   ]
  },
  {
   "cell_type": "code",
   "execution_count": 12,
   "id": "9d91d0a1-35b7-44b9-ad15-ae26517c16ce",
   "metadata": {},
   "outputs": [
    {
     "name": "stdout",
     "output_type": "stream",
     "text": [
      "Flies in the sky\n",
      "Flies with Engine\n"
     ]
    }
   ],
   "source": [
    "# Duck Typing (Behavior-based Polymorphism):\n",
    "\n",
    "\n",
    "class Bird:\n",
    "    def fly(self):\n",
    "        return 'Flies in the sky'\n",
    "\n",
    "class Aeroplane:\n",
    "    def fly(self):\n",
    "        return 'Flies with Engine'\n",
    "\n",
    "def take_off(entity):\n",
    "    print(entity.fly())\n",
    "\n",
    "take_off(Bird())\n",
    "take_off(Aeroplane())"
   ]
  },
  {
   "cell_type": "code",
   "execution_count": null,
   "id": "b8faed1f-8e3f-46d7-b98c-f5762c260ef1",
   "metadata": {},
   "outputs": [],
   "source": []
  },
  {
   "cell_type": "code",
   "execution_count": null,
   "id": "dd738ec9-2d34-4f03-a86b-c652f5477230",
   "metadata": {},
   "outputs": [],
   "source": []
  }
 ],
 "metadata": {
  "kernelspec": {
   "display_name": "Python 3 (ipykernel)",
   "language": "python",
   "name": "python3"
  },
  "language_info": {
   "codemirror_mode": {
    "name": "ipython",
    "version": 3
   },
   "file_extension": ".py",
   "mimetype": "text/x-python",
   "name": "python",
   "nbconvert_exporter": "python",
   "pygments_lexer": "ipython3",
   "version": "3.11.5"
  }
 },
 "nbformat": 4,
 "nbformat_minor": 5
}
