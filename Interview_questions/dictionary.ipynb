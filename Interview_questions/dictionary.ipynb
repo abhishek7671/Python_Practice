{
 "cells": [
  {
   "cell_type": "code",
   "execution_count": 4,
   "id": "78d31ef6-961e-4539-a3be-c2dd5f930ca0",
   "metadata": {},
   "outputs": [
    {
     "name": "stdout",
     "output_type": "stream",
     "text": [
      "{'a': 5, 'd': 4, 's': 5, 'j': 4, 'f': 4, 'h': 1, 'c': 2, 'b': 2}\n"
     ]
    }
   ],
   "source": [
    "s='adsjfdsfsfjsdjfhacabcsbajda'\n",
    "\n",
    "d= {}\n",
    "for i in s:\n",
    "    if i in d:\n",
    "        d[i]+=1\n",
    "    else:\n",
    "        d[i]=1\n",
    "print(d)"
   ]
  },
  {
   "cell_type": "code",
   "execution_count": null,
   "id": "9ba897be-50a7-4449-baed-ecff01472e3e",
   "metadata": {},
   "outputs": [],
   "source": []
  },
  {
   "cell_type": "code",
   "execution_count": null,
   "id": "cc36a867-f01b-4384-a9f1-3ddbe23ed72f",
   "metadata": {},
   "outputs": [],
   "source": []
  },
  {
   "cell_type": "code",
   "execution_count": null,
   "id": "800aab6d-237a-4d0d-a728-023ef92a9205",
   "metadata": {},
   "outputs": [],
   "source": []
  },
  {
   "cell_type": "code",
   "execution_count": null,
   "id": "54e8f04f-6c7f-4ecd-a3fb-f8f6254860e2",
   "metadata": {},
   "outputs": [],
   "source": []
  }
 ],
 "metadata": {
  "kernelspec": {
   "display_name": "Python 3 (ipykernel)",
   "language": "python",
   "name": "python3"
  },
  "language_info": {
   "codemirror_mode": {
    "name": "ipython",
    "version": 3
   },
   "file_extension": ".py",
   "mimetype": "text/x-python",
   "name": "python",
   "nbconvert_exporter": "python",
   "pygments_lexer": "ipython3",
   "version": "3.11.5"
  }
 },
 "nbformat": 4,
 "nbformat_minor": 5
}
