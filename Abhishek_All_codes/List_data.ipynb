{
 "cells": [
  {
   "cell_type": "code",
   "execution_count": 11,
   "id": "aec21cf3-a3c8-42b0-8325-b8cc81f03053",
   "metadata": {},
   "outputs": [
    {
     "name": "stdout",
     "output_type": "stream",
     "text": [
      "[(-7, -6), (-6, 0), (0, 3), (3, 7)]\n",
      "1\n"
     ]
    }
   ],
   "source": [
    "from typing import List\n",
    "\n",
    "def minDiff(n : int, arr : List[int]):\n",
    "    d=[]\n",
    "    arr.sort()\n",
    "    diff = float('inf')\n",
    "    for i in range(1,len(arr)):\n",
    "        df=abs(arr[i]-arr[i-1])\n",
    "\n",
    "        d.append((arr[i-1],arr[i]))\n",
    "        diff=min(diff,df)\n",
    "    print(d)\n",
    "    print(diff)\n",
    "n=5\n",
    "arr=[3,-6,7,-7,0]\n",
    "minDiff(n,arr)"
   ]
  },
  {
   "cell_type": "code",
   "execution_count": 15,
   "id": "28cd81f0-5958-4289-9d7a-ab8a3eca7f51",
   "metadata": {},
   "outputs": [
    {
     "name": "stdout",
     "output_type": "stream",
     "text": [
      "[[0, 1, 2, 3, 4], [0, 1, 2, 3, 4], [0, 1, 2, 3, 4], [0, 1, 2, 3, 4], [0, 1, 2, 3, 4]]\n"
     ]
    }
   ],
   "source": [
    "matrix=[]\n",
    "for i in range(5):\n",
    "    matrix.append([])\n",
    "    for j in range(5):\n",
    "        matrix[i].append(j)\n",
    "print(matrix)"
   ]
  },
  {
   "cell_type": "code",
   "execution_count": 11,
   "id": "202c729c-c1b3-462c-8824-ee5e53aacd86",
   "metadata": {},
   "outputs": [
    {
     "name": "stdout",
     "output_type": "stream",
     "text": [
      "['abhi', 'bhargav', 'vamsi', 'shankar', 'sai', 'revi', 'shiva']\n",
      "['abhi', 'vagrahb', 'vamsi', 'raknahs', 'sai', 'iver', 'shiva']\n"
     ]
    }
   ],
   "source": [
    "a='abhi bhargav vamsi shankar sai revi shiva'\n",
    "b=a.split()\n",
    "print(b)\n",
    "for i in range(len(b)):\n",
    "    if i%2!=0:\n",
    "        b[i] = b[i][::-1]\n",
    "print(b)"
   ]
  },
  {
   "cell_type": "code",
   "execution_count": 16,
   "id": "a1bc3c26-13b8-457e-b2fb-96767c704425",
   "metadata": {},
   "outputs": [
    {
     "name": "stdout",
     "output_type": "stream",
     "text": [
      "['www.facebook.com', 'name=rajiv&gender=male']\n",
      "['name=rajiv', 'gender=male']\n",
      "['name', 'rajiv']\n",
      "['gender', 'male']\n",
      "{'name': 'rajiv', 'gender': 'male'}\n"
     ]
    }
   ],
   "source": [
    "A=\"www.facebook.com?name=rajiv&gender=male\"\n",
    "\n",
    "b= A.split('?')\n",
    "print(b)\n",
    "b=b[1].split('&')\n",
    "print(b)\n",
    "b1=b[0].split('=')\n",
    "print(b1)\n",
    "b2=b[1].split('=')\n",
    "print(b2)\n",
    "det={}\n",
    "det [b1[0]]=b1[1]\n",
    "det [b2[0]]=b2[1]\n",
    "print(det)"
   ]
  },
  {
   "cell_type": "code",
   "execution_count": 19,
   "id": "09938b16-45fd-48c2-a96a-ec2166c69033",
   "metadata": {},
   "outputs": [
    {
     "name": "stdout",
     "output_type": "stream",
     "text": [
      "['http:abc.com', 'name', 'vasu', 'deg', '20']\n",
      "{'name': 'vasu', 'deg': '20'}\n"
     ]
    }
   ],
   "source": [
    "a='http:abc.com?name?vasu?deg?20'\n",
    "a=a.split('?')\n",
    "print(a)\n",
    "sa={}\n",
    "sa[a[1]]=a[2]\n",
    "sa[a[3]]=a[4]\n",
    "print(sa)\n"
   ]
  },
  {
   "cell_type": "code",
   "execution_count": 22,
   "id": "867cd155-8878-4f2e-a446-b430f6359dc3",
   "metadata": {},
   "outputs": [
    {
     "name": "stdout",
     "output_type": "stream",
     "text": [
      "{'q': 1, 's': 9, 'd': 8, 'f': 7, 'g': 8, 'h': 7, 'j': 7, 'k': 2, 'v': 1, 'a': 1, 'r': 1, 't': 1, 'y': 1, 'u': 1, 'i': 1}\n"
     ]
    }
   ],
   "source": [
    "s='qsdfghjkjhgfdsssdfvghjhgfdssdfghjkjhgfdsasdrtgyujijhgfds'\n",
    "\n",
    "di = {}\n",
    "for i in s:\n",
    "    if i not in di.keys():\n",
    "        di[i]=1\n",
    "    else:\n",
    "        di[i]+=1\n",
    "print(di)"
   ]
  },
  {
   "cell_type": "code",
   "execution_count": 24,
   "id": "86e9d2b8-bee9-451c-9b96-a454166b947f",
   "metadata": {},
   "outputs": [
    {
     "name": "stdout",
     "output_type": "stream",
     "text": [
      "['S001', 'S002', 'S001', 'S005', 'S005', 'S009', 'S007']\n",
      "{'S005', 'S002', 'S009', 'S007', 'S001'}\n"
     ]
    }
   ],
   "source": [
    "l = [{\"V\": \"S001\"}, {\"V\": \"S002\"}, {\"VI\": \"S001\"}, {\"VI\": \"S005\"}, {\"VII\": \"S005\"}, {\"V\": \"S009\"}, {\"VIII\": \"S007\"}]\n",
    "\n",
    "l1=[]\n",
    "for i in l:\n",
    "    for j in i.values():\n",
    "        l1.append(j)\n",
    "print(l1)\n",
    "print(set(l1))"
   ]
  },
  {
   "cell_type": "code",
   "execution_count": 26,
   "id": "f44c6744-4aca-4442-b80f-eafeb62d4211",
   "metadata": {},
   "outputs": [
    {
     "name": "stdout",
     "output_type": "stream",
     "text": [
      "[[0, 1, 2], [3, 4, 5], [0, 1, 8]]\n"
     ]
    }
   ],
   "source": [
    "Input_list = [[0, 1, 2], [3, 4, 5], [0, 1, 8]]\n",
    "out_list= [i for i in Input_list]\n",
    "print(out_list)"
   ]
  },
  {
   "cell_type": "code",
   "execution_count": 43,
   "id": "7c4522ed-30b3-4672-9531-a2a1c0fbd87b",
   "metadata": {},
   "outputs": [
    {
     "name": "stdout",
     "output_type": "stream",
     "text": [
      "[[0, 1, 2], [3, 4, 5], [0, 1, 8]]\n",
      "[0, 1, 2, 3, 4, 5, 0, 1, 8]\n"
     ]
    }
   ],
   "source": [
    "Input_list = [[0, 1, 2], [3, 4, 5], [0, 1, 8]]\n",
    "out=[]\n",
    "for x in range(len(Input_list)):\n",
    "    data =[]\n",
    "    for j in Input_list[x]:\n",
    "        data.append(j)\n",
    "    out.append(data)\n",
    "    day = [b for a in out for b in a]\n",
    "print(out)\n",
    "print(day)"
   ]
  },
  {
   "cell_type": "code",
   "execution_count": null,
   "id": "224fe741-7b0c-4d37-b83a-5ebe47634a42",
   "metadata": {},
   "outputs": [],
   "source": []
  },
  {
   "cell_type": "code",
   "execution_count": 8,
   "id": "14a17b2b-a832-4bc3-bab9-b50562b63014",
   "metadata": {},
   "outputs": [
    {
     "name": "stdout",
     "output_type": "stream",
     "text": [
      "76\n"
     ]
    }
   ],
   "source": [
    "# find the maximum value in the list \n",
    "\n",
    "a = [10, 24, 76, 23, 12]\n",
    "large = a[0]\n",
    "for i in a:\n",
    "    if i > large:\n",
    "        large = i\n",
    "print(large)"
   ]
  },
  {
   "cell_type": "code",
   "execution_count": 15,
   "id": "c8c27b38-c1d1-421a-ab6b-9b0eb54f84c3",
   "metadata": {},
   "outputs": [
    {
     "name": "stdout",
     "output_type": "stream",
     "text": [
      "76\n"
     ]
    }
   ],
   "source": [
    "# find the maximum value in the list \n",
    "\n",
    "\n",
    "from functools import reduce \n",
    "\n",
    "a = [10, 24, 76, 23, 12]\n",
    "data = reduce(lambda x,y: x if x>y else y,a)\n",
    "print(data)"
   ]
  },
  {
   "cell_type": "code",
   "execution_count": 20,
   "id": "ebc16bfd-df2c-4b8b-8ebc-1eeb0270fb2b",
   "metadata": {},
   "outputs": [
    {
     "name": "stdout",
     "output_type": "stream",
     "text": [
      "[12, 24, 76, 23, 10]\n"
     ]
    }
   ],
   "source": [
    "# swap the first and last items in the list \n",
    "\n",
    "def swaplist(nums):\n",
    "    data = len(nums)\n",
    "    temp = nums[0]\n",
    "    nums[0] = nums[data-1]\n",
    "    nums[data-1] =temp\n",
    "    return nums\n",
    "nums =  [10, 24, 76, 23, 12]\n",
    "\n",
    "print(swaplist(nums))"
   ]
  },
  {
   "cell_type": "code",
   "execution_count": 21,
   "id": "0b298b84-9d48-4f52-b2b1-0e78a2fa83a7",
   "metadata": {},
   "outputs": [
    {
     "name": "stdout",
     "output_type": "stream",
     "text": [
      "[12, 24, 76, 23, 10]\n"
     ]
    }
   ],
   "source": [
    "# swap the first element and last element in the list \n",
    "\n",
    "nums =  [10, 24, 76, 23, 12]\n",
    "\n",
    "nums[0], nums[-1] = nums[-1], nums[0]\n",
    "print(nums)"
   ]
  },
  {
   "cell_type": "code",
   "execution_count": 22,
   "id": "7b5dca28-b2db-4928-a48a-454d6d1647ad",
   "metadata": {},
   "outputs": [
    {
     "name": "stdout",
     "output_type": "stream",
     "text": [
      "it exists\n"
     ]
    }
   ],
   "source": [
    "# Value in the list is available or not \n",
    "\n",
    "a = [10, 20, 30, 40, 50]\n",
    "\n",
    "data = 30 \n",
    "flag = False \n",
    "for i in a:\n",
    "    if i == data:\n",
    "        flag = True \n",
    "        break \n",
    "if flag:\n",
    "    print(\"it exists\")\n",
    "else:\n",
    "    print(\"it not exists\")"
   ]
  },
  {
   "cell_type": "code",
   "execution_count": 28,
   "id": "362a6f36-6c91-4c40-bddd-33917f7de370",
   "metadata": {},
   "outputs": [
    {
     "name": "stdout",
     "output_type": "stream",
     "text": [
      "True\n"
     ]
    }
   ],
   "source": [
    "# Value in the list is available or not \n",
    "\n",
    "\n",
    "\n",
    "def fun(a):\n",
    "    data = 30 \n",
    "    flag = False\n",
    "    for i in a:\n",
    "        if i == data:\n",
    "            flag = True\n",
    "            break\n",
    "    if flag:\n",
    "        return flag \n",
    "    else:\n",
    "        return empty\n",
    "a = [10, 20, 30, 40, 50]\n",
    "\n",
    "print(fun(a))"
   ]
  },
  {
   "cell_type": "code",
   "execution_count": 31,
   "id": "bc3df88b-b6db-45ef-9d15-96d6beb5d560",
   "metadata": {},
   "outputs": [
    {
     "name": "stdout",
     "output_type": "stream",
     "text": [
      "[5, 4, 3, 2, 1]\n"
     ]
    }
   ],
   "source": [
    "# reverse the string in the list\n",
    "\n",
    "a = [1, 2, 3, 4, 5]\n",
    "b= []\n",
    "for i in a:\n",
    "    b.insert(0,i)\n",
    "print(b)"
   ]
  },
  {
   "cell_type": "code",
   "execution_count": 37,
   "id": "12def48e-8d77-4841-9aeb-8e13e088d8f4",
   "metadata": {},
   "outputs": [
    {
     "name": "stdout",
     "output_type": "stream",
     "text": [
      "[5, 4, 3, 2, 1]\n"
     ]
    }
   ],
   "source": [
    "# reverse the string in the list\n",
    "\n",
    "\n",
    "a = [1, 2, 3, 4, 5]\n",
    "b=[]\n",
    "for i in range(len(a)-1,-1,-1):\n",
    "    b.append(a[i])\n",
    "print(b)"
   ]
  },
  {
   "cell_type": "code",
   "execution_count": 38,
   "id": "e8e57530-37a0-4764-9cd4-584037005909",
   "metadata": {},
   "outputs": [
    {
     "name": "stdout",
     "output_type": "stream",
     "text": [
      "15\n"
     ]
    }
   ],
   "source": [
    "# sum of all values in list \n",
    "\n",
    "\n",
    "a = [1, 2, 3, 4, 5]\n",
    "\n",
    "b = 0\n",
    "for i in a:\n",
    "    b+= i\n",
    "print(b)"
   ]
  },
  {
   "cell_type": "code",
   "execution_count": 42,
   "id": "29dd1875-6a58-4798-89ea-18f91efe1a27",
   "metadata": {},
   "outputs": [
    {
     "name": "stdout",
     "output_type": "stream",
     "text": [
      "[1, 2, 3, 4, 5, 6]\n",
      "[1, 2, 3, 4, 5, 6]\n"
     ]
    }
   ],
   "source": [
    "# concatinate the 2 lists in 1 \n",
    "\n",
    "\n",
    "a = [1, 2, 3]\n",
    "b = [4, 5, 6]\n",
    "\n",
    "c= a+b\n",
    "print(c)\n",
    "\n",
    "a.extend(b)\n",
    "print(a)\n",
    "\n"
   ]
  },
  {
   "cell_type": "code",
   "execution_count": 69,
   "id": "898a925c-454c-458a-9e42-50709de79f05",
   "metadata": {},
   "outputs": [
    {
     "name": "stdout",
     "output_type": "stream",
     "text": [
      "['V', 'V', 'VI', 'VI', 'VII', 'V', 'VIII']\n",
      "['S001', 'S002', 'S001', 'S005', 'S005', 'S009', 'S007']\n"
     ]
    }
   ],
   "source": [
    "l = [{\"V\": \"S001\"}, {\"V\": \"S002\"}, {\"VI\": \"S001\"}, {\"VI\": \"S005\"}, {\"VII\": \"S005\"}, {\"V\": \"S009\"}, {\"VIII\": \"S007\"}]\n",
    "a = []\n",
    "b = []\n",
    "\n",
    "for i in l:\n",
    "    for j,k in i.items():\n",
    "        a.append(j)\n",
    "        b.append(k)\n",
    "print(a)\n",
    "print(b)\n",
    "\n"
   ]
  },
  {
   "cell_type": "code",
   "execution_count": 68,
   "id": "eb5391c0-e490-4cde-97c6-1752e8d1d971",
   "metadata": {},
   "outputs": [
    {
     "name": "stdout",
     "output_type": "stream",
     "text": [
      "['S001', 'S001', 'S002', 'S005', 'S005', 'S007', 'S009']\n"
     ]
    }
   ],
   "source": [
    "b= ['S001', 'S002', 'S001', 'S005', 'S005', 'S009', 'S007']\n",
    "for m in range(len(b)):\n",
    "    for n in range(len(b)-1):\n",
    "        if b[n]>b[n+1]:\n",
    "            b[n], b[n+1] = b[n+1],b[n]\n",
    "print(b)"
   ]
  },
  {
   "cell_type": "code",
   "execution_count": 70,
   "id": "d95cd5d1-32de-436c-9d13-bf653944402a",
   "metadata": {},
   "outputs": [
    {
     "name": "stdout",
     "output_type": "stream",
     "text": [
      "[1, 2, 4, 5]\n",
      "['abc', 'is', 'jsd']\n"
     ]
    }
   ],
   "source": [
    "l = [1, 2, 'abc', 'is', 4, 5, 'jsd']\n",
    "a = []\n",
    "b = []\n",
    "for i in l:\n",
    "    if type(i) == int:\n",
    "        a.append(i)\n",
    "    else:\n",
    "        b.append(i)\n",
    "print(a)\n",
    "print(b)"
   ]
  },
  {
   "cell_type": "code",
   "execution_count": 82,
   "id": "694922fc-891b-43cc-af80-d6c0823d1d09",
   "metadata": {},
   "outputs": [
    {
     "name": "stdout",
     "output_type": "stream",
     "text": [
      "[0, 2, 3, 3, 4, 4, 5, 5, 5, 5, 5, 5, 5, 6, 7, 9, 21, 23, 23, 34, 44, 55, 56, 65, 78, 86, 87, 89, 98, 343, 654, 789, 57432345]\n",
      "[21, 23, 56, 78, 9, 0, 98, 89, 789, 87, 654, 57432345, 34, 343, 4, 5, 6, 7, 86, 55, 3, 2, 44, 65]\n"
     ]
    }
   ],
   "source": [
    "list=[21,23,56,78,9,0,98,89,789,87,654,57432345,34,343,23,4,5,6,7,86,5,55,5,4,3,2,3,44,5,5,5,5,65]\n",
    "a = []\n",
    "for i in list:\n",
    "    if i not in a:\n",
    "        a.append(i)\n",
    "for j in range(len(list)):\n",
    "    for k in range(len(list)-1):\n",
    "        if list[k]>list[k+1]:\n",
    "            list[k],list[k+1] = list[k+1],list[k]\n",
    "print(list)\n",
    "print(a)"
   ]
  },
  {
   "cell_type": "code",
   "execution_count": 99,
   "id": "0b32f0e9-507f-4f57-bc1a-e4876226386e",
   "metadata": {},
   "outputs": [
    {
     "name": "stdout",
     "output_type": "stream",
     "text": [
      "['a', 'b', 'c', 'd', 'e', 'f']\n",
      "fedcba\n"
     ]
    }
   ],
   "source": [
    "a = 'abcdef'\n",
    "a = list(a)\n",
    "b =len(a) - 1\n",
    "for i in range(len(a)):\n",
    "    if i < b:\n",
    "        a[i],a[b] = a[b], a[i]\n",
    "        b -= 1\n",
    "print(''.join(a))\n",
    "print(b)"
   ]
  },
  {
   "cell_type": "code",
   "execution_count": 102,
   "id": "870f9187-f807-418c-95fe-71ceb82bd85c",
   "metadata": {},
   "outputs": [
    {
     "name": "stdout",
     "output_type": "stream",
     "text": [
      "['1505', '1540', '1575', '1610', '1645', '1680', '1715', '1750', '1785', '1820', '1855', '1890', '1925', '1960', '1995', '2030', '2065', '2100', '2135', '2170', '2205', '2240', '2275', '2310', '2345', '2380', '2415', '2450', '2485', '2520', '2555', '2590', '2625', '2660', '2695']\n",
      "1505,1540,1575,1610,1645,1680,1715,1750,1785,1820,1855,1890,1925,1960,1995,2030,2065,2100,2135,2170,2205,2240,2275,2310,2345,2380,2415,2450,2485,2520,2555,2590,2625,2660,2695\n"
     ]
    }
   ],
   "source": [
    "n = []\n",
    "for i in range(1500,2701):\n",
    "    if i % 7 == 0 and i % 5 == 0:\n",
    "        n.append(str(i))\n",
    "print(n)\n",
    "print(','.join(n))"
   ]
  },
  {
   "cell_type": "code",
   "execution_count": 7,
   "id": "7abe06ca-e942-47f5-8391-45630ffd9a34",
   "metadata": {},
   "outputs": [
    {
     "name": "stdout",
     "output_type": "stream",
     "text": [
      "4\n",
      "[1, 3, 5, 7, 9]\n"
     ]
    }
   ],
   "source": [
    "numbers = (1, 2, 3, 4, 5, 6, 7, 8, 9) \n",
    "count= 0\n",
    "data = []\n",
    "for i in numbers:\n",
    "    if i % 2 == 0:\n",
    "        count +=1\n",
    "    else:\n",
    "        data.append(i)\n",
    "print(count)\n",
    "print(data)"
   ]
  },
  {
   "cell_type": "code",
   "execution_count": 108,
   "id": "a814f41b-7be6-4b0a-ae5b-ead3472568cb",
   "metadata": {},
   "outputs": [
    {
     "name": "stdout",
     "output_type": "stream",
     "text": [
      "0\n",
      "1\n",
      "2\n",
      "4\n",
      "5\n",
      "7\n"
     ]
    }
   ],
   "source": [
    "num = [0,1,2,3,4,5,6,7]\n",
    "\n",
    "for i in num:\n",
    "    if (i == 3 or i == 6):\n",
    "        continue\n",
    "    else:\n",
    "        print(i)"
   ]
  },
  {
   "cell_type": "code",
   "execution_count": 110,
   "id": "e89b58f1-fb6b-45fb-8211-5b4220b9fffb",
   "metadata": {},
   "outputs": [
    {
     "name": "stdout",
     "output_type": "stream",
     "text": [
      "100\n"
     ]
    }
   ],
   "source": [
    "def sum_of_list(nums):\n",
    "    data = 0\n",
    "    for i in nums:\n",
    "        data+=i\n",
    "    return data\n",
    "nums =[10,20,30,40]\n",
    "print(sum_of_list(nums))"
   ]
  },
  {
   "cell_type": "code",
   "execution_count": 115,
   "id": "1c077d66-42e8-45a8-9a6b-2a9c84551f61",
   "metadata": {},
   "outputs": [
    {
     "name": "stdout",
     "output_type": "stream",
     "text": [
      "24\n"
     ]
    }
   ],
   "source": [
    "def multiple(nums):\n",
    "    data = 1\n",
    "    for i in nums:\n",
    "        data = data*i\n",
    "    return data\n",
    "nums =[1,2,3,4]\n",
    "print(multiple(nums))"
   ]
  },
  {
   "cell_type": "code",
   "execution_count": 119,
   "id": "e0e6d579-e979-48ee-80ca-6015bfd0ff13",
   "metadata": {},
   "outputs": [
    {
     "name": "stdout",
     "output_type": "stream",
     "text": [
      "40\n"
     ]
    }
   ],
   "source": [
    "def max_in_list(nums):\n",
    "    max=nums[0]\n",
    "    for i in nums:\n",
    "        if i > max:\n",
    "            max = i\n",
    "    return max\n",
    "nums =[10,20,30,40]\n",
    "print(max_in_list(nums))"
   ]
  },
  {
   "cell_type": "code",
   "execution_count": 121,
   "id": "f4c6f07a-60b2-41a1-ab06-d9a79a2f224c",
   "metadata": {},
   "outputs": [
    {
     "name": "stdout",
     "output_type": "stream",
     "text": [
      "10\n"
     ]
    }
   ],
   "source": [
    "def min_in_list(nums):\n",
    "    min = nums[0]\n",
    "    for i in nums:\n",
    "        if i < min:\n",
    "            min = i\n",
    "    return min\n",
    "nums =[10,20,30,40]\n",
    "print(min_in_list(nums))"
   ]
  },
  {
   "cell_type": "code",
   "execution_count": 137,
   "id": "e598992f-fd14-4eb9-89f6-a8c65dfdea67",
   "metadata": {},
   "outputs": [
    {
     "name": "stdout",
     "output_type": "stream",
     "text": [
      "2\n"
     ]
    }
   ],
   "source": [
    "def matched_words(words):\n",
    "    count = 0\n",
    "    for i in words:\n",
    "        if len(i)>1 and i[0] == i[-1]:\n",
    "            count +=1\n",
    "    return count\n",
    "\n",
    "words = ['abc', 'aba','122221']\n",
    "print(matched_words(words))"
   ]
  },
  {
   "cell_type": "code",
   "execution_count": 169,
   "id": "54f0898d-772d-464a-89d1-896df829fcc4",
   "metadata": {},
   "outputs": [
    {
     "name": "stdout",
     "output_type": "stream",
     "text": [
      "[(2, 1), (1, 2), (2, 3), (4, 4), (2, 5)]\n"
     ]
    }
   ],
   "source": [
    "l = [(2, 5), (1, 2), (4, 4), (2, 3), (2, 1)]\n",
    "a = []\n",
    "a=[i[1] for i in l]\n",
    "b= sorted(a)\n",
    "data = []\n",
    "for j in b:\n",
    "    for k in l: \n",
    "        if k[1] == j and k not in data:\n",
    "            data.append(k)\n",
    "print(data)\n",
    "            \n"
   ]
  },
  {
   "cell_type": "code",
   "execution_count": 181,
   "id": "82692c03-6133-4b33-a6eb-b883ff2296f1",
   "metadata": {},
   "outputs": [
    {
     "name": "stdout",
     "output_type": "stream",
     "text": [
      "[10, 20, 30, 50, 60, 40, 80]\n"
     ]
    }
   ],
   "source": [
    "a = [10, 20, 30, 20, 10, 50, 60, 40, 80, 50, 40]\n",
    "b = []\n",
    "for i in a:\n",
    "    if i not in b:\n",
    "        b.append(i)\n",
    "print(b)"
   ]
  },
  {
   "cell_type": "code",
   "execution_count": 183,
   "id": "c40988d8-3aed-42b2-a63f-0104908e52ae",
   "metadata": {},
   "outputs": [
    {
     "name": "stdout",
     "output_type": "stream",
     "text": [
      "['quick', 'brown', 'jumps', 'over', 'lazy']\n"
     ]
    }
   ],
   "source": [
    "\n",
    "# Write a Python program to find the list of words that are longer than n from a given list of words.\n",
    "\n",
    "def long_words(n,str):\n",
    "    data = []\n",
    "    day = str.split(' ')\n",
    "    for i in day:\n",
    "        if len(i) > n:\n",
    "            data.append(i)\n",
    "    return data\n",
    "\n",
    "n = 3\n",
    "str = \"The quick brown fox jumps over the lazy dog\"\n",
    "print(long_words(n,str))"
   ]
  },
  {
   "cell_type": "code",
   "execution_count": 186,
   "id": "36342fcb-6903-4082-86d7-06a7e1250105",
   "metadata": {},
   "outputs": [
    {
     "name": "stdout",
     "output_type": "stream",
     "text": [
      "True\n"
     ]
    }
   ],
   "source": [
    "# Write a Python function that takes two lists and returns True if they have at least one common member.\n",
    "\n",
    "def eleminate_common_numbers(list1,list2):\n",
    "    flag = False\n",
    "    for i in list1:\n",
    "        for j in list2:\n",
    "            if i == j:\n",
    "                flag = True\n",
    "                return flag\n",
    "list1 = [1, 2, 3, 4, 5]\n",
    "list2 = [5, 6, 7, 8, 9]\n",
    "print(eleminate_common_numbers(list1,list2))"
   ]
  },
  {
   "cell_type": "code",
   "execution_count": 197,
   "id": "b8a6543f-fe4c-4fce-b2a5-45184d6f076b",
   "metadata": {},
   "outputs": [
    {
     "name": "stdout",
     "output_type": "stream",
     "text": [
      "[5]\n"
     ]
    }
   ],
   "source": [
    "# find the common value in the 2 lists\n",
    "\n",
    "\n",
    "def eleminate_common_numbers(list1,list2):\n",
    "    a = []\n",
    "    for i in list1:\n",
    "        for j in list2:\n",
    "            if i == j:\n",
    "                a.append(i)\n",
    "                return a\n",
    "list1 = [1, 2, 3, 4, 5]\n",
    "list2 = [5, 6, 7, 8, 9]\n",
    "print(eleminate_common_numbers(list1,list2))"
   ]
  },
  {
   "cell_type": "code",
   "execution_count": 215,
   "id": "a211cc2c-ad28-476a-bf05-46394f198a9a",
   "metadata": {},
   "outputs": [
    {
     "name": "stdout",
     "output_type": "stream",
     "text": [
      "[1, 2, 3, 4, 6, 7, 8, 9]\n"
     ]
    }
   ],
   "source": [
    "def eleminate_uncommon_numbers(list1,list2):\n",
    "    a=[]\n",
    "    b = []\n",
    "    for i in list1:\n",
    "        if i not in list2:\n",
    "            a.append(i)\n",
    "    for j in list2:\n",
    "        if j not in list1:\n",
    "            b.append(j)\n",
    "    return a+b\n",
    " \n",
    "list1 = [1, 2, 3, 4, 5]\n",
    "list2 = [5, 6, 7, 8, 9]\n",
    "print(eleminate_uncommon_numbers(list1,list2))"
   ]
  },
  {
   "cell_type": "code",
   "execution_count": null,
   "id": "ebe07d3a-a9a7-4694-b820-a3e7ef35faff",
   "metadata": {},
   "outputs": [],
   "source": [
    "def eleminate_uncommon_numbers(list1,list2):\n",
    "    uncommon = [i for i in list1 if i not in list2] + [j for j in list2 if j not in list1]\n",
    "    return uncommon \n",
    "list1 = [1, 2, 3, 4, 5]\n",
    "list2 = [5, 6, 7, 8, 9]\n",
    "print(eleminate_uncommon_numbers(list1,list2))"
   ]
  },
  {
   "cell_type": "code",
   "execution_count": 1,
   "id": "e617c8df-eb8d-4bf3-9d98-c0f2941cf5a1",
   "metadata": {},
   "outputs": [
    {
     "name": "stdout",
     "output_type": "stream",
     "text": [
      "[8, 120, 44, 20]\n"
     ]
    }
   ],
   "source": [
    "def remove_even_nums(nums):\n",
    "    a= []\n",
    "    for i in nums:\n",
    "        if i % 2 ==0:\n",
    "            a.append(i)\n",
    "    return a\n",
    "nums = [7, 8, 120, 25, 44, 20, 27]\n",
    "print(remove_even_nums(nums))"
   ]
  },
  {
   "cell_type": "code",
   "execution_count": 2,
   "id": "f17bf716-888f-4a01-bc94-1853f4af9bb5",
   "metadata": {},
   "outputs": [
    {
     "name": "stdout",
     "output_type": "stream",
     "text": [
      "1\n"
     ]
    }
   ],
   "source": [
    "nums = [-4,-2,-1,4,8]\n",
    "min = abs(nums[0])\n",
    "for i in nums:\n",
    "    data = abs(i)\n",
    "    if data < min:\n",
    "        min = data\n",
    "print(min)"
   ]
  },
  {
   "cell_type": "code",
   "execution_count": 9,
   "id": "c6f3a66b-e350-4d69-8a96-abc90260a136",
   "metadata": {},
   "outputs": [
    {
     "name": "stdout",
     "output_type": "stream",
     "text": [
      "-4\n"
     ]
    }
   ],
   "source": [
    "def min_value(nums):\n",
    "    min = nums[0]\n",
    "    for i in nums:\n",
    "        if i < min:\n",
    "            min = i\n",
    "            \n",
    "        return min\n",
    "nums = [-4,-2,1,4,8]\n",
    "print(min_value(nums))\n"
   ]
  },
  {
   "cell_type": "code",
   "execution_count": 5,
   "id": "81163176-1ebc-486c-a37b-d841de8d6c62",
   "metadata": {},
   "outputs": [
    {
     "name": "stdout",
     "output_type": "stream",
     "text": [
      "2\n"
     ]
    }
   ],
   "source": [
    "def absolute_min_value(nums):\n",
    "    min = abs(nums[0])\n",
    "    for i in nums:\n",
    "        data = abs(i)\n",
    "        if data< min:\n",
    "            min =data\n",
    "    return min\n",
    "nums = [-4,-2,4,8]\n",
    "print(absolute_min_value(nums))"
   ]
  },
  {
   "cell_type": "code",
   "execution_count": 4,
   "id": "f8011033-525a-4045-a3e3-464e880494fa",
   "metadata": {},
   "outputs": [
    {
     "name": "stdout",
     "output_type": "stream",
     "text": [
      "[2, 4, 3, 1, 5, 6, 9, 7, 9, 0]\n"
     ]
    }
   ],
   "source": [
    "a = [[2, 4, 3], [1, 5, 6], [9], [7, 9, 0]]\n",
    "b= []\n",
    "for i in a:\n",
    "    for j in i:\n",
    "        b.append(j)\n",
    "print(b)\n"
   ]
  },
  {
   "cell_type": "code",
   "execution_count": 7,
   "id": "3201c52e-bab4-4346-8d6d-49093d3de769",
   "metadata": {},
   "outputs": [
    {
     "name": "stdout",
     "output_type": "stream",
     "text": [
      "-2\n"
     ]
    }
   ],
   "source": [
    "def second_number(nums):\n",
    "    if len(nums)<2:\n",
    "        return \n",
    "    if len(nums) ==2 and num [0] == num[1]:\n",
    "        return\n",
    "    data = []\n",
    "    for i in nums:\n",
    "        if i not in data:\n",
    "            data.append(i)\n",
    "    data.sort()\n",
    "    return data[1]\n",
    "nums= [1, 2, -8, -2, 0, -2]\n",
    "print(second_number(nums))\n",
    "        "
   ]
  },
  {
   "cell_type": "code",
   "execution_count": 10,
   "id": "ce5d5c09-456a-409a-89b2-a4e2d1fdfc90",
   "metadata": {},
   "outputs": [
    {
     "name": "stdout",
     "output_type": "stream",
     "text": [
      "{10: 4, 20: 4, 40: 2, 50: 2, 30: 1}\n"
     ]
    }
   ],
   "source": [
    "my_list = [10, 10, 10, 10, 20, 20, 20, 20, 40, 40, 50, 50, 30]\n",
    "data= {}\n",
    "for i in my_list:\n",
    "    if i in data:\n",
    "        data[i] += 1  # Increment the count if number already exists\n",
    "    else:\n",
    "        data[i] = 1  # Initialize count for first occurrence\n",
    "\n",
    "print(data)"
   ]
  },
  {
   "cell_type": "code",
   "execution_count": 19,
   "id": "174ca3a6-f655-4edc-9e5d-e40355206995",
   "metadata": {},
   "outputs": [
    {
     "name": "stdout",
     "output_type": "stream",
     "text": [
      "[[1], [1, 2], [1, 2, 3], [2], [2, 3], [3]]\n"
     ]
    }
   ],
   "source": [
    "# list inside the sublist\n",
    "\n",
    "def sub_list(num):\n",
    "    data = []\n",
    "    for i in range(len(num)):\n",
    "        for j in range(i + 1, len(num) + 1):\n",
    "            data.append(num[i:j])\n",
    "    return data\n",
    "num =  [1, 2,3]\n",
    "print(sub_list(num))"
   ]
  },
  {
   "cell_type": "code",
   "execution_count": 11,
   "id": "e5bf49d4-235d-47ae-bffa-9cf28616b488",
   "metadata": {},
   "outputs": [
    {
     "name": "stdout",
     "output_type": "stream",
     "text": [
      "fl\n"
     ]
    }
   ],
   "source": [
    "def longest_common_prefix(s):\n",
    "    data = s[0]\n",
    "    for i in s:\n",
    "        while not i.startswith(data):\n",
    "            data = data[:-1]\n",
    "            if not data:\n",
    "                return ''\n",
    "    return data\n",
    "s=[\"flower\", \"flow\", \"flight\"]\n",
    "print(longest_common_prefix(s)) \n",
    "            "
   ]
  },
  {
   "cell_type": "code",
   "execution_count": 1,
   "id": "f8ddd82c-0a4b-402b-a8a1-31baf5c36f6f",
   "metadata": {},
   "outputs": [
    {
     "name": "stdout",
     "output_type": "stream",
     "text": [
      "13.5\n"
     ]
    }
   ],
   "source": [
    "d={\"A+\":4.0, \"A\" :3.5, \"A-\" :3.67, \"B+\" :3.33, \"B\" :3.0, \"B-\" :2.67,\n",
    "\"C+\" :2.33, \"C-\" :2.0, \"C\" :1.67, \"D+\" :1.33, \"D\" :1.0, \"F\" :0.0}\n",
    "a=['A+','C','D','F','B+','A']\n",
    "total = 0\n",
    "for i in a:\n",
    "    total += d[i]\n",
    "print(total)"
   ]
  },
  {
   "cell_type": "code",
   "execution_count": 2,
   "id": "11267f9d-271a-4de6-993b-4f6170a7cb8e",
   "metadata": {},
   "outputs": [
    {
     "name": "stdout",
     "output_type": "stream",
     "text": [
      "[{'vasu': '2'}, {'bhargav': '3'}, {'abhi': '1'}]\n"
     ]
    }
   ],
   "source": [
    "a=[\"vasu:2\",\"bhargav:3\",\"abhi:1\"]\n",
    "c=[]\n",
    "\n",
    "for i in a:\n",
    "    d={}\n",
    "    for j in i:\n",
    "        d[i.split(\":\")[0]]=i.split(\":\")[1]\n",
    "    c.append(d)\n",
    "print(c)"
   ]
  },
  {
   "cell_type": "code",
   "execution_count": 6,
   "id": "c9abf1ee-1bc1-4678-a9cf-a49096ed845e",
   "metadata": {},
   "outputs": [
    {
     "name": "stdout",
     "output_type": "stream",
     "text": [
      "[1, 2, 3, 4, 5, 6, 7]\n"
     ]
    }
   ],
   "source": [
    "a=[2,3,5,7,1,6,4]\n",
    "for i in range(len(a)-1):\n",
    "    for j in range(len(a)-i-1):\n",
    "        if a[j] > a[j+1]:\n",
    "            a[j],a[j+1] = a[j+1],a[j]\n",
    "print(a)\n"
   ]
  },
  {
   "cell_type": "code",
   "execution_count": 14,
   "id": "943a7f19-5945-48b5-be88-96ddd44463d3",
   "metadata": {},
   "outputs": [
    {
     "name": "stdout",
     "output_type": "stream",
     "text": [
      "2 6\n",
      "3 5\n",
      "7 1\n",
      "6 2\n"
     ]
    }
   ],
   "source": [
    "l=[2,3,5,7,6,1,2]\n",
    "\n",
    "for i in range(len(l)):\n",
    "    for j in range(i,len(l)):\n",
    "        if l[i]+l[j]==8:\n",
    "            print(l[i],l[j])\n"
   ]
  },
  {
   "cell_type": "code",
   "execution_count": 16,
   "id": "7b43ab52-67ff-4662-ad99-fbe0fd1c3ddc",
   "metadata": {},
   "outputs": [
    {
     "name": "stdout",
     "output_type": "stream",
     "text": [
      "[2, 3, 2, 3, 4, 3]\n",
      "['1', '2', '3', '1', '2', '3', '4', '3']\n"
     ]
    }
   ],
   "source": [
    "a=['1',2,'2',3,'3',2,'1','2','3',3,4,'4',3,'3']\n",
    "l=[]\n",
    "b=[]\n",
    "for i in a:\n",
    "    if type(i)==int:\n",
    "        l.append(i)\n",
    "    else:\n",
    "        b.append(i)\n",
    "print(l)\n",
    "print(b)"
   ]
  },
  {
   "cell_type": "code",
   "execution_count": 18,
   "id": "0f73b2b5-d9f6-42bf-bd16-ca28f0a9d073",
   "metadata": {},
   "outputs": [
    {
     "name": "stdout",
     "output_type": "stream",
     "text": [
      "[2, 3, 4, 5]\n"
     ]
    }
   ],
   "source": [
    "a = [1,2,3,4,5,6]\n",
    "b = [2,3,5,7,9,4]\n",
    "c = []\n",
    "for i in range(len(a)):\n",
    "    if i in b:\n",
    "        c.append(i)\n",
    "print(c)"
   ]
  },
  {
   "cell_type": "code",
   "execution_count": 7,
   "id": "ff9ba8c8-b1c1-4fac-935e-3799a3c1bd50",
   "metadata": {},
   "outputs": [
    {
     "name": "stdout",
     "output_type": "stream",
     "text": [
      "-2\n"
     ]
    }
   ],
   "source": [
    " # Find Closest Number to Zero\n",
    "\n",
    "s = [-4,-2,4,8]\n",
    "a= abs(s[0])\n",
    "for i in s:\n",
    "    if abs(i) < abs(a) or (abs(i) == abs(a) and i > a):\n",
    "        a = i\n",
    "print(a)"
   ]
  },
  {
   "cell_type": "code",
   "execution_count": 9,
   "id": "b599232c-8c86-44be-8483-91ab0a918f36",
   "metadata": {},
   "outputs": [
    {
     "name": "stdout",
     "output_type": "stream",
     "text": [
      "2\n"
     ]
    }
   ],
   "source": [
    "#  absolute min value in that minimum value not considered as negative value it provides only positives \n",
    "\n",
    "\n",
    "def absolute_min_value(nums):\n",
    "    min = abs(nums[0])\n",
    "    for i in nums:\n",
    "        data = abs(i)\n",
    "        if data< min:\n",
    "            min =data\n",
    "    return min\n",
    "nums = [-4,-2,4,8]\n",
    "print(absolute_min_value(nums))"
   ]
  },
  {
   "cell_type": "code",
   "execution_count": null,
   "id": "b7356337-f2fb-4993-a3c6-06f23191c04d",
   "metadata": {},
   "outputs": [],
   "source": []
  },
  {
   "cell_type": "code",
   "execution_count": null,
   "id": "08d82892-2e60-42f0-b96d-b6b5bd2e26d9",
   "metadata": {},
   "outputs": [],
   "source": []
  }
 ],
 "metadata": {
  "kernelspec": {
   "display_name": "Python 3",
   "language": "python",
   "name": "python3"
  },
  "language_info": {
   "codemirror_mode": {
    "name": "ipython",
    "version": 3
   },
   "file_extension": ".py",
   "mimetype": "text/x-python",
   "name": "python",
   "nbconvert_exporter": "python",
   "pygments_lexer": "ipython3",
   "version": "3.12.9"
  }
 },
 "nbformat": 4,
 "nbformat_minor": 5
}
