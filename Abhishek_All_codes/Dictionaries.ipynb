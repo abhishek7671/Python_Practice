{
 "cells": [
  {
   "cell_type": "code",
   "execution_count": 37,
   "id": "987a87fe-b745-4c63-8a70-f4a2dd9db8af",
   "metadata": {},
   "outputs": [
    {
     "name": "stdout",
     "output_type": "stream",
     "text": [
      "200\n",
      "key : a , values : 100\n",
      "key : b , values : 200\n",
      "key : c , values : 300\n"
     ]
    }
   ],
   "source": [
    "dic = {'a': 100, 'b':200, 'c':300}\n",
    "print(dic['b'])\n",
    "for i in dic.keys():\n",
    "    print(f'key : {i} , values : {dic[i]}')\n",
    "    "
   ]
  },
  {
   "cell_type": "code",
   "execution_count": 42,
   "id": "6e74cd85-34fd-4a9a-9965-c306590370cd",
   "metadata": {},
   "outputs": [
    {
     "name": "stdout",
     "output_type": "stream",
     "text": [
      "key a is empty\n"
     ]
    }
   ],
   "source": [
    "my_dict = {'a': '', 'b': [1, 2], 'c': None}\n",
    "\n",
    "data = 'a'\n",
    "if data in my_dict and not my_dict[data]:\n",
    "    print(f'key {data} is empty')\n",
    "else:\n",
    "    print(f'key {data} not empty')"
   ]
  },
  {
   "cell_type": "code",
   "execution_count": 2,
   "id": "c95ece38-7725-4966-b796-d2e8f0e7b405",
   "metadata": {},
   "outputs": [
    {
     "name": "stdin",
     "output_type": "stream",
     "text": [
      "enter the no of nums: 6\n"
     ]
    },
    {
     "name": "stdout",
     "output_type": "stream",
     "text": [
      "{1: 1, 2: 4, 3: 9, 4: 16, 5: 25, 6: 36}\n"
     ]
    }
   ],
   "source": [
    "n = int(input('enter the no of nums:'))\n",
    "d = {}\n",
    "for i in range(1,n+1):\n",
    "    d[i] = i*i\n",
    "\n",
    "print(d)\n",
    "    \n"
   ]
  },
  {
   "cell_type": "code",
   "execution_count": null,
   "id": "f8f088fc-2051-4883-a4a6-3690d81ba3d3",
   "metadata": {},
   "outputs": [],
   "source": []
  },
  {
   "cell_type": "code",
   "execution_count": null,
   "id": "49418723-0df2-41ef-a000-6f91a72aace4",
   "metadata": {},
   "outputs": [],
   "source": []
  },
  {
   "cell_type": "code",
   "execution_count": null,
   "id": "b74079f3-4bec-478b-9cb2-390a830f3036",
   "metadata": {},
   "outputs": [],
   "source": []
  },
  {
   "cell_type": "code",
   "execution_count": null,
   "id": "c6e57e7b-e4ad-40e2-86de-b07df6cbd909",
   "metadata": {},
   "outputs": [],
   "source": []
  },
  {
   "cell_type": "code",
   "execution_count": null,
   "id": "998d0920-bd4d-4188-ba8c-a78591d5c160",
   "metadata": {},
   "outputs": [],
   "source": []
  },
  {
   "cell_type": "code",
   "execution_count": null,
   "id": "4d7579ce-31ba-4fce-9d27-541f9709e56a",
   "metadata": {},
   "outputs": [],
   "source": []
  }
 ],
 "metadata": {
  "kernelspec": {
   "display_name": "Python 3 (ipykernel)",
   "language": "python",
   "name": "python3"
  },
  "language_info": {
   "codemirror_mode": {
    "name": "ipython",
    "version": 3
   },
   "file_extension": ".py",
   "mimetype": "text/x-python",
   "name": "python",
   "nbconvert_exporter": "python",
   "pygments_lexer": "ipython3",
   "version": "3.11.5"
  }
 },
 "nbformat": 4,
 "nbformat_minor": 5
}
