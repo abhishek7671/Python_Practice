{
 "cells": [
  {
   "cell_type": "code",
   "execution_count": 14,
   "id": "79cb982c-e436-42e9-bd0c-57dc37d23e81",
   "metadata": {},
   "outputs": [
    {
     "name": "stdout",
     "output_type": "stream",
     "text": [
      "olleh\n"
     ]
    }
   ],
   "source": [
    "# reverse the string:\n",
    "\n",
    "def reverse(s):\n",
    "    d= s[::-1]\n",
    "    return d\n",
    "s= \"hello\"\n",
    "print(reverse(s))"
   ]
  },
  {
   "cell_type": "code",
   "execution_count": 15,
   "id": "c7c807e6-16e1-40b3-abde-cbfdc74d52db",
   "metadata": {},
   "outputs": [
    {
     "name": "stdout",
     "output_type": "stream",
     "text": [
      "olleh\n"
     ]
    }
   ],
   "source": [
    "def reverse(s):\n",
    "    d = ''\n",
    "    for i in s:\n",
    "        d = i+d\n",
    "    return d\n",
    "s='hello'\n",
    "print(reverse(s))"
   ]
  },
  {
   "cell_type": "code",
   "execution_count": 25,
   "id": "de18a57c-608a-41c3-a3d2-447ce8957297",
   "metadata": {},
   "outputs": [
    {
     "name": "stdout",
     "output_type": "stream",
     "text": [
      "True\n"
     ]
    }
   ],
   "source": [
    "def palindrome(s):\n",
    "    left, right = 0, len(s)-1\n",
    "    while left > right:\n",
    "        if i[left]!= i[right]:\n",
    "            return False\n",
    "        left +=1\n",
    "        right -=1\n",
    "    return True\n",
    "\n",
    "s= 'amma'\n",
    "print(palindrome(s))\n",
    "\n",
    "         "
   ]
  },
  {
   "cell_type": "code",
   "execution_count": 26,
   "id": "a5f07b24-a5ce-4bbf-9c3c-99a06fe7ab82",
   "metadata": {},
   "outputs": [
    {
     "name": "stdout",
     "output_type": "stream",
     "text": [
      "True\n"
     ]
    }
   ],
   "source": [
    "def palindrome(s):\n",
    "    n = len(s)\n",
    "    for i in range(n//2):\n",
    "        if s[i] != s[n-i-1]:\n",
    "            return False\n",
    "    return True\n",
    "\n",
    "s='amma'\n",
    "print(palindrome(s))\n",
    "            "
   ]
  },
  {
   "cell_type": "code",
   "execution_count": 17,
   "id": "f4de7cef",
   "metadata": {},
   "outputs": [
    {
     "name": "stdout",
     "output_type": "stream",
     "text": [
      "{'a': 1, 't': 1, 's': 2, 'g': 1, 'f': 2, 'd': 2}\n"
     ]
    }
   ],
   "source": []
  },
  {
   "cell_type": "code",
   "execution_count": 1,
   "id": "06318248-c4bb-4c59-9e0a-8020a58792ee",
   "metadata": {},
   "outputs": [
    {
     "name": "stdout",
     "output_type": "stream",
     "text": [
      "b\n"
     ]
    }
   ],
   "source": [
    "# Find First Non-Repeating Character\n",
    "\n",
    "def non_repeated(s):\n",
    "    count = 0\n",
    "    for i in s:\n",
    "        if s.count(i) ==1:\n",
    "            return i\n",
    "            \n",
    "s='abrassatrtddaq'\n",
    "print(non_repeated(s))"
   ]
  },
  {
   "cell_type": "code",
   "execution_count": 1,
   "id": "afffdbdf-65f8-4b2d-8916-97990de243f0",
   "metadata": {},
   "outputs": [
    {
     "name": "stdout",
     "output_type": "stream",
     "text": [
      "6\n"
     ]
    }
   ],
   "source": [
    " # Longest Substring Without Repeating Characters\n",
    "\n",
    "def longest_non_repeated(s):\n",
    "    count =0\n",
    "    curr = ''\n",
    "    for i in s:\n",
    "        if i in curr:\n",
    "            curr = curr[curr.index(i) + 1:]\n",
    "        curr +=i\n",
    "        count = max(count,len(curr))\n",
    "    return count\n",
    "            \n",
    "s='abcdebcadf'\n",
    "print(longest_non_repeated(s))"
   ]
  },
  {
   "cell_type": "code",
   "execution_count": 18,
   "id": "c5a5b206",
   "metadata": {},
   "outputs": [
    {
     "name": "stdout",
     "output_type": "stream",
     "text": [
      "{'a': 1, 't': 1, 's': 2, 'g': 1, 'f': 2, 'd': 2}\n"
     ]
    }
   ],
   "source": [
    "# Count the frequency of each character in a string\n",
    "\n",
    "def char_frequency(s):\n",
    "    d={}\n",
    "    for i in s:\n",
    "        if i in d:\n",
    "            d[i] +=1\n",
    "        else:\n",
    "            d[i] =1\n",
    "    return d\n",
    "\n",
    "s='atsgfdsdf'\n",
    "print(char_frequency(s))"
   ]
  },
  {
   "cell_type": "code",
   "execution_count": 2,
   "id": "136c2203-3b7d-40f9-b161-c8858559488e",
   "metadata": {},
   "outputs": [
    {
     "name": "stdout",
     "output_type": "stream",
     "text": [
      "5\n"
     ]
    }
   ],
   "source": [
    "#  most common character\n",
    "\n",
    "def most_common_character(s):\n",
    "    d = {}\n",
    "    for i in s:\n",
    "        if i in d:\n",
    "            d[i]+=1\n",
    "        else:\n",
    "            d[i]=1\n",
    "            \n",
    "    max= 0\n",
    "    for j in d.values():\n",
    "        if j > max:\n",
    "            max = j \n",
    "            \n",
    "    return max\n",
    "\n",
    "s='abbabbba'\n",
    "print(most_common_character(s))"
   ]
  },
  {
   "cell_type": "code",
   "execution_count": 29,
   "id": "30ff421d",
   "metadata": {},
   "outputs": [
    {
     "name": "stdout",
     "output_type": "stream",
     "text": [
      "a3b3a3b3c3a3d3\n"
     ]
    }
   ],
   "source": [
    "def count_consecutive_chars(s):\n",
    "    data  = ''\n",
    "    count = 1\n",
    "    for i in range(1,len(s)):\n",
    "        if s[i] == s[i-1]:\n",
    "            count +=1\n",
    "        else:\n",
    "            data += s[i-1] + str(count)\n",
    "            count = 1\n",
    "    if s:\n",
    "        data += s[-1] + str(count)\n",
    "    return data\n",
    "\n",
    "s= 'aaabbbaaabbbcccaaaddd'\n",
    "print(count_consecutive_chars(s))\n",
    "            "
   ]
  },
  {
   "cell_type": "code",
   "execution_count": 25,
   "id": "c19ba7c3-7d5a-49a2-a11f-945e6e09fd42",
   "metadata": {},
   "outputs": [
    {
     "name": "stdout",
     "output_type": "stream",
     "text": [
      "sgdt\n"
     ]
    }
   ],
   "source": [
    "def remove_duplicates(s):\n",
    "    data = ''\n",
    "    d = []\n",
    "    for i in s:\n",
    "        if i not in d:\n",
    "            d.append(i)\n",
    "            data += i\n",
    "    return data\n",
    "\n",
    "s= 'sgdtsgsds'\n",
    "print(remove_duplicates(s))"
   ]
  },
  {
   "cell_type": "code",
   "execution_count": 26,
   "id": "6ced055e-bd75-43da-b096-1037c93d3f42",
   "metadata": {},
   "outputs": [
    {
     "name": "stdout",
     "output_type": "stream",
     "text": [
      "fl\n"
     ]
    }
   ],
   "source": [
    "def longest_common_prefix(s):\n",
    "    start = s[0]\n",
    "    for i in s[1:]:\n",
    "        while not i.startswith(start):\n",
    "            start = start[:-1]\n",
    "            if not start:\n",
    "                return \"\"\n",
    "    return start\n",
    "\n",
    "s=[\"flower\", \"flow\", \"flight\"]\n",
    "print(longest_common_prefix(s))            \n",
    "    \n",
    "    "
   ]
  },
  {
   "cell_type": "code",
   "execution_count": 1,
   "id": "613903c5-3b18-443e-aa7e-ef19e46e2c20",
   "metadata": {},
   "outputs": [
    {
     "name": "stdout",
     "output_type": "stream",
     "text": [
      "data\n"
     ]
    }
   ],
   "source": []
  },
  {
   "cell_type": "code",
   "execution_count": null,
   "id": "f96843f1-37eb-4b07-bb8f-57448e50c2f8",
   "metadata": {},
   "outputs": [],
   "source": []
  },
  {
   "cell_type": "code",
   "execution_count": null,
   "id": "7c370d85-8aa0-455b-8f41-5db1ce9972b0",
   "metadata": {},
   "outputs": [],
   "source": []
  },
  {
   "cell_type": "code",
   "execution_count": null,
   "id": "a51c6891",
   "metadata": {},
   "outputs": [],
   "source": []
  },
  {
   "cell_type": "code",
   "execution_count": null,
   "id": "ae060a0a",
   "metadata": {},
   "outputs": [],
   "source": []
  },
  {
   "cell_type": "code",
   "execution_count": null,
   "id": "acf3f384",
   "metadata": {},
   "outputs": [],
   "source": []
  }
 ],
 "metadata": {
  "kernelspec": {
   "display_name": "Python 3 (ipykernel)",
   "language": "python",
   "name": "python3"
  },
  "language_info": {
   "codemirror_mode": {
    "name": "ipython",
    "version": 3
   },
   "file_extension": ".py",
   "mimetype": "text/x-python",
   "name": "python",
   "nbconvert_exporter": "python",
   "pygments_lexer": "ipython3",
   "version": "3.12.9"
  }
 },
 "nbformat": 4,
 "nbformat_minor": 5
}
