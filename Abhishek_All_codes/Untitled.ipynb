{
 "cells": [
  {
   "cell_type": "markdown",
   "id": "1c2bd375-fd9b-40ff-b297-330e795f15a9",
   "metadata": {},
   "source": [
    "# STRING QUESTIONS\n"
   ]
  },
  {
   "cell_type": "code",
   "execution_count": 2,
   "id": "6de62948-f089-417d-b52e-51a6b8e7e722",
   "metadata": {},
   "outputs": [
    {
     "name": "stdout",
     "output_type": "stream",
     "text": [
      "reenigne atad\n"
     ]
    }
   ],
   "source": [
    "\n",
    "# reverse the string without any methods\n",
    "\n",
    "s= 'data engineer'\n",
    "d= ''\n",
    "for i in s:\n",
    "    d= i+d\n",
    "print(d)"
   ]
  },
  {
   "cell_type": "code",
   "execution_count": 17,
   "id": "8cca6aba-55dc-4872-b3fa-2fea39c6b9ce",
   "metadata": {},
   "outputs": [
    {
     "name": "stdout",
     "output_type": "stream",
     "text": [
      "b\n"
     ]
    }
   ],
   "source": [
    "# Find First Non-Repeating Character\n",
    "\n",
    "s='abrassatrtddaq'\n",
    "d = {}\n",
    "for i in s:\n",
    "    if i in d:\n",
    "        d[i] += 1\n",
    "    else:\n",
    "        d[i] = 1 \n",
    "\n",
    "for j in s:\n",
    "    if d[j] ==1:\n",
    "        print(j)\n",
    "        break\n",
    "        "
   ]
  },
  {
   "cell_type": "code",
   "execution_count": 31,
   "id": "495f5ef1-1ff3-4e73-8745-032eba28d55e",
   "metadata": {},
   "outputs": [
    {
     "name": "stdout",
     "output_type": "stream",
     "text": [
      "{'a': 4, 'b': 1, 'r': 2, 's': 2, 't': 2, 'd': 2, 'q': 1}\n",
      "most common character: a and its count: 4\n"
     ]
    }
   ],
   "source": [
    "#  find the most common character in string \n",
    "\n",
    "s='abrassatrtddaq'\n",
    "d = {}\n",
    "for i in s:\n",
    "    if i in d:\n",
    "        d[i] += 1\n",
    "    else:\n",
    "        d[i] = 1\n",
    "print(d)\n",
    "max_count = 0\n",
    "char  = ''\n",
    "for j,k in d.items():\n",
    "    if k > max_count:\n",
    "        max_count = k\n",
    "        char = j\n",
    "print(f'most common character: {char} and its count: {max_count}')"
   ]
  },
  {
   "cell_type": "code",
   "execution_count": null,
   "id": "34b6c66c-c267-459a-9d3c-33c9b58f9029",
   "metadata": {},
   "outputs": [],
   "source": []
  }
 ],
 "metadata": {
  "kernelspec": {
   "display_name": "Python 3 (ipykernel)",
   "language": "python",
   "name": "python3"
  },
  "language_info": {
   "codemirror_mode": {
    "name": "ipython",
    "version": 3
   },
   "file_extension": ".py",
   "mimetype": "text/x-python",
   "name": "python",
   "nbconvert_exporter": "python",
   "pygments_lexer": "ipython3",
   "version": "3.12.9"
  }
 },
 "nbformat": 4,
 "nbformat_minor": 5
}
