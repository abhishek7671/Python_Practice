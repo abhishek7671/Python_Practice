{
 "cells": [
  {
   "cell_type": "code",
   "execution_count": 2,
   "id": "a5bdd50b-c624-4459-b52e-f622f15bc1f9",
   "metadata": {},
   "outputs": [
    {
     "ename": "SyntaxError",
     "evalue": "invalid syntax (4079433061.py, line 1)",
     "output_type": "error",
     "traceback": [
      "\u001b[1;36m  Cell \u001b[1;32mIn[2], line 1\u001b[1;36m\u001b[0m\n\u001b[1;33m    OOPS Concepts all\u001b[0m\n\u001b[1;37m         ^\u001b[0m\n\u001b[1;31mSyntaxError\u001b[0m\u001b[1;31m:\u001b[0m invalid syntax\n"
     ]
    }
   ],
   "source": [
    "# OOPS Concepts all"
   ]
  },
  {
   "cell_type": "code",
   "execution_count": 19,
   "id": "ce3f233c-b2f7-46d7-9db5-7f6f15fa9cf2",
   "metadata": {},
   "outputs": [
    {
     "name": "stdout",
     "output_type": "stream",
     "text": [
      "12\n"
     ]
    }
   ],
   "source": [
    "# Python is an object oriented programming language.\n",
    "# A Class is like an object constructor, or a \"blueprint\" for creating objects.\n",
    "\n",
    "# __init_() function:\n",
    "# All classes have a function called __init__(), which is always executed when the class is being initiated.\n",
    "\n",
    "# class Person:\n",
    "#     def __init__(self, name, age):\n",
    "#         self.name = name\n",
    "#         self.age = age\n",
    "\n",
    "# p1 = Person('Ram',25)\n",
    "\n",
    "# print(p1.name)\n",
    "# print(p1.age)\n",
    "\n",
    "# --------------------------------------------------------------------------------------\n",
    "# The __str__() Function\n",
    "# The __str__() function controls what should be returned when the class object is represented as a string.\n",
    "\n",
    "\n",
    "# The string representation of an object WITHOUT the __str__() function:\n",
    "# class Person:\n",
    "#     def __init__(self, name, age):\n",
    "#         self.name = name\n",
    "#         self.age = age\n",
    "# p1=Person('Ram',25)\n",
    "# print(p1)\n",
    "# print(Person)\n",
    "\n",
    "\n",
    "# The string representation of an object WITH the __str__() function:\n",
    "# class Person:\n",
    "#     def __init__(self, name, age):\n",
    "#         self.name = name\n",
    "#         self.age = age\n",
    "#     def __str__(self):\n",
    "#         return f'{self.name} {self.age}'\n",
    "# p1=Person('Ram',25)\n",
    "# print(p1)\n",
    "\n",
    "# -----------------------------------------------------------------\n",
    "\n",
    "\n",
    "# Instance Methods\n",
    "\n",
    "# class Person:\n",
    "#     def __init__(self, name, age):\n",
    "#         self.name = name\n",
    "#         self.age = age\n",
    "#     def myfun(self):\n",
    "#         return f'name is {self.name} and his age is  {self.age}'\n",
    "# p1=Person('Ram',25)\n",
    "# print(p1.myfun())\n",
    "\n",
    "\n",
    "\n",
    "\n",
    " # Class Methods\n",
    "\n",
    "# class Person:\n",
    "#     special = 'data involved'\n",
    "#     def __init__(self, name, age):\n",
    "#         self.name = name\n",
    "#         self.age = age\n",
    "#     @classmethod\n",
    "#     def myfun(cls):\n",
    "#         return f'Most of the {cls.special} in the servers'\n",
    "# p1=Person\n",
    "# print(p1.myfun())\n",
    "\n",
    "\n",
    "\n",
    "# Static Methods\n",
    "\n",
    "# class Person:\n",
    "#     @staticmethod\n",
    "#     def myfun(a,b):\n",
    "#         return a + b\n",
    "# p1=Person\n",
    "# print(p1.myfun(5,7))\n",
    "\n",
    "\n",
    "\n",
    "\n"
   ]
  },
  {
   "cell_type": "code",
   "execution_count": 11,
   "id": "176f6304-d77b-4663-92d0-bb7733a8ec31",
   "metadata": {},
   "outputs": [
    {
     "ename": "SyntaxError",
     "evalue": "invalid character '’' (U+2019) (1143519638.py, line 5)",
     "output_type": "error",
     "traceback": [
      "\u001b[1;36m  Cell \u001b[1;32mIn[11], line 5\u001b[1;36m\u001b[0m\n\u001b[1;33m    Can access and modify the instance’s attributes.\u001b[0m\n\u001b[1;37m                                      ^\u001b[0m\n\u001b[1;31mSyntaxError\u001b[0m\u001b[1;31m:\u001b[0m invalid character '’' (U+2019)\n"
     ]
    }
   ],
   "source": [
    "# Types of Methods in Python\n",
    "\n",
    "\n",
    "# Instance Methods\n",
    "\n",
    "# Operate on the instance of the class.\n",
    "# Can access and modify the instance’s attributes.\n",
    "\n",
    "\n",
    "# Class Methods\n",
    "\n",
    "# Operate on the class itself, not instances.\n",
    "# Declared using the @classmethod decorator.\n",
    "# Can access class-level attributes.\n",
    "\n",
    "\n",
    "# Static Methods\n",
    "\n",
    "# Do not depend on class or instance attributes.\n",
    "# Declared using the @staticmethod decorator."
   ]
  },
  {
   "cell_type": "code",
   "execution_count": 42,
   "id": "7c669958-1ee3-4d38-98f6-777aea6a39ed",
   "metadata": {},
   "outputs": [
    {
     "name": "stdout",
     "output_type": "stream",
     "text": [
      "Name is Ram, and age is not specified.\n"
     ]
    }
   ],
   "source": [
    "class Person:\n",
    "    def __init__(self, name, age=None):\n",
    "        self.name = name\n",
    "        self.age = age\n",
    "\n",
    "    def myfun(self):\n",
    "        try:\n",
    "            if self.age:\n",
    "                return f\"Name is {self.name}, and age {self.age} is specified.\"\n",
    "            else:\n",
    "                 return f\"age {self.age} is not specified.\"\n",
    "        except AttributeError:\n",
    "            return f\"Name is {self.name}, and age is not specified.\"\n",
    "p1=Person('Ram', 25)\n",
    "\n",
    "# p1.age = 27\n",
    "\n",
    "\n",
    "del p1.age\n",
    "\n",
    "print(p1.myfun())"
   ]
  },
  {
   "cell_type": "code",
   "execution_count": 93,
   "id": "65a39cca-a6f8-43f7-8bc3-bf87e36a41df",
   "metadata": {},
   "outputs": [
    {
     "name": "stdout",
     "output_type": "stream",
     "text": [
      "2022\n"
     ]
    },
    {
     "data": {
      "text/plain": [
       "'Raghu Ram'"
      ]
     },
     "execution_count": 93,
     "metadata": {},
     "output_type": "execute_result"
    }
   ],
   "source": [
    "# Python Inheritance\n",
    "# Inheritance allows us to define a class that inherits all the methods and properties from another class.\n",
    "\n",
    "# Parent class is the class being inherited from, also called base class.\n",
    "\n",
    "# Child class is the class that inherits from another class, also called derived class.\n",
    "\n",
    "\n",
    "\n",
    "# class Person:\n",
    "#     def __init__(self,fname,lname):\n",
    "#         self.fname = fname\n",
    "#         self.lname = lname\n",
    "#     def myfun(self):\n",
    "#         return f'my name is {self.fname} {self.lname}'\n",
    "\n",
    "# class Child(Person):\n",
    "#     def __init__(self,fname,lname):\n",
    "#         super().__init__(fname,lname)\n",
    "\n",
    "# p1 = Child('Raghu', 'Ram')\n",
    "# p1.myfun()\n",
    "\n",
    "\n",
    "\n",
    "\n",
    "# class Person:\n",
    "#     def __init__(self,fname,lname):\n",
    "#         self.fname = fname\n",
    "#         self.lname = lname\n",
    "#     def myfun(self):\n",
    "#        return f'{self.fname} {self.lname}'\n",
    "\n",
    "# class Child(Person):\n",
    "#     def __init__(self,fname,lname,year):\n",
    "#         Person.__init__(self,fname,lname)\n",
    "#         self.yearOfPassing =year\n",
    "\n",
    "# p1 = Child('Raghu','Ram',2022)\n",
    "# print(p1.yearOfPassing)\n",
    "\n",
    "# p1.myfun()\n",
    "\n",
    "\n",
    "\n",
    "\n",
    "\n",
    "\n",
    "\n",
    "\n",
    "\n",
    "\n"
   ]
  },
  {
   "cell_type": "code",
   "execution_count": null,
   "id": "9cbcd433-1ffb-4986-9072-a6bdfb882518",
   "metadata": {},
   "outputs": [],
   "source": []
  }
 ],
 "metadata": {
  "kernelspec": {
   "display_name": "Python 3 (ipykernel)",
   "language": "python",
   "name": "python3"
  },
  "language_info": {
   "codemirror_mode": {
    "name": "ipython",
    "version": 3
   },
   "file_extension": ".py",
   "mimetype": "text/x-python",
   "name": "python",
   "nbconvert_exporter": "python",
   "pygments_lexer": "ipython3",
   "version": "3.11.5"
  }
 },
 "nbformat": 4,
 "nbformat_minor": 5
}
