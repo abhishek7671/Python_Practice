{
 "cells": [
  {
   "cell_type": "code",
   "execution_count": 22,
   "id": "2a679735-56ea-4c8f-9a73-58421c1bf318",
   "metadata": {},
   "outputs": [
    {
     "name": "stdout",
     "output_type": "stream",
     "text": [
      "[[0, 6], [1, 5], [2, 3]]\n"
     ]
    }
   ],
   "source": [
    "def sum_of_two(nums, target):\n",
    "    result= []\n",
    "    for i in range(len(nums)):\n",
    "        for j in range(i+1,len(nums)):\n",
    "            if nums[i]+nums[j] == target :\n",
    "                result.append([i,j])\n",
    "    return result\n",
    "nums = [1, 2, 4, 5, 6, 7, 8]\n",
    "target = 9\n",
    "print(sum_of_two(nums, target))\n"
   ]
  },
  {
   "cell_type": "code",
   "execution_count": 6,
   "id": "f1275648-3a74-43ba-bba6-031d0e9116ee",
   "metadata": {},
   "outputs": [
    {
     "name": "stdout",
     "output_type": "stream",
     "text": [
      "[2, 3]\n"
     ]
    }
   ],
   "source": [
    "def sum_of_two(nums, target):\n",
    "    seen = {}\n",
    "    for i, num in enumerate(nums):\n",
    "        diff = target - num\n",
    "        if diff in seen:\n",
    "            return [seen[diff], i]\n",
    "        seen[num] = i  # Store the index of the current number\n",
    "    return []\n",
    "\n",
    "nums = [1, 2, 4, 5, 6, 7, 8]\n",
    "target = 9\n",
    "print(sum_of_two(nums, target))\n",
    "\n"
   ]
  }
 ],
 "metadata": {
  "kernelspec": {
   "display_name": "Python 3",
   "language": "python",
   "name": "python3"
  },
  "language_info": {
   "codemirror_mode": {
    "name": "ipython",
    "version": 3
   },
   "file_extension": ".py",
   "mimetype": "text/x-python",
   "name": "python",
   "nbconvert_exporter": "python",
   "pygments_lexer": "ipython3",
   "version": "3.12.9"
  }
 },
 "nbformat": 4,
 "nbformat_minor": 5
}
