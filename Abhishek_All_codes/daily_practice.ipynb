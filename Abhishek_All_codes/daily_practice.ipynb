{
 "cells": [
  {
   "cell_type": "code",
   "execution_count": 3,
   "id": "751ef6bd",
   "metadata": {},
   "outputs": [
    {
     "name": "stdout",
     "output_type": "stream",
     "text": [
      "enter your age : 22\n",
      "your eligible to vote\n"
     ]
    }
   ],
   "source": [
    "class ageinfo(Exception):\n",
    "    pass\n",
    "age = int(input(\"enter your age : \"))\n",
    "try:\n",
    "    if age<19:\n",
    "        raise ageinfo(\"Your are not eligible to vote\")\n",
    "    else:\n",
    "        print(\"your eligible to vote\")\n",
    "except ageinfo as e:\n",
    "    print(e)"
   ]
  },
  {
   "cell_type": "code",
   "execution_count": 1,
   "id": "56eaae7f",
   "metadata": {},
   "outputs": [
    {
     "name": "stdout",
     "output_type": "stream",
     "text": [
      "Before excution\n",
      "1\n",
      "2\n",
      "3\n",
      "4\n",
      "5\n",
      "6\n",
      "7\n",
      "8\n",
      "9\n",
      "None\n",
      "after excution\n"
     ]
    }
   ],
   "source": [
    "def mainfunc(func):\n",
    "    def wrapper():\n",
    "        print(\"Before excution\")\n",
    "        print(func())\n",
    "        print(\"after excution\")\n",
    "    return wrapper\n",
    "@mainfunc\n",
    "def values():\n",
    "    for i in range(1,10):\n",
    "        print(i)\n",
    "values()     "
   ]
  },
  {
   "cell_type": "code",
   "execution_count": 20,
   "id": "74496728",
   "metadata": {},
   "outputs": [
    {
     "name": "stdout",
     "output_type": "stream",
     "text": [
      "50\n"
     ]
    }
   ],
   "source": [
    "def addtwonums(func):\n",
    "    def wrapper(x,y):\n",
    "        return func(x,y)*10\n",
    "    return wrapper\n",
    "@addtwonums\n",
    "def add(x,y):\n",
    "    return (x+y)\n",
    "y=add(2,3)\n",
    "print(y)"
   ]
  },
  {
   "cell_type": "code",
   "execution_count": 23,
   "id": "621bdf5e",
   "metadata": {},
   "outputs": [
    {
     "name": "stdout",
     "output_type": "stream",
     "text": [
      "The result of 2,3 is 50\n"
     ]
    }
   ],
   "source": [
    "def add(func):\n",
    "    def w(x,y):\n",
    "        res = func(x,y)*10\n",
    "        return (f\"The result of {x},{y} is {res}\")\n",
    "    return w\n",
    "@add\n",
    "def k(a,b):\n",
    "    return (a+b)\n",
    "l = k(2,3)\n",
    "print(l)"
   ]
  },
  {
   "cell_type": "code",
   "execution_count": 4,
   "id": "dcea8022",
   "metadata": {},
   "outputs": [
    {
     "name": "stdout",
     "output_type": "stream",
     "text": [
      "narsimha\n",
      "2\n",
      "3\n",
      "4\n",
      "[2, 3, 4, 56, 7, 8]\n",
      "None\n"
     ]
    }
   ],
   "source": [
    "def val(*args):\n",
    "    for i in args:\n",
    "        print(i)\n",
    "print(val(\"narsimha\",2,3,4,[2,3,4,56,7,8]))"
   ]
  },
  {
   "cell_type": "code",
   "execution_count": 18,
   "id": "53972a78",
   "metadata": {},
   "outputs": [
    {
     "name": "stdout",
     "output_type": "stream",
     "text": [
      "name:narsimha\n",
      "age:23\n"
     ]
    }
   ],
   "source": [
    "def w(**kw):\n",
    "    for key,val in kw.items():\n",
    "        print(f\"{key}:{val}\")\n",
    "w(name='narsimha',age=23)"
   ]
  },
  {
   "cell_type": "code",
   "execution_count": 23,
   "id": "fd3095bb",
   "metadata": {},
   "outputs": [
    {
     "name": "stdout",
     "output_type": "stream",
     "text": [
      "narsimh\n"
     ]
    }
   ],
   "source": [
    "v='narsimha'\n",
    "x=''\n",
    "l=''\n",
    "for i in v:\n",
    "    if v.count(i)>1 and i not in x:\n",
    "        x+=i\n",
    "for i in v :\n",
    "    if i not in l:\n",
    "        l+=i\n",
    "print(l)"
   ]
  },
  {
   "cell_type": "code",
   "execution_count": 29,
   "id": "ab11e55a",
   "metadata": {},
   "outputs": [
    {
     "data": {
      "text/plain": [
       "[9, 2, 3, 4, 5, 6, 7, 8]"
      ]
     },
     "execution_count": 29,
     "metadata": {},
     "output_type": "execute_result"
    }
   ],
   "source": [
    "nums=[9,2,3,4,2,4,5,5,5,6,7,8,8]\n",
    "s=[]\n",
    "for i in nums:\n",
    "    if i not in s:\n",
    "        s.append(i)\n",
    "s\n"
   ]
  },
  {
   "cell_type": "code",
   "execution_count": 8,
   "id": "4056841b",
   "metadata": {},
   "outputs": [
    {
     "data": {
      "text/plain": [
       "[(2, 1), (1, 2), (2, 3), (4, 4), (2, 5)]"
      ]
     },
     "execution_count": 8,
     "metadata": {},
     "output_type": "execute_result"
    }
   ],
   "source": [
    "l = [(2, 5), (1, 2), (4, 4), (2, 3), (2, 1)]\n",
    "a=[]\n",
    "for i in l:\n",
    "    a.append(i[1])\n",
    "x=sorted(a)\n",
    "d=[]\n",
    "for k in x:\n",
    "    for j in l:\n",
    "        if j[1]==k:\n",
    "            d.append(j)\n",
    "d\n",
    "            "
   ]
  },
  {
   "cell_type": "code",
   "execution_count": 42,
   "id": "12a63381",
   "metadata": {},
   "outputs": [
    {
     "data": {
      "text/plain": [
       "[(2, 1), (1, 2), (2, 3), (4, 4), (2, 5)]"
      ]
     },
     "execution_count": 42,
     "metadata": {},
     "output_type": "execute_result"
    }
   ],
   "source": [
    "l = [(2, 5), (1, 2), (4, 4), (2, 3), (2, 1)]\n",
    "for i in range(len(l)):\n",
    "    for j in range(i+1,len(l)):\n",
    "        if l[i][1]>l[j][1]:\n",
    "            l[i],l[j]=l[j],l[i]\n",
    "l"
   ]
  },
  {
   "cell_type": "code",
   "execution_count": 47,
   "id": "32b172a1",
   "metadata": {},
   "outputs": [
    {
     "data": {
      "text/plain": [
       "['my', 'name', 'is', 'Narsimha']"
      ]
     },
     "execution_count": 47,
     "metadata": {},
     "output_type": "execute_result"
    }
   ],
   "source": [
    "x=['m','na','i','Nar']\n",
    "y=['y','me','s','simha']\n",
    "z=[]\n",
    "for i in x:\n",
    "    for j in y:\n",
    "        if x.index(i)==y.index(j):\n",
    "            z.append(i+j)\n",
    "z"
   ]
  },
  {
   "cell_type": "code",
   "execution_count": 48,
   "id": "0f29ea5c",
   "metadata": {},
   "outputs": [
    {
     "name": "stdout",
     "output_type": "stream",
     "text": [
      "3 * 1 = 3\n",
      "3 * 2 = 6\n",
      "3 * 3 = 9\n",
      "3 * 4 = 12\n",
      "3 * 5 = 15\n",
      "3 * 6 = 18\n",
      "3 * 7 = 21\n",
      "3 * 8 = 24\n",
      "3 * 9 = 27\n",
      "3 * 10 = 30\n"
     ]
    }
   ],
   "source": [
    "n=3\n",
    "for i in range(1,11):\n",
    "    print(n,\"*\",i,\"=\",n*i)"
   ]
  },
  {
   "cell_type": "code",
   "execution_count": 54,
   "id": "446a9420",
   "metadata": {},
   "outputs": [
    {
     "data": {
      "text/plain": [
       "[1, 2, 3, 4, 5, 6, 7, 8, 9]"
      ]
     },
     "execution_count": 54,
     "metadata": {},
     "output_type": "execute_result"
    }
   ],
   "source": [
    "x=[1,2,3,4,5,6,5,4,3,7,8,9,9]\n",
    "c=[i for n,i in enumerate(x) if i not in x[:n]]\n",
    "c"
   ]
  },
  {
   "cell_type": "code",
   "execution_count": 7,
   "id": "dea78eee",
   "metadata": {},
   "outputs": [
    {
     "name": "stdout",
     "output_type": "stream",
     "text": [
      "I EVOL NOHTYP \n",
      "\n",
      "['I', 'EVOL', 'NOHTYP']\n"
     ]
    }
   ],
   "source": [
    "sen=\"I LOVE PYTHON\"\n",
    "a = sen.split()\n",
    "z=[]\n",
    "for i in a:\n",
    "    b=i[::-1]\n",
    "    z.append(b)\n",
    "    print(b,end=' ')\n",
    "print('\\n')\n",
    "print(z)\n"
   ]
  },
  {
   "cell_type": "code",
   "execution_count": 67,
   "id": "d5fe20d5",
   "metadata": {},
   "outputs": [
    {
     "name": "stdout",
     "output_type": "stream",
     "text": [
      "2 6\n",
      "3 5\n"
     ]
    }
   ],
   "source": [
    "x=[4,2,3,5,6]\n",
    "target=8\n",
    "for i in range(len(x)):\n",
    "    for j in range(i+1,len(x)):\n",
    "        if x[i]+x[j] == target:\n",
    "            print(x[i],x[j])"
   ]
  },
  {
   "cell_type": "code",
   "execution_count": 69,
   "id": "a766f42f",
   "metadata": {},
   "outputs": [
    {
     "name": "stdout",
     "output_type": "stream",
     "text": [
      "0\n",
      "1\n",
      "1\n",
      "2\n",
      "3\n",
      "5\n",
      "8\n",
      "13\n",
      "21\n",
      "34\n"
     ]
    }
   ],
   "source": [
    "a=0\n",
    "b=1\n",
    "print(a)\n",
    "print(b)\n",
    "for i in range(2,10):\n",
    "    c=a+b\n",
    "    a=b\n",
    "    b=c\n",
    "    print(c)"
   ]
  },
  {
   "cell_type": "code",
   "execution_count": 70,
   "id": "fe83260e",
   "metadata": {},
   "outputs": [
    {
     "data": {
      "text/plain": [
       "120"
      ]
     },
     "execution_count": 70,
     "metadata": {},
     "output_type": "execute_result"
    }
   ],
   "source": [
    "fact=1\n",
    "num=5\n",
    "for i in range(1,num+1):\n",
    "    fact=fact*i\n",
    "fact"
   ]
  },
  {
   "cell_type": "code",
   "execution_count": 73,
   "id": "9aa6028d",
   "metadata": {},
   "outputs": [
    {
     "data": {
      "text/plain": [
       "10"
      ]
     },
     "execution_count": 73,
     "metadata": {},
     "output_type": "execute_result"
    }
   ],
   "source": [
    "x=1234\n",
    "sum=0\n",
    "while x>0:\n",
    "    rem = x%10\n",
    "    sum+=rem\n",
    "    x=x//10\n",
    "sum"
   ]
  },
  {
   "cell_type": "code",
   "execution_count": 90,
   "id": "9f03c1ad",
   "metadata": {},
   "outputs": [
    {
     "name": "stdout",
     "output_type": "stream",
     "text": [
      "most common value : 2\n"
     ]
    }
   ],
   "source": [
    "x=[1,2,3,4,2,2,2,2,2,2,2,2,2,2,2,2,2,2,2,2,2,2,2,2,3,3,3,4,6,6,6,6,66,6,6,6,66,6,6,6,6,6,6,6,6,6,6,6,6]\n",
    "c={}\n",
    "for i in x:\n",
    "    if i not in c.keys():\n",
    "        c[i]=1\n",
    "    else:\n",
    "        c[i]+=1\n",
    "maxv=0\n",
    "common=None\n",
    "for i in c:\n",
    "    if c[i]>maxv:\n",
    "        maxv=c[i]\n",
    "        common = i\n",
    "print('most common value :',common)"
   ]
  },
  {
   "cell_type": "code",
   "execution_count": 93,
   "id": "80bef96d",
   "metadata": {},
   "outputs": [
    {
     "data": {
      "text/plain": [
       "4321"
      ]
     },
     "execution_count": 93,
     "metadata": {},
     "output_type": "execute_result"
    }
   ],
   "source": [
    "x=1234\n",
    "v=''\n",
    "while x>0:\n",
    "    rem=x%10\n",
    "    v+=str(rem)\n",
    "    x=x//10\n",
    "a=int(v)\n",
    "a"
   ]
  },
  {
   "cell_type": "code",
   "execution_count": 94,
   "id": "bef29a4a",
   "metadata": {},
   "outputs": [
    {
     "name": "stdout",
     "output_type": "stream",
     "text": [
      "palindrome\n"
     ]
    }
   ],
   "source": [
    "x='fof'\n",
    "y=x[::-1]\n",
    "if x==y:\n",
    "    print('palindrome')\n",
    "else:\n",
    "    print('no')"
   ]
  },
  {
   "cell_type": "code",
   "execution_count": 98,
   "id": "1438678c",
   "metadata": {},
   "outputs": [
    {
     "name": "stdout",
     "output_type": "stream",
     "text": [
      "yes\n"
     ]
    }
   ],
   "source": [
    "a='fof'\n",
    "s=0\n",
    "e=len(a)-1\n",
    "while s<e:\n",
    "    if a[s]!=a[e]:\n",
    "        print('its not a plindrome ')\n",
    "    s+=1\n",
    "    e-=1\n",
    "else:\n",
    "    print('yes')"
   ]
  },
  {
   "cell_type": "code",
   "execution_count": 101,
   "id": "310e86ff",
   "metadata": {},
   "outputs": [
    {
     "name": "stdout",
     "output_type": "stream",
     "text": [
      "2\n",
      "3\n",
      "5\n",
      "7\n"
     ]
    }
   ],
   "source": [
    "l=0\n",
    "u=10\n",
    "for num in range(l,u+1):\n",
    "    if num>1:\n",
    "        for i in range(2,num):\n",
    "            if num%i==0:\n",
    "                break\n",
    "        else:\n",
    "            print(num)"
   ]
  },
  {
   "cell_type": "code",
   "execution_count": 114,
   "id": "0ae784cb",
   "metadata": {},
   "outputs": [
    {
     "data": {
      "text/plain": [
       "{'name': 'narsimha', 'age': '23', 'deg': 'Software'}"
      ]
     },
     "execution_count": 114,
     "metadata": {},
     "output_type": "execute_result"
    }
   ],
   "source": [
    "x=\"name:narsimha,age;23,deg:Software\"\n",
    "x=x.replace(';',':')\n",
    "x=x.split(',')\n",
    "c={}\n",
    "for i in x:\n",
    "    key,val=i.split(':')\n",
    "    c[key]=val\n",
    "c"
   ]
  },
  {
   "cell_type": "code",
   "execution_count": 120,
   "id": "060c9e56",
   "metadata": {},
   "outputs": [
    {
     "name": "stdout",
     "output_type": "stream",
     "text": [
      "[{'name': 'vasu', 'id': '1'}, {'name': 'raju', 'id': '2'}, {'name': 'vasu', 'id': '3'}]\n"
     ]
    }
   ],
   "source": [
    "a='vasu:1,raju:2,vasu:3'\n",
    "a=a.split(',')\n",
    "c=[]\n",
    "for i in a:\n",
    "    key,val=i.split(':')\n",
    "    c.append({\"name\":key,\"id\":val})\n",
    "print(c)"
   ]
  },
  {
   "cell_type": "code",
   "execution_count": 124,
   "id": "3c14aac4",
   "metadata": {},
   "outputs": [
    {
     "data": {
      "text/plain": [
       "{'amount': 25, 'deg': 15, 'id': 3, 'name': 'vasu'}"
      ]
     },
     "execution_count": 124,
     "metadata": {},
     "output_type": "execute_result"
    }
   ],
   "source": [
    "a={'name':'vasu','id':3,'deg':15,'amount':25}\n",
    "e={k:v for k,v in reversed(a.items())}\n",
    "e"
   ]
  },
  {
   "cell_type": "code",
   "execution_count": 125,
   "id": "ffef281c",
   "metadata": {},
   "outputs": [
    {
     "data": {
      "text/plain": [
       "24"
      ]
     },
     "execution_count": 125,
     "metadata": {},
     "output_type": "execute_result"
    }
   ],
   "source": [
    "a={'name':'vasu','id':3,'deg':15,'amount':25} \n",
    "sum=0\n",
    "for i,j in a.items():\n",
    "    sum=sum+len(i)+len(str(j))\n",
    "sum"
   ]
  },
  {
   "cell_type": "code",
   "execution_count": 131,
   "id": "35c6baf1",
   "metadata": {},
   "outputs": [
    {
     "data": {
      "text/plain": [
       "[{'name': 'ganesh', 'id': 2},\n",
       " {'name': 'hari', 'id': 1},\n",
       " {'name': 'hari', 'id': 1},\n",
       " {'name': 'simha', 'id': 2}]"
      ]
     },
     "execution_count": 131,
     "metadata": {},
     "output_type": "execute_result"
    }
   ],
   "source": [
    "x=[{\"name\":\"hari\",\"id\":1},{\"name\":\"ganesh\",\"id\":2},{\"name\":\"simha\",\"id\":2},{\"name\":\"hari\",\"id\":1}]\n",
    "for i in range(len(x)):\n",
    "    for j in range(i+1,len(x)):\n",
    "        if x[i]['name']>x[j]['name']:\n",
    "            x[i],x[j]=x[j],x[i]\n",
    "x"
   ]
  },
  {
   "cell_type": "code",
   "execution_count": 134,
   "id": "075a3949",
   "metadata": {},
   "outputs": [
    {
     "data": {
      "text/plain": [
       "{'e': -2, 'd': 1, 'c': 2, 'a': 3, 'b': 5}"
      ]
     },
     "execution_count": 134,
     "metadata": {},
     "output_type": "execute_result"
    }
   ],
   "source": [
    "d={'a':3,'b':5,'c':2,'d':1,'e':-2}\n",
    "x=list(d.items())\n",
    "for i in range(len(x)):\n",
    "    for j in range(i+1,len(x)):\n",
    "        if x[i][1]>x[j][1]:\n",
    "            x[i],x[j]=x[j],x[i]\n",
    "x=dict(x)\n",
    "x"
   ]
  },
  {
   "cell_type": "code",
   "execution_count": 153,
   "id": "7018ac22",
   "metadata": {},
   "outputs": [
    {
     "name": "stdout",
     "output_type": "stream",
     "text": [
      "[{'name': 'AP', 'city': 2, 'city with a': ['Amravathi', 'Anakala']}, {'name': 'MP', 'city': 2, 'city with a': ['Abd', 'Ade']}]\n"
     ]
    }
   ],
   "source": [
    "a=[{\"name\":\"AP\",\"city\":[\"vizag\",\"Amravathi\",\"Anakala\",\"kur\",\"nandyala\"]},{\"name\":\"MP\",\"city\":[\"Abd\",\"cda\",\"Ade\",\"kur\",\"d\"]}]\n",
    "\n",
    "for i in a:\n",
    "    l=[]\n",
    "    count=0\n",
    "    for j in i['city']:\n",
    "        if j[0]=='A':\n",
    "            count+=1\n",
    "            l.append(j)\n",
    "        i['city']=count\n",
    "        i['city with a']=l\n",
    "print(a)\n",
    "        \n",
    "   "
   ]
  },
  {
   "cell_type": "code",
   "execution_count": 160,
   "id": "04062d2b",
   "metadata": {},
   "outputs": [
    {
     "name": "stdout",
     "output_type": "stream",
     "text": [
      "2\n"
     ]
    }
   ],
   "source": [
    "x=[[1,2,3],[3,4,2],[4,2,6,1]]\n",
    "for i in x[0]:\n",
    "    for j in x[1]:\n",
    "        for k in x[2]:\n",
    "            if i==j and j==k:\n",
    "                print(i)"
   ]
  },
  {
   "cell_type": "code",
   "execution_count": 176,
   "id": "cedf9b4d",
   "metadata": {},
   "outputs": [
    {
     "data": {
      "text/plain": [
       "['abhi', 'vagrahb', 'vamsi', 'raknahs', 'sai', 'iver', 'shiva', 'inum']"
      ]
     },
     "execution_count": 176,
     "metadata": {},
     "output_type": "execute_result"
    }
   ],
   "source": [
    "a='abhi bhargav vamsi shankar sai revi shiva muni'\n",
    "a=a.split()\n",
    "c=[]\n",
    "for i in range(len(a)):\n",
    "    if i%2!=0:\n",
    "        ss=a[i]\n",
    "        dd=ss[::-1]\n",
    "        c.append(dd)\n",
    "    else:\n",
    "        c.append(a[i])\n",
    "c"
   ]
  },
  {
   "cell_type": "code",
   "execution_count": 179,
   "id": "bc56ce85",
   "metadata": {},
   "outputs": [
    {
     "name": "stdout",
     "output_type": "stream",
     "text": [
      "aba\n",
      "1221\n"
     ]
    }
   ],
   "source": [
    "l=['aba','xyz','abc','1221']\n",
    "for i in l:\n",
    "    if i[0]==i[-1]:\n",
    "        print(i)"
   ]
  },
  {
   "cell_type": "code",
   "execution_count": 184,
   "id": "8a9fbea4",
   "metadata": {},
   "outputs": [
    {
     "data": {
      "text/plain": [
       "'chellaboina'"
      ]
     },
     "execution_count": 184,
     "metadata": {},
     "output_type": "execute_result"
    }
   ],
   "source": [
    "x=['narsimha','chellaboina','goud']\n",
    "h=''\n",
    "for i in x:\n",
    "    if len(i)>len(h):\n",
    "        h=i\n",
    "h\n",
    "    \n",
    "    "
   ]
  },
  {
   "cell_type": "code",
   "execution_count": 196,
   "id": "9530ff80",
   "metadata": {},
   "outputs": [
    {
     "data": {
      "text/plain": [
       "'john'"
      ]
     },
     "execution_count": 196,
     "metadata": {},
     "output_type": "execute_result"
    }
   ],
   "source": [
    "x =['john','john','johnny','jackie','johnny','john','jackie','jamie','jamie','john','johnny','jamie','johnny','john']\n",
    "c={}\n",
    "for i in x:\n",
    "    if i not in c.keys():\n",
    "        c[i]=1\n",
    "    else:\n",
    "        c[i]+=1\n",
    "maxv=0\n",
    "common=None\n",
    "for i in c:\n",
    "    if c[i]>maxv:\n",
    "        maxv=c[i]\n",
    "        common=i\n",
    "common"
   ]
  },
  {
   "cell_type": "code",
   "execution_count": 199,
   "id": "f00f03cd",
   "metadata": {},
   "outputs": [
    {
     "data": {
      "text/plain": [
       "5"
      ]
     },
     "execution_count": 199,
     "metadata": {},
     "output_type": "execute_result"
    }
   ],
   "source": [
    "x=[1,2,3,4,5,5,5]\n",
    "c={}\n",
    "for i in x:\n",
    "    if i not in c.keys():\n",
    "        c[i]=1\n",
    "    else:\n",
    "        c[i]+=1\n",
    "h=0\n",
    "com=None\n",
    "for i in c:\n",
    "    if c[i]>h:\n",
    "        h=c[i]\n",
    "        com=i\n",
    "com"
   ]
  },
  {
   "cell_type": "code",
   "execution_count": 1,
   "id": "f922b1b7",
   "metadata": {},
   "outputs": [
    {
     "name": "stdout",
     "output_type": "stream",
     "text": [
      "{'name': ['andhra', 'telangana'], 'cities': [{'name': 'nellore', 'states': 'andhra'}, {'name': 'guntur', 'states': 'andhra'}, {'name': 'Hyd', 'states': 'telangana'}, {'name': 'varangal', 'states': 'telangana'}]}\n"
     ]
    }
   ],
   "source": [
    "a=[{ 'name': 'andhra', 'city': ['nellore', 'guntur'] }, { 'name': 'telangana', 'city': ['Hyd', 'varangal'] }]\n",
    "states=[]\n",
    "cites=[]\n",
    "for i in a:\n",
    "    states.append(i['name'])\n",
    "    for j in i['city']:\n",
    "        cites.append({'name':j,'states':i['name']})\n",
    "y={'name':states,'cities':cites}\n",
    "print(y)"
   ]
  },
  {
   "cell_type": "code",
   "execution_count": 212,
   "id": "b011d8eb",
   "metadata": {},
   "outputs": [
    {
     "name": "stdout",
     "output_type": "stream",
     "text": [
      "2\n",
      "3\n",
      "5\n",
      "7\n",
      "11\n",
      "13\n",
      "17\n",
      "19\n",
      "prime numbers between 1,20\n"
     ]
    }
   ],
   "source": [
    "def primenum(func):\n",
    "    def wrapper(l,u):\n",
    "        for num in range(l,u):\n",
    "            if num>1:\n",
    "                for i in range(2,num):\n",
    "                    if num%i==0:\n",
    "                        break\n",
    "                else:\n",
    "                    print(num)\n",
    "        return func(l,u)\n",
    "    return wrapper\n",
    "@primenum\n",
    "def pp(a,b):\n",
    "    print(f'prime numbers between {a},{b}')\n",
    "c=pp(1,20)"
   ]
  },
  {
   "cell_type": "code",
   "execution_count": 223,
   "id": "fc32f2bb",
   "metadata": {},
   "outputs": [
    {
     "data": {
      "text/plain": [
       "'geekskeeg'"
      ]
     },
     "execution_count": 223,
     "metadata": {},
     "output_type": "execute_result"
    }
   ],
   "source": [
    "x=\"forgeekskeegfor\"\n",
    "op=''\n",
    "ma=0\n",
    "for i in range(len(x)):\n",
    "    for j in range(i+1,len(x)+1):\n",
    "        cand = x[i:j]\n",
    "        if cand==cand[::-1] and len(cand)>ma:\n",
    "            op=cand\n",
    "            ma=len(cand)\n",
    "op\n",
    " \n",
    "            "
   ]
  },
  {
   "cell_type": "code",
   "execution_count": null,
   "id": "8734f802",
   "metadata": {},
   "outputs": [],
   "source": [
    " "
   ]
  },
  {
   "cell_type": "code",
   "execution_count": 236,
   "id": "536c7cd3",
   "metadata": {},
   "outputs": [
    {
     "data": {
      "text/plain": [
       "15"
      ]
     },
     "execution_count": 236,
     "metadata": {},
     "output_type": "execute_result"
    }
   ],
   "source": [
    "def palindrome(x):\n",
    "    c={}\n",
    "    for i in x:\n",
    "        if i not in c:\n",
    "            c[i]=1\n",
    "        else:\n",
    "            c[i]+=1\n",
    "    res=0\n",
    "    odd=0\n",
    "    if len(c)==1:\n",
    "        print(c[x[0]])\n",
    "    for i in c.values():\n",
    "        if i>1:\n",
    "            if i%2==0:\n",
    "                res+=i\n",
    "            else:\n",
    "                res+=i-1\n",
    "                odd+=1\n",
    "        else:\n",
    "            odd=odd+1\n",
    "    if odd>0:\n",
    "        res+=1\n",
    "    return res\n",
    "x=\"forgeekskeegfor\"\n",
    "palindrome(x)"
   ]
  },
  {
   "cell_type": "code",
   "execution_count": 244,
   "id": "f26f37fd",
   "metadata": {},
   "outputs": [
    {
     "data": {
      "text/plain": [
       "{'item1': 1150, 'item2': 300}"
      ]
     },
     "execution_count": 244,
     "metadata": {},
     "output_type": "execute_result"
    }
   ],
   "source": [
    "x= [{'item': 'item1', 'amount': 400}, {'item': 'item2', 'amount': 300}, {'item': 'item1', 'amount': 750}]\n",
    "c={}\n",
    "for i in x:\n",
    "    if i['item'] not in c:\n",
    "        c[i['item']]=i['amount']\n",
    "    else:\n",
    "        c[i['item']]+=i['amount']\n",
    "c"
   ]
  },
  {
   "cell_type": "code",
   "execution_count": 35,
   "id": "0aed40bc",
   "metadata": {},
   "outputs": [
    {
     "name": "stdout",
     "output_type": "stream",
     "text": [
      "( ) True\n",
      "( ) True\n",
      "( ) True\n",
      "( ) True\n",
      "( ) True\n"
     ]
    }
   ],
   "source": [
    "x=\"(){}[]\"\n",
    "for i in range(len(x)):\n",
    "    for j in range(i+1,len(x)):\n",
    "        if x[i] == \"(\" and x[i+1] == \")\":\n",
    "            print(x[i],x[i+1],\"True\")\n",
    "        \n",
    "        "
   ]
  },
  {
   "cell_type": "code",
   "execution_count": 1,
   "id": "edc7438d",
   "metadata": {},
   "outputs": [
    {
     "data": {
      "text/plain": [
       "[1, 2, 3]"
      ]
     },
     "execution_count": 1,
     "metadata": {},
     "output_type": "execute_result"
    }
   ],
   "source": [
    "ar = [1,2,3]\n",
    "sum = [i for i in ar ]\n",
    "sum"
   ]
  },
  {
   "cell_type": "code",
   "execution_count": null,
   "id": "726afe6a",
   "metadata": {},
   "outputs": [],
   "source": [
    "import pandas as pd\n",
    "pd.read_csv()"
   ]
  },
  {
   "cell_type": "code",
   "execution_count": 1,
   "id": "87ddb0eb",
   "metadata": {},
   "outputs": [
    {
     "name": "stdout",
     "output_type": "stream",
     "text": [
      "Requirement already satisfied: pandas in c:\\users\\narsimhac\\anaconda3\\lib\\site-packages (1.4.4)\n",
      "Requirement already satisfied: numpy>=1.18.5 in c:\\users\\narsimhac\\anaconda3\\lib\\site-packages (from pandas) (1.21.5)\n",
      "Requirement already satisfied: python-dateutil>=2.8.1 in c:\\users\\narsimhac\\anaconda3\\lib\\site-packages (from pandas) (2.8.2)\n",
      "Requirement already satisfied: pytz>=2020.1 in c:\\users\\narsimhac\\anaconda3\\lib\\site-packages (from pandas) (2022.1)\n",
      "Requirement already satisfied: six>=1.5 in c:\\users\\narsimhac\\anaconda3\\lib\\site-packages (from python-dateutil>=2.8.1->pandas) (1.16.0)\n"
     ]
    }
   ],
   "source": [
    "!pip install pandas"
   ]
  },
  {
   "cell_type": "code",
   "execution_count": 4,
   "id": "0dc93a87",
   "metadata": {},
   "outputs": [
    {
     "ename": "OSError",
     "evalue": "[Errno 22] Invalid argument: 'D:\\\\Folder_Fast_API\\x0cour_hour'",
     "output_type": "error",
     "traceback": [
      "\u001b[1;31m---------------------------------------------------------------------------\u001b[0m",
      "\u001b[1;31mOSError\u001b[0m                                   Traceback (most recent call last)",
      "\u001b[1;32m~\\AppData\\Local\\Temp\\ipykernel_20392\\2165557466.py\u001b[0m in \u001b[0;36m<module>\u001b[1;34m\u001b[0m\n\u001b[0;32m      2\u001b[0m \u001b[1;33m\u001b[0m\u001b[0m\n\u001b[0;32m      3\u001b[0m \u001b[1;31m# Open the file in append mode, which creates an empty file if it does not exist\u001b[0m\u001b[1;33m\u001b[0m\u001b[1;33m\u001b[0m\u001b[0m\n\u001b[1;32m----> 4\u001b[1;33m \u001b[1;32mwith\u001b[0m \u001b[0mopen\u001b[0m\u001b[1;33m(\u001b[0m\u001b[0mfile_path\u001b[0m\u001b[1;33m,\u001b[0m \u001b[1;34m'a'\u001b[0m\u001b[1;33m)\u001b[0m\u001b[1;33m:\u001b[0m\u001b[1;33m\u001b[0m\u001b[1;33m\u001b[0m\u001b[0m\n\u001b[0m\u001b[0;32m      5\u001b[0m     \u001b[1;32mpass\u001b[0m\u001b[1;33m\u001b[0m\u001b[1;33m\u001b[0m\u001b[0m\n\u001b[0;32m      6\u001b[0m \u001b[1;33m\u001b[0m\u001b[0m\n",
      "\u001b[1;31mOSError\u001b[0m: [Errno 22] Invalid argument: 'D:\\\\Folder_Fast_API\\x0cour_hour'"
     ]
    }
   ],
   "source": [
    "file_path = 'D:\\Folder_Fast_API\\four_hour'  # Replace 'empty_file.txt' with the desired file name and path\n",
    "\n",
    "# Open the file in append mode, which creates an empty file if it does not exist\n",
    "with open(file_path, 'a'):\n",
    "    pass\n",
    "\n",
    "print(f\"Empty file '{file_path}' created (if it didn't exist already).\")\n"
   ]
  },
  {
   "cell_type": "markdown",
   "id": "346d7cc6",
   "metadata": {},
   "source": [
    "# 11-09-2023"
   ]
  },
  {
   "cell_type": "code",
   "execution_count": 9,
   "id": "2f95c2aa",
   "metadata": {},
   "outputs": [
    {
     "data": {
      "text/plain": [
       "{'name': 'narsimha', 'age': '23', 'deg': 'Software'}"
      ]
     },
     "execution_count": 9,
     "metadata": {},
     "output_type": "execute_result"
    }
   ],
   "source": [
    "x=\"name:narsimha,age;23,deg:Software\"\n",
    "x = x.replace(';',':')\n",
    "x = x.split(',')\n",
    "a = []\n",
    "b = []\n",
    "for i in x:\n",
    "    key,val = i.split(':')\n",
    "    a.append(key)\n",
    "    b.append(val)\n",
    "c = dict(zip(a,b))\n",
    "c"
   ]
  },
  {
   "cell_type": "code",
   "execution_count": 18,
   "id": "9878f2eb",
   "metadata": {},
   "outputs": [
    {
     "name": "stdout",
     "output_type": "stream",
     "text": [
      "[{'name': 'vasu', 'id': '1'}, {'name': 'raju', 'id': '2'}, {'name': 'vasu', 'id': '3'}]\n"
     ]
    }
   ],
   "source": [
    "a='vasu:1,raju:2,vasu:3'\n",
    "a = a.split(',')\n",
    "x = []\n",
    "for i in a:\n",
    "    key,val = i.split(':')\n",
    "    x.append({\"name\":key,\"id\":val})\n",
    "print(x)"
   ]
  },
  {
   "cell_type": "code",
   "execution_count": 31,
   "id": "997b439f",
   "metadata": {},
   "outputs": [
    {
     "name": "stdout",
     "output_type": "stream",
     "text": [
      "{'amount': 25, 'deg': 15, 'id': 3, 'name': 'vasu'}\n"
     ]
    }
   ],
   "source": [
    "a={'name':'vasu','id':3,'deg':15,'amount':25}\n",
    "x = []\n",
    "y = []\n",
    "for k,v in a.items():\n",
    "    x.append(k)\n",
    "    y.append(v)\n",
    "a = x[::-1]\n",
    "b = y[::-1]\n",
    " \n",
    "c = dict(zip(a,b))\n",
    "print(c)\n",
    "\n",
    "    "
   ]
  },
  {
   "cell_type": "code",
   "execution_count": 34,
   "id": "e84a4ae7",
   "metadata": {},
   "outputs": [
    {
     "name": "stdout",
     "output_type": "stream",
     "text": [
      "24\n"
     ]
    }
   ],
   "source": [
    "a={'name':'vasu','id':3,'deg':15,'amount':25}\n",
    "x,y =\"\",\"\"\n",
    "for k,v in a.items():\n",
    "    x+=k\n",
    "    y+=str(v)\n",
    "print(len(x)+len(y))"
   ]
  },
  {
   "cell_type": "code",
   "execution_count": 43,
   "id": "7f9a9d61",
   "metadata": {},
   "outputs": [
    {
     "data": {
      "text/plain": [
       "[{'name': 'ganesh', 'id': 2},\n",
       " {'name': 'hari', 'id': 1},\n",
       " {'name': 'simha', 'id': 2},\n",
       " {'name': 'zee', 'id': 1}]"
      ]
     },
     "execution_count": 43,
     "metadata": {},
     "output_type": "execute_result"
    }
   ],
   "source": [
    "x=[{\"name\":\"hari\",\"id\":1},{\"name\":\"ganesh\",\"id\":2},{\"name\":\"simha\",\"id\":2},{\"name\":\"zee\",\"id\":1},{\"name\":\"zee\",\"id\":1}]\n",
    "for i in range(len(x)):\n",
    "    for j in range(i+1,len(x)):\n",
    "        if x[i]['name']>x[j]['name']:\n",
    "            x[i],x[j]=x[j],x[i]\n",
    "y = []\n",
    "for i in x:\n",
    "    if i not in y:\n",
    "        y.append(i)\n",
    "y"
   ]
  },
  {
   "cell_type": "code",
   "execution_count": 47,
   "id": "92fc114e",
   "metadata": {},
   "outputs": [
    {
     "name": "stdout",
     "output_type": "stream",
     "text": [
      "S001\n",
      "S002\n",
      "S001\n",
      "S005\n",
      "S005\n",
      "S009\n",
      "S007\n"
     ]
    }
   ],
   "source": [
    "l = [{\"V\": \"S001\"}, {\"V\": \"S002\"}, {\"VI\": \"S001\"}, {\"VI\": \"S005\"}, {\"VII\": \"S005\"}, {\"V\": \"S009\"}, {\"VIII\": \"S007\"}]\n",
    " \n",
    "for i in l:\n",
    "    for j in i.values():\n",
    "        print(str(j))\n",
    " "
   ]
  },
  {
   "cell_type": "code",
   "execution_count": 51,
   "id": "75ccb690",
   "metadata": {},
   "outputs": [
    {
     "name": "stdout",
     "output_type": "stream",
     "text": [
      "16\n"
     ]
    }
   ],
   "source": [
    "a={'name':'vasu', 'amount':40}\n",
    "c = ''\n",
    "for i,j in a.items():\n",
    "    c+=i+str(j)\n",
    "print(len(c))"
   ]
  },
  {
   "cell_type": "code",
   "execution_count": 56,
   "id": "d29ffccd",
   "metadata": {},
   "outputs": [
    {
     "data": {
      "text/plain": [
       "{'e': -2, 'd': 1, 'c': 2, 'a': 3, 'b': 5}"
      ]
     },
     "execution_count": 56,
     "metadata": {},
     "output_type": "execute_result"
    }
   ],
   "source": [
    "d={'a':3,'b':5,'c':2,'d':1,'e':-2}\n",
    "s = list(d.items())\n",
    "for i in range(len(s)):\n",
    "    for j in range(i+1,len(s)):\n",
    "        if s[i][1]>s[j][1]:\n",
    "            s[i],s[j]=s[j],s[i]\n",
    "d = dict(s)\n",
    "d"
   ]
  },
  {
   "cell_type": "code",
   "execution_count": 67,
   "id": "6b460318",
   "metadata": {},
   "outputs": [
    {
     "name": "stdout",
     "output_type": "stream",
     "text": [
      "[{'name': 'AP', 'city': 2, 'city with a': ['Amravathi', 'Anakala']}, {'name': 'MP', 'city': 2, 'city with a': ['Abd', 'Ade']}]\n"
     ]
    }
   ],
   "source": [
    "a=[{\"name\":\"AP\",\"city\":[\"vizag\",\"Amravathi\",\"Anakala\",\"kur\",\"nandyala\"]},{\"name\":\"MP\",\"city\":[\"Abd\",\"cda\",\"Ade\",\"kur\",\"d\"]}]\n",
    "for i in a:\n",
    "    c = 0\n",
    "    l = []\n",
    "    for j in i['city']:\n",
    "        if j[0] == 'A' or j[0] == 'a':\n",
    "            c = c+1\n",
    "            l.append(j)\n",
    "            i['city'] = c\n",
    "            i['city with a'] = l\n",
    "print(a)"
   ]
  },
  {
   "cell_type": "code",
   "execution_count": 69,
   "id": "87fd903c",
   "metadata": {},
   "outputs": [
    {
     "name": "stdout",
     "output_type": "stream",
     "text": [
      "2\n"
     ]
    }
   ],
   "source": [
    "x=[[1,2,3],[3,4,2],[4,6,2]]\n",
    "for i in x[0]:\n",
    "    for j in x[1]:\n",
    "        for k in x[2]:\n",
    "            if i == j and j == k:\n",
    "                print(i)"
   ]
  },
  {
   "cell_type": "code",
   "execution_count": 72,
   "id": "6488168b",
   "metadata": {},
   "outputs": [
    {
     "data": {
      "text/plain": [
       "[1, 2, 3, 4]"
      ]
     },
     "execution_count": 72,
     "metadata": {},
     "output_type": "execute_result"
    }
   ],
   "source": [
    "my_list = [[1,2,3],[1,2,3,],[1,2,3,4,]]\n",
    "x = []\n",
    "for i in my_list:\n",
    "    for j in i:\n",
    "        if j not in x:\n",
    "            x.append(j)\n",
    "x"
   ]
  },
  {
   "cell_type": "code",
   "execution_count": 82,
   "id": "9e9b1ddb",
   "metadata": {},
   "outputs": [
    {
     "data": {
      "text/plain": [
       "['abhi', 'vagrahb', 'vamsi', 'raknahs', 'sai', 'iver', 'shiva', 'inum']"
      ]
     },
     "execution_count": 82,
     "metadata": {},
     "output_type": "execute_result"
    }
   ],
   "source": [
    "a='abhi bhargav vamsi shankar sai revi shiva muni'\n",
    "d = []\n",
    "a = a.replace(' ',',')\n",
    "a = a.split(',')\n",
    "for i in range(len(a)):\n",
    "    if i%2 != 0:\n",
    "        c = a[i][::-1]\n",
    "        d.append(c)\n",
    "    else:\n",
    "        d.append(a[i])\n",
    "d\n",
    "        "
   ]
  },
  {
   "cell_type": "code",
   "execution_count": 99,
   "id": "cdd35400",
   "metadata": {},
   "outputs": [
    {
     "name": "stdout",
     "output_type": "stream",
     "text": [
      "[(2, 1), (1, 2), (2, 3), (4, 4), (2, 5)]\n"
     ]
    }
   ],
   "source": [
    "l = [(2, 5), (1, 2), (4, 4), (2, 3), (2, 1)]\n",
    "\n",
    "for i in range(len(l)):\n",
    "    for j in range(i + 1, len(l)):\n",
    "        if l[i][1] > l[j][1]:\n",
    "            l[i], l[j] = l[j], l[i]\n",
    "\n",
    "print(l)\n"
   ]
  },
  {
   "cell_type": "code",
   "execution_count": 87,
   "id": "f5a6d67e",
   "metadata": {},
   "outputs": [
    {
     "data": {
      "text/plain": [
       "['my', 'name', 'is', 'Narsimha']"
      ]
     },
     "execution_count": 87,
     "metadata": {},
     "output_type": "execute_result"
    }
   ],
   "source": [
    "x=['m','na','i','Nar']\n",
    "y=['y','me','s','simha']\n",
    "c = []\n",
    "for i in x:\n",
    "    for j in y:\n",
    "        if x.index(i) == y.index(j):\n",
    "            c.append(i+j)\n",
    "c\n",
    "    "
   ]
  },
  {
   "cell_type": "code",
   "execution_count": 92,
   "id": "2ecc52d7",
   "metadata": {},
   "outputs": [
    {
     "data": {
      "text/plain": [
       "2"
      ]
     },
     "execution_count": 92,
     "metadata": {},
     "output_type": "execute_result"
    }
   ],
   "source": [
    "l=['aba','xyz','abc','1221']\n",
    "c = 0\n",
    "for i in l:\n",
    "    if i[0] == i[-1]:\n",
    "        c+=1\n",
    "c"
   ]
  },
  {
   "cell_type": "code",
   "execution_count": 102,
   "id": "264e438e",
   "metadata": {},
   "outputs": [
    {
     "data": {
      "text/plain": [
       "[(0, 0),\n",
       " (1, 1),\n",
       " (2, 4),\n",
       " (3, 9),\n",
       " (4, 16),\n",
       " (5, 25),\n",
       " (6, 36),\n",
       " (7, 49),\n",
       " (8, 64),\n",
       " (9, 81)]"
      ]
     },
     "execution_count": 102,
     "metadata": {},
     "output_type": "execute_result"
    }
   ],
   "source": [
    "c = [0, 1, 4, 9, 16, 25, 36, 49, 64, 81]\n",
    "d = [(i,i**2) for i in range(len(c))]\n",
    "d"
   ]
  },
  {
   "cell_type": "code",
   "execution_count": 1,
   "id": "a4d73eb3",
   "metadata": {},
   "outputs": [
    {
     "name": "stdout",
     "output_type": "stream",
     "text": [
      "enter your age : 2\n",
      "your not eligible to vote\n"
     ]
    }
   ],
   "source": [
    "class ageinfo(Exception):\n",
    "    pass\n",
    "age = int(input(\"enter your age : \"))\n",
    "try:\n",
    "    if age<19:\n",
    "        raise ageinfo(\"your not eligible to vote\")\n",
    "    else:\n",
    "        print(\"Your eligible to vote \")\n",
    "except ageinfo as e:\n",
    "    print(e)"
   ]
  },
  {
   "cell_type": "code",
   "execution_count": 11,
   "id": "69953d7a",
   "metadata": {},
   "outputs": [],
   "source": [
    "def total():\n",
    "    n=1\n",
    "    while n<=10:\n",
    "        sd = n*n\n",
    "        yield sd\n",
    "        n+=1\n",
    "s = total()\n",
    "s"
   ]
  },
  {
   "cell_type": "code",
   "execution_count": 15,
   "id": "3248f78d",
   "metadata": {},
   "outputs": [
    {
     "name": "stdout",
     "output_type": "stream",
     "text": [
      "300\n"
     ]
    }
   ],
   "source": [
    "def mul_ten(func):\n",
    "    def wrapper(x,y):\n",
    "        return func(x,y)*10\n",
    "    return wrapper\n",
    "@mul_ten\n",
    "def m(x,y):\n",
    "    return x+y\n",
    "print(m(10,20))"
   ]
  },
  {
   "cell_type": "code",
   "execution_count": 19,
   "id": "2a1366ad",
   "metadata": {},
   "outputs": [
    {
     "name": "stdout",
     "output_type": "stream",
     "text": [
      "The sume of 10 and 20 is 30\n",
      "30\n"
     ]
    }
   ],
   "source": [
    "def statement(func):\n",
    "    def wrapper(x,y):\n",
    "        res = x+y\n",
    "        print(f\"The sume of {x} and {y} is {res}\")\n",
    "        return res\n",
    "    return wrapper\n",
    "@statement\n",
    "def add(x,y):\n",
    "    return x+y\n",
    "print(add(10,20))"
   ]
  },
  {
   "cell_type": "code",
   "execution_count": 21,
   "id": "151850be",
   "metadata": {},
   "outputs": [
    {
     "name": "stdout",
     "output_type": "stream",
     "text": [
      "Venkat\n",
      "t\n"
     ]
    }
   ],
   "source": [
    "s=\"Venkatt\"\n",
    "l = ''\n",
    "k = ''\n",
    "for i in s:\n",
    "    if i not in l:\n",
    "        l+=i\n",
    "print(l)\n",
    "\n",
    "for j in s:\n",
    "    if s.count(j)>1 and j not in k:\n",
    "        k+=j\n",
    "print(k)"
   ]
  },
  {
   "cell_type": "code",
   "execution_count": 28,
   "id": "bc070478",
   "metadata": {},
   "outputs": [
    {
     "data": {
      "text/plain": [
       "[1, 2, 3, 4, 5, 6, 7, 8, 9]"
      ]
     },
     "execution_count": 28,
     "metadata": {},
     "output_type": "execute_result"
    }
   ],
   "source": [
    "x=[1,2,3,4,5,6,5,4,3,7,8,9,9]\n",
    "d = [i for n,i in enumerate(x) if i not in x[:n]]\n",
    "d"
   ]
  },
  {
   "cell_type": "code",
   "execution_count": 30,
   "id": "e8bf604c",
   "metadata": {},
   "outputs": [
    {
     "name": "stdout",
     "output_type": "stream",
     "text": [
      "I EVOL NOHTYP "
     ]
    }
   ],
   "source": [
    "sen=\"I LOVE PYTHON\"\n",
    "sen = sen.split()\n",
    "for i in sen:\n",
    "    y = i[::-1]\n",
    "    print(y,end=' ')"
   ]
  },
  {
   "cell_type": "code",
   "execution_count": 33,
   "id": "11e33f8a",
   "metadata": {},
   "outputs": [
    {
     "name": "stdout",
     "output_type": "stream",
     "text": [
      "120\n"
     ]
    }
   ],
   "source": [
    "fact = 1\n",
    "for i in range(1,6):\n",
    "    fact = fact*i\n",
    "print(fact)"
   ]
  },
  {
   "cell_type": "code",
   "execution_count": 34,
   "id": "46c86a9a",
   "metadata": {},
   "outputs": [
    {
     "data": {
      "text/plain": [
       "10"
      ]
     },
     "execution_count": 34,
     "metadata": {},
     "output_type": "execute_result"
    }
   ],
   "source": [
    "x = 1234\n",
    "sum = 0\n",
    "while x>0:\n",
    "    rem = x%10\n",
    "    sum+=rem\n",
    "    x = x//10\n",
    "sum"
   ]
  },
  {
   "cell_type": "code",
   "execution_count": 35,
   "id": "856c3faa",
   "metadata": {},
   "outputs": [
    {
     "data": {
      "text/plain": [
       "'N r s m'"
      ]
     },
     "execution_count": 35,
     "metadata": {},
     "output_type": "execute_result"
    }
   ],
   "source": [
    "s1=\"Narsimha\"\n",
    "s2=\"Chellaboina\"\n",
    "s3 = \" \".join([i for i in s1 if i not in s2])\n",
    "s3"
   ]
  },
  {
   "cell_type": "code",
   "execution_count": 55,
   "id": "af2d140d",
   "metadata": {},
   "outputs": [
    {
     "data": {
      "text/plain": [
       "6"
      ]
     },
     "execution_count": 55,
     "metadata": {},
     "output_type": "execute_result"
    }
   ],
   "source": [
    "x=[1,2,3,4,2,2,2,2,2,2,2,2,2,3,3,3,4,6,6,6,6,66,6,6,6,66,6,6,6,6,6,6,6,6,6,6,6,6] \n",
    "c = {}\n",
    "for i in x:\n",
    "    if i not in c:\n",
    "        c[i]=1\n",
    "    else:\n",
    "        c[i]+=1\n",
    "maxv=0\n",
    "common = None\n",
    "for i,j in c.items():\n",
    "    if j > maxv:\n",
    "        maxv = j\n",
    "        common = i\n",
    "common\n"
   ]
  },
  {
   "cell_type": "code",
   "execution_count": 61,
   "id": "c01dd06b",
   "metadata": {},
   "outputs": [
    {
     "name": "stdout",
     "output_type": "stream",
     "text": [
      "e$stakt\n"
     ]
    }
   ],
   "source": [
    "s='eestakt'\n",
    "a = s[0]\n",
    "c = s.replace('e','$')\n",
    "print(a+c[1:])"
   ]
  },
  {
   "cell_type": "code",
   "execution_count": 66,
   "id": "628e5dc2",
   "metadata": {},
   "outputs": [
    {
     "name": "stdout",
     "output_type": "stream",
     "text": [
      "2\n",
      "3\n",
      "5\n",
      "7\n",
      "11\n",
      "13\n",
      "17\n",
      "19\n",
      "23\n",
      "29\n",
      " prime numbers between 1 and 30\n"
     ]
    }
   ],
   "source": [
    "def prime(func):\n",
    "    def wrapper(x,y):\n",
    "        for num in range(x,y):\n",
    "            if num>1:\n",
    "                for i in range (2,num):\n",
    "                    if num%i == 0:\n",
    "                        break\n",
    "                else:\n",
    "                    print(num)\n",
    "        return func(x,y)\n",
    "    return wrapper\n",
    "@prime\n",
    "def nums(l,u):\n",
    "    print(f\" prime numbers between {l} and {u}\")\n",
    "nums(1,30)"
   ]
  },
  {
   "cell_type": "code",
   "execution_count": 71,
   "id": "28c7d8a0",
   "metadata": {},
   "outputs": [
    {
     "data": {
      "text/plain": [
       "36"
      ]
     },
     "execution_count": 71,
     "metadata": {},
     "output_type": "execute_result"
    }
   ],
   "source": [
    "from functools import reduce \n",
    "nums=[1,2,3,4,6,7,4,9]\n",
    "even = list(filter(lambda x:x%2==0,nums))\n",
    "double = list(map(lambda x:x**2,even))\n",
    "sum = reduce(lambda a,b : a+b,nums)\n",
    "sum"
   ]
  },
  {
   "cell_type": "code",
   "execution_count": 72,
   "id": "9754558a",
   "metadata": {},
   "outputs": [
    {
     "data": {
      "text/plain": [
       "['ALFRED', 'TABITHA', 'WILLIAM', 'ARLA']"
      ]
     },
     "execution_count": 72,
     "metadata": {},
     "output_type": "execute_result"
    }
   ],
   "source": [
    "persons = ['alfred', 'tabitha', 'william', 'arla']\n",
    "uper = list(map(lambda x:x.upper(),persons))\n",
    "uper"
   ]
  },
  {
   "cell_type": "code",
   "execution_count": 77,
   "id": "0f1d39f8",
   "metadata": {},
   "outputs": [
    {
     "data": {
      "text/plain": [
       "'geekskeeg'"
      ]
     },
     "execution_count": 77,
     "metadata": {},
     "output_type": "execute_result"
    }
   ],
   "source": [
    "x=\"forgeekskeegfor\"\n",
    "c=[]\n",
    "for i in range(len(x)):\n",
    "    for j in range(i+1,len(x)):\n",
    "        a = x[i:j+1]\n",
    "        if a == a[::-1]:\n",
    "            c.append(a)\n",
    "long = ''\n",
    "for i in c:\n",
    "    if len(i)>len(long):\n",
    "        long = i\n",
    "long"
   ]
  },
  {
   "cell_type": "code",
   "execution_count": 79,
   "id": "42a4711d",
   "metadata": {},
   "outputs": [
    {
     "data": {
      "text/plain": [
       "{'item1': 1150, 'item2': 300}"
      ]
     },
     "execution_count": 79,
     "metadata": {},
     "output_type": "execute_result"
    }
   ],
   "source": [
    "x= [{'item': 'item1', 'amount': 400}, {'item': 'item2', 'amount': 300}, {'item': 'item1', 'amount': 750}]\n",
    "res = {}\n",
    "for i in x:\n",
    "    if i['item'] not in res:\n",
    "        res[i['item']] = i['amount']\n",
    "    else:\n",
    "        res[i['item']]+=i['amount']\n",
    "res"
   ]
  },
  {
   "cell_type": "code",
   "execution_count": 81,
   "id": "8607c99c",
   "metadata": {},
   "outputs": [
    {
     "name": "stdout",
     "output_type": "stream",
     "text": [
      "key value count\n",
      "1 10 1\n",
      "2 20 2\n",
      "3 30 3\n",
      "4 40 4\n",
      "5 50 5\n",
      "6 60 6\n"
     ]
    }
   ],
   "source": [
    "d = {1: 10, 2: 20, 3: 30, 4: 40, 5: 50, 6: 60}\n",
    "print(\"key value count\")\n",
    "for count,(key,val) in enumerate(d.items(),1):\n",
    "    print(key,val,count)"
   ]
  },
  {
   "cell_type": "code",
   "execution_count": 89,
   "id": "93d967d0",
   "metadata": {},
   "outputs": [
    {
     "name": "stdout",
     "output_type": "stream",
     "text": [
      "1 3 5 7 9 \n",
      "\n",
      "3 5 7 9 11 \n",
      "\n",
      "5 7 9 11 13 \n",
      "\n",
      "7 9 11 13 15 \n",
      "\n",
      "9 11 13 15 17 \n",
      "\n"
     ]
    }
   ],
   "source": [
    "for i in range(10):\n",
    "    for j in range(10):\n",
    "        if i%2 == 0:\n",
    "            if j%2 == 1:\n",
    "                print(i+j,end=' ')\n",
    "    print()"
   ]
  },
  {
   "cell_type": "code",
   "execution_count": null,
   "id": "04c11191",
   "metadata": {},
   "outputs": [],
   "source": []
  },
  {
   "cell_type": "code",
   "execution_count": null,
   "id": "b55cbefb",
   "metadata": {},
   "outputs": [],
   "source": []
  },
  {
   "cell_type": "code",
   "execution_count": null,
   "id": "ffba5e82",
   "metadata": {},
   "outputs": [],
   "source": []
  },
  {
   "cell_type": "code",
   "execution_count": null,
   "id": "f8f3ffa1",
   "metadata": {},
   "outputs": [],
   "source": []
  }
 ],
 "metadata": {
  "kernelspec": {
   "display_name": "Python 3 (ipykernel)",
   "language": "python",
   "name": "python3"
  },
  "language_info": {
   "codemirror_mode": {
    "name": "ipython",
    "version": 3
   },
   "file_extension": ".py",
   "mimetype": "text/x-python",
   "name": "python",
   "nbconvert_exporter": "python",
   "pygments_lexer": "ipython3",
   "version": "3.12.9"
  }
 },
 "nbformat": 4,
 "nbformat_minor": 5
}
