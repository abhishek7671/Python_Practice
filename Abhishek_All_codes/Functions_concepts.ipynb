{
 "cells": [
  {
   "cell_type": "code",
   "execution_count": 4,
   "id": "26392cce-fe49-4f6f-8d9e-bbd6690484df",
   "metadata": {},
   "outputs": [
    {
     "name": "stdout",
     "output_type": "stream",
     "text": [
      "hello\n"
     ]
    }
   ],
   "source": [
    "def data():\n",
    "    print('hello')\n",
    "data()\n"
   ]
  },
  {
   "cell_type": "code",
   "execution_count": 5,
   "id": "6db64ab3-eedb-4f1b-9335-42e601876a4a",
   "metadata": {},
   "outputs": [
    {
     "name": "stdout",
     "output_type": "stream",
     "text": [
      "3\n"
     ]
    }
   ],
   "source": [
    "def data (a,b):\n",
    "    return (a-b)\n",
    "a=10\n",
    "b=7\n",
    "res= data(a,b)\n",
    "print(res)"
   ]
  },
  {
   "cell_type": "code",
   "execution_count": 20,
   "id": "5e07d1ee-ddf9-4b9f-b932-a84399f4f5fe",
   "metadata": {},
   "outputs": [
    {
     "name": "stdout",
     "output_type": "stream",
     "text": [
      "25\n"
     ]
    }
   ],
   "source": [
    "def data(func, arg):\n",
    "    return func(arg)\n",
    "def day(x):\n",
    "    return x**2\n",
    "res = data(day,5)\n",
    "print(res)"
   ]
  },
  {
   "cell_type": "code",
   "execution_count": 30,
   "id": "2c33fa99-89e6-4f31-b416-9006e71b5295",
   "metadata": {},
   "outputs": [
    {
     "name": "stdout",
     "output_type": "stream",
     "text": [
      "2\n",
      "3\n",
      "5\n",
      "7\n",
      "11\n",
      "13\n",
      "17\n",
      "19\n",
      "23\n",
      "29\n"
     ]
    }
   ],
   "source": [
    "def data(n):\n",
    "    x = 2\n",
    "    count = 0\n",
    "    while count < n:\n",
    "        for d in range(2, int(x ** 0.5) + 1):\n",
    "            if x % d == 0:\n",
    "                break\n",
    "        else:\n",
    "            print(x)\n",
    "            count += 1\n",
    "        x += 1\n",
    "n = 10\n",
    "data(n)\n",
    "        "
   ]
  },
  {
   "cell_type": "code",
   "execution_count": 46,
   "id": "5163d9be-4ff6-4b6f-98d6-903ee83149da",
   "metadata": {},
   "outputs": [
    {
     "name": "stdout",
     "output_type": "stream",
     "text": [
      "[1, 2, 3, 4, 5]\n"
     ]
    }
   ],
   "source": [
    "def fun(*args):\n",
    "    for i in args:\n",
    "        print(i)\n",
    "args=[1, 2, 3, 4, 5]\n",
    "fun(args)"
   ]
  },
  {
   "cell_type": "code",
   "execution_count": 53,
   "id": "f550b213-b151-49e0-be5c-8401e1ea396a",
   "metadata": {},
   "outputs": [
    {
     "name": "stdout",
     "output_type": "stream",
     "text": [
      "name:Alice\n",
      "age:30\n",
      "city:New York\n"
     ]
    }
   ],
   "source": [
    "def fun(**kwargs):\n",
    "    for k,v in kwargs.items():\n",
    "        print(f\"{k}:{v}\")\n",
    "fun(name=\"Alice\", age=30, city=\"New York\")"
   ]
  },
  {
   "cell_type": "code",
   "execution_count": 56,
   "id": "30ddfde6-dda1-4167-9312-14036adee15c",
   "metadata": {},
   "outputs": [
    {
     "name": "stdout",
     "output_type": "stream",
     "text": [
      "Name - Alice \n",
      " Age - 20.\n"
     ]
    }
   ],
   "source": [
    "class Person:\n",
    "    def __init__(self,name,age):\n",
    "        self.name = name\n",
    "        self.age = age\n",
    "    def greet(self):\n",
    "        print(f'Name - {self.name} \\n Age - {self.age}.')\n",
    "p1=Person('Alice',20)\n",
    "p1.greet()"
   ]
  },
  {
   "cell_type": "code",
   "execution_count": 60,
   "id": "19908f04-9832-425f-bed0-683082528afd",
   "metadata": {},
   "outputs": [
    {
     "name": "stdout",
     "output_type": "stream",
     "text": [
      "5\n",
      "True\n"
     ]
    }
   ],
   "source": [
    "def add(a,b):\n",
    "    return a+b\n",
    "def is_true(a):\n",
    "    return bool(a)\n",
    "\n",
    "res=add(2,3)\n",
    "print(res)\n",
    "\n",
    "res = is_true(2<5)\n",
    "print(res)"
   ]
  },
  {
   "cell_type": "code",
   "execution_count": 65,
   "id": "184e4210-dfe8-442a-b217-bc3813281fd5",
   "metadata": {},
   "outputs": [
    {
     "name": "stdout",
     "output_type": "stream",
     "text": [
      "g\n"
     ]
    }
   ],
   "source": [
    "i = 0 \n",
    "a = 'geeksforgeeks'\n",
    "while i <len(a):\n",
    "    if a[i] == 'e' or a[i] == 's':\n",
    "        i += 1\n",
    "        break\n",
    "    print(a[i])\n",
    "    i += 1\n",
    "        "
   ]
  },
  {
   "cell_type": "code",
   "execution_count": 70,
   "id": "4c65fe08-eaae-468d-a4d9-ebdd1decaf2e",
   "metadata": {},
   "outputs": [
    {
     "name": "stdout",
     "output_type": "stream",
     "text": [
      "120\n"
     ]
    }
   ],
   "source": [
    "def factorial(n):\n",
    "    if n == 1:\n",
    "        return 1\n",
    "    else:\n",
    "        return n*factorial(n-1)\n",
    "print(factorial(5))\n",
    "\n",
    "        "
   ]
  },
  {
   "cell_type": "code",
   "execution_count": 79,
   "id": "da8389b6-10fb-40ef-bc20-8313fd8acb02",
   "metadata": {},
   "outputs": [
    {
     "name": "stdout",
     "output_type": "stream",
     "text": [
      "10\n",
      "20\n",
      "30\n",
      "40\n"
     ]
    }
   ],
   "source": [
    "data = [lambda arg=x: arg*10 for x in range(1,5)]\n",
    "for i in data:\n",
    "    print(i())"
   ]
  },
  {
   "cell_type": "code",
   "execution_count": null,
   "id": "747cbcff-ef52-4fa8-a096-d304591dcbe8",
   "metadata": {},
   "outputs": [],
   "source": []
  },
  {
   "cell_type": "code",
   "execution_count": null,
   "id": "69f62378-d6ee-4a4d-be40-3a0d9af22bf5",
   "metadata": {},
   "outputs": [],
   "source": []
  },
  {
   "cell_type": "code",
   "execution_count": null,
   "id": "f63c6585-254e-431f-93a4-33275875b481",
   "metadata": {},
   "outputs": [],
   "source": []
  },
  {
   "cell_type": "code",
   "execution_count": null,
   "id": "2598311e-af9d-49c3-9517-e98af35b7553",
   "metadata": {},
   "outputs": [],
   "source": []
  },
  {
   "cell_type": "code",
   "execution_count": 13,
   "id": "ac470e6b-c8b0-4962-b826-1caa37c48334",
   "metadata": {},
   "outputs": [
    {
     "name": "stdout",
     "output_type": "stream",
     "text": [
      "['name=rajiv', 'gender=male']\n",
      "['name', 'rajiv']\n",
      "['gender', 'male']\n",
      "{'name': 'rajiv', 'gender': 'male'}\n"
     ]
    }
   ],
   "source": [
    "a=\"www.facebook.com?name=rajiv&gender=male\"\n",
    "b=a.split('?')[1]\n",
    "\n",
    "b= b.split('&')\n",
    "print(b)\n",
    "c=b[0].split('=')\n",
    "print(c)\n",
    "d=b[1].split('=')\n",
    "print(d)\n",
    "e={}\n",
    "e[c[0]]=c[1]\n",
    "e[d[0]]=d[1]\n",
    "print(e)\n",
    "\n"
   ]
  },
  {
   "cell_type": "code",
   "execution_count": 33,
   "id": "6904eb2a-86be-46d0-a56f-a309dd8795c8",
   "metadata": {},
   "outputs": [
    {
     "name": "stdout",
     "output_type": "stream",
     "text": [
      "['http:abc.com', 'name', 'vasu', 'age', '20']\n",
      "{'name': 'vasu', 'age': '20'}\n"
     ]
    }
   ],
   "source": [
    "s=\"http:abc.com?name?vasu?age?20\"\n",
    "s=s.split(\"?\")\n",
    "print(s)\n",
    "d={}\n",
    "d[s[1]]= s[2]\n",
    "d[s[3]]=s[4]\n",
    "print(d)\n"
   ]
  },
  {
   "cell_type": "code",
   "execution_count": 34,
   "id": "81a2d377-a481-48e8-9019-df0ab4c21f6f",
   "metadata": {},
   "outputs": [
    {
     "name": "stdout",
     "output_type": "stream",
     "text": [
      "{'q': 1, 's': 9, 'd': 8, 'f': 7, 'g': 8, 'h': 7, 'j': 7, 'k': 2, 'v': 1, 'a': 1, 'r': 1, 't': 1, 'y': 1, 'u': 1, 'i': 1}\n"
     ]
    }
   ],
   "source": [
    "s='qsdfghjkjhgfdsssdfvghjhgfdssdfghjkjhgfdsasdrtgyujijhgfds'\n",
    "d = {}\n",
    "for i in s:\n",
    "    if i in d.keys():\n",
    "        d[i] += 1\n",
    "    else:\n",
    "        d[i] = 1\n",
    "print(d)"
   ]
  },
  {
   "cell_type": "code",
   "execution_count": 38,
   "id": "89a54012-0d4d-4f3e-904e-395f73648066",
   "metadata": {},
   "outputs": [
    {
     "name": "stdout",
     "output_type": "stream",
     "text": [
      "['q', 's', 'd', 'f', 'g', 'h', 'j', 'k', 'v', 'a', 'r', 't', 'y', 'u', 'i']\n"
     ]
    }
   ],
   "source": [
    "s='qsdfghjkjhgfdsssdfvghjhgfdssdfghjkjhgfdsasdrtgyujijhgfds'\n",
    "# s=s.split(' ')\n",
    "# print(s)\n",
    "d = []\n",
    "for i in s:\n",
    "    if i not in d:\n",
    "        d.append(i)\n",
    "    # else:\n",
    "    #     print(\"****\")\n",
    "print(d)\n"
   ]
  },
  {
   "cell_type": "code",
   "execution_count": 42,
   "id": "66ab6eb6-09f4-4348-a13d-f8feae599740",
   "metadata": {},
   "outputs": [
    {
     "name": "stdout",
     "output_type": "stream",
     "text": [
      "['S001', 'S002', 'S001', 'S005', 'S005', 'S009', 'S007']\n"
     ]
    }
   ],
   "source": [
    "l = [{\"V\": \"S001\"}, {\"V\": \"S002\"}, {\"VI\": \"S001\"}, {\"VI\": \"S005\"}, {\"VII\": \"S005\"}, {\"V\": \"S009\"}, {\"VIII\": \"S007\"}]\n",
    "d= []\n",
    "for i in l:\n",
    "    for j in i.values():\n",
    "        d.append(j)\n",
    "        \n",
    "print(d)"
   ]
  },
  {
   "cell_type": "code",
   "execution_count": 53,
   "id": "8c89c73e-e55b-42da-bec0-7c07557791c2",
   "metadata": {},
   "outputs": [
    {
     "data": {
      "text/plain": [
       "False"
      ]
     },
     "execution_count": 53,
     "metadata": {},
     "output_type": "execute_result"
    }
   ],
   "source": [
    "def palindrome(s):\n",
    "    left, right = 0, len(s) - 1\n",
    "    while left < right:\n",
    "        if s[left] != s[right]:\n",
    "            return False\n",
    "        left +=1\n",
    "        right -=1\n",
    "    return True\n",
    "palindrome('ram')"
   ]
  },
  {
   "cell_type": "code",
   "execution_count": 59,
   "id": "8a838491-ffaa-48a2-a068-83486d207501",
   "metadata": {},
   "outputs": [
    {
     "name": "stdout",
     "output_type": "stream",
     "text": [
      "False\n",
      "True\n"
     ]
    }
   ],
   "source": [
    "def palindrome(s):\n",
    "    left, right = 0, len(s) - 1\n",
    "    while left < right:\n",
    "        if s[left] != s[right]:\n",
    "            return False  # Corrected `false` to `False`\n",
    "        left += 1\n",
    "        right -= 1\n",
    "    return True\n",
    "\n",
    "# Example usage\n",
    "print(palindrome('ram'))  # Output: False\n",
    "print(palindrome('madam'))  # Output: True\n"
   ]
  },
  {
   "cell_type": "markdown",
   "id": "2c764c1f-8196-4493-b7db-ded46c9da141",
   "metadata": {},
   "source": []
  },
  {
   "cell_type": "code",
   "execution_count": 66,
   "id": "b868882f-bfba-4d0f-92d2-08d65f8559a9",
   "metadata": {},
   "outputs": [
    {
     "name": "stdout",
     "output_type": "stream",
     "text": [
      "1994\n"
     ]
    }
   ],
   "source": [
    "def roman(s):\n",
    "    pre = 0\n",
    "    total = 0\n",
    "    roman_map = { 'I': 1, 'V': 5, 'X': 10, 'L': 50, 'C': 100, 'D': 500, 'M': 1000}\n",
    "    for i in reversed(s):\n",
    "        curr = roman_map[i]\n",
    "        if curr < pre :\n",
    "            total -= curr\n",
    "        else:\n",
    "            total += curr\n",
    "        pre = curr\n",
    "    return total\n",
    "\n",
    "print(roman(\"MCMXCIV\"))"
   ]
  },
  {
   "cell_type": "code",
   "execution_count": 97,
   "id": "3b075282-812e-4b1f-ad4a-49dc4e4a4c70",
   "metadata": {},
   "outputs": [
    {
     "name": "stdout",
     "output_type": "stream",
     "text": [
      "da\n"
     ]
    }
   ],
   "source": [
    "def data(s):\n",
    "    if not s:\n",
    "        return ''\n",
    "    prefix = s[0]\n",
    "    for i in s[1:]:\n",
    "        while not i.startswith(prefix):\n",
    "            prefix = prefix[:-1]\n",
    "            if not prefix:\n",
    "                return ''\n",
    "    return prefix\n",
    "print(data([\"data\",\"date\",\"day\"]))"
   ]
  },
  {
   "cell_type": "code",
   "execution_count": 5,
   "id": "aa89df98-d98e-4b8d-ab75-33f76d93b34c",
   "metadata": {},
   "outputs": [
    {
     "name": "stdout",
     "output_type": "stream",
     "text": [
      "da\n"
     ]
    }
   ],
   "source": [
    "data = [\"data\",\"date\",\"day\"]\n",
    "prefix = data[0]\n",
    "for i in data[1:]:\n",
    "    while not i.startswith(prefix):\n",
    "        prefix = prefix[:-1]\n",
    "        if not prefix:\n",
    "            print(\"empty\")\n",
    "print(prefix)"
   ]
  },
  {
   "cell_type": "code",
   "execution_count": 6,
   "id": "1cc740e1-d398-4e5c-93ee-72168cd230e2",
   "metadata": {},
   "outputs": [
    {
     "name": "stdout",
     "output_type": "stream",
     "text": [
      "76\n"
     ]
    }
   ],
   "source": [
    "a = [10, 24, 76, 23, 12]\n",
    "lar = a[0]\n",
    "for i in a:\n",
    "    if i>lar:\n",
    "        lar = i\n",
    "print(lar)"
   ]
  },
  {
   "cell_type": "code",
   "execution_count": 1,
   "id": "ef5dbc41-b33c-41b3-8755-e4db8a2145f5",
   "metadata": {},
   "outputs": [
    {
     "name": "stdout",
     "output_type": "stream",
     "text": [
      "d\n"
     ]
    }
   ],
   "source": [
    "def most_common_character(s):\n",
    "    d = {}\n",
    "    for i in s:\n",
    "        if i in d:\n",
    "            d[i] +=1\n",
    "        else:\n",
    "            d[i] = 1\n",
    "    max = 0\n",
    "    common = None\n",
    "    for i in s:\n",
    "        if d[i] > max:\n",
    "            max = d[i]\n",
    "            common = i\n",
    "    return common \n",
    "s= \"gdhgfdfecuhdu\"\n",
    "print(most_common_character(s))\n",
    "        "
   ]
  },
  {
   "cell_type": "code",
   "execution_count": null,
   "id": "73405d8c-391d-4998-b913-85fab586502d",
   "metadata": {},
   "outputs": [],
   "source": []
  },
  {
   "cell_type": "code",
   "execution_count": null,
   "id": "975b86a9-b70a-41c1-b947-12bd02004a00",
   "metadata": {},
   "outputs": [],
   "source": []
  },
  {
   "cell_type": "code",
   "execution_count": null,
   "id": "f05b779b-f6cd-49d5-bb68-68bcc565b6b1",
   "metadata": {},
   "outputs": [],
   "source": []
  },
  {
   "cell_type": "code",
   "execution_count": null,
   "id": "50adab90-5b82-46fd-b9c0-c93ba7aa9ae6",
   "metadata": {},
   "outputs": [],
   "source": []
  },
  {
   "cell_type": "code",
   "execution_count": null,
   "id": "eb8a4876-6f9e-4c5a-b314-a7020181abb1",
   "metadata": {},
   "outputs": [],
   "source": []
  },
  {
   "cell_type": "code",
   "execution_count": null,
   "id": "cb0baaff-e4b5-4bf1-8f8b-0e22203ca39c",
   "metadata": {},
   "outputs": [],
   "source": []
  },
  {
   "cell_type": "code",
   "execution_count": null,
   "id": "d0d19816-071e-4590-bd63-013542039dc2",
   "metadata": {},
   "outputs": [],
   "source": []
  },
  {
   "cell_type": "code",
   "execution_count": null,
   "id": "729257a8-f524-407a-9568-39fd69b06b70",
   "metadata": {},
   "outputs": [],
   "source": []
  },
  {
   "cell_type": "code",
   "execution_count": null,
   "id": "d672fe12-8199-495d-9d0e-dae5f1ca2c9e",
   "metadata": {},
   "outputs": [],
   "source": []
  }
 ],
 "metadata": {
  "kernelspec": {
   "display_name": "Python 3 (ipykernel)",
   "language": "python",
   "name": "python3"
  },
  "language_info": {
   "codemirror_mode": {
    "name": "ipython",
    "version": 3
   },
   "file_extension": ".py",
   "mimetype": "text/x-python",
   "name": "python",
   "nbconvert_exporter": "python",
   "pygments_lexer": "ipython3",
   "version": "3.11.5"
  }
 },
 "nbformat": 4,
 "nbformat_minor": 5
}
