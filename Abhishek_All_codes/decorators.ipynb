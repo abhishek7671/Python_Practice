{
 "cells": [
  {
   "cell_type": "code",
   "execution_count": null,
   "metadata": {},
   "outputs": [],
   "source": [
    "def data(func):\n",
    "    def wrapper():\n",
    "        return \"before decorator\"\n",
    "        func()\n",
    "        return \"after decorator\"\n",
    "    return wrapper\n",
    "\n",
    "@data\n",
    "\n",
    "def day():\n",
    "    return 'hello world'\n",
    "day()"
   ]
  },
  {
   "cell_type": "code",
   "execution_count": 6,
   "metadata": {},
   "outputs": [
    {
     "name": "stdout",
     "output_type": "stream",
     "text": [
      "0.6\n"
     ]
    }
   ],
   "source": [
    "# Custom decorator\n",
    "def limit_result(func):\n",
    "    def wrapper(a,b):\n",
    "        if b == 0:\n",
    "            return \"error:division by zero is not valid\"\n",
    "        data = func(a,b)\n",
    "        if data < 1:\n",
    "            return data\n",
    "        else:\n",
    "            return \"greater than 1 \"\n",
    "    return wrapper\n",
    "\n",
    "@limit_result\n",
    "def day(a,b):\n",
    "    return a/b\n",
    "\n",
    "a,b = 3,5\n",
    "print(day(a,b))\n"
   ]
  }
 ],
 "metadata": {
  "kernelspec": {
   "display_name": "Python 3",
   "language": "python",
   "name": "python3"
  },
  "language_info": {
   "codemirror_mode": {
    "name": "ipython",
    "version": 3
   },
   "file_extension": ".py",
   "mimetype": "text/x-python",
   "name": "python",
   "nbconvert_exporter": "python",
   "pygments_lexer": "ipython3",
   "version": "3.11.5"
  }
 },
 "nbformat": 4,
 "nbformat_minor": 2
}
