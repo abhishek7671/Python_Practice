{
 "cells": [
  {
   "cell_type": "code",
   "execution_count": null,
   "metadata": {},
   "outputs": [],
   "source": [
    "def data(func):\n",
    "    def wrapper():\n",
    "        return \"before decorator\"\n",
    "        func()\n",
    "        return \"after decorator\"\n",
    "    return wrapper\n",
    "\n",
    "@data\n",
    "\n",
    "def day():\n",
    "    return 'hello world'\n",
    "day()"
   ]
  },
  {
   "cell_type": "code",
   "execution_count": 4,
   "metadata": {},
   "outputs": [
    {
     "name": "stdout",
     "output_type": "stream",
     "text": [
      "0.4\n"
     ]
    }
   ],
   "source": [
    "# Custom decorator\n",
    "def limit_result(func):\n",
    "    def wrapper(a,b):\n",
    "        if b == 0:\n",
    "            return \"error:division by zero is not valid\"\n",
    "        data = func(a,b)\n",
    "        if data < 1:\n",
    "            return data\n",
    "        else:\n",
    "            return \"greater than 1 \"\n",
    "    return wrapper\n",
    "\n",
    "@limit_result\n",
    "def day(a,b):\n",
    "    return a/b\n",
    "\n",
    "a,b = 2,5\n",
    "print(day(a,b))\n"
   ]
  },
  {
   "cell_type": "code",
   "execution_count": 4,
   "metadata": {},
   "outputs": [
    {
     "name": "stdin",
     "output_type": "stream",
     "text": [
      "enter age 2\n"
     ]
    },
    {
     "name": "stdout",
     "output_type": "stream",
     "text": [
      "\n"
     ]
    }
   ],
   "source": [
    "class InvalidAgeException (Exception):\n",
    "    pass\n",
    " \n",
    "try:\n",
    "    num=int(input(\"enter age\"))\n",
    "    if num<18:\n",
    "        raise InvalidAgeException\n",
    "    else:\n",
    "        print (\"Eligible to vote\")\n",
    "except InvalidAgeException:\n",
    "    print(\"not Eligible to vote\")\n",
    "    "
   ]
  },
  {
   "cell_type": "code",
   "execution_count": 13,
   "metadata": {},
   "outputs": [
    {
     "name": "stdin",
     "output_type": "stream",
     "text": [
      "enter number: 23\n"
     ]
    },
    {
     "name": "stdout",
     "output_type": "stream",
     "text": [
      "eligible\n"
     ]
    }
   ],
   "source": [
    "class Data(Exception):\n",
    "    def __init__(self,message='age must be atleast 18'):\n",
    "        self.message=message\n",
    "        super().__init__(self.message)\n",
    "try:\n",
    "    num = int(input('enter number:'))\n",
    "    if num < 18:\n",
    "              raise Data()\n",
    "    else:\n",
    "        print('eligible')\n",
    "except Data as e:\n",
    "    print(e)\n"
   ]
  },
  {
   "cell_type": "code",
   "execution_count": 16,
   "metadata": {},
   "outputs": [
    {
     "name": "stdout",
     "output_type": "stream",
     "text": [
      "0.4\n"
     ]
    }
   ],
   "source": [
    "def decorator(func):\n",
    "    def wrapper(a,b):\n",
    "        if b == 0:\n",
    "            return 'Error: Invalid data'\n",
    "        day = func(a,b)\n",
    "        if day < 1 :\n",
    "            return day\n",
    "        else:\n",
    "            return 'greater than 1'\n",
    "    return wrapper\n",
    "\n",
    "@decorator\n",
    "def daily(a,b):\n",
    "    return a/b\n",
    "\n",
    "a,b = 2,5\n",
    "print(daily(a,b))"
   ]
  },
  {
   "cell_type": "code",
   "execution_count": 34,
   "metadata": {},
   "outputs": [
    {
     "name": "stdin",
     "output_type": "stream",
     "text": [
      "enter the age: 23\n"
     ]
    },
    {
     "name": "stdout",
     "output_type": "stream",
     "text": [
      "Eligible\n"
     ]
    }
   ],
   "source": [
    "class Data(Exception):\n",
    "    def __init__(self, message = 'Invalid age, age must greater than 18'):\n",
    "        self.message = message\n",
    "        super().__init__(self.message)\n",
    "try:\n",
    "    num = int(input('enter the age:'))\n",
    "    if num < 18:\n",
    "        raise Data()\n",
    "    else:\n",
    "        print('Eligible')\n",
    "except Data as e:\n",
    "    print(e)"
   ]
  },
  {
   "cell_type": "code",
   "execution_count": 35,
   "metadata": {},
   "outputs": [
    {
     "name": "stdout",
     "output_type": "stream",
     "text": [
      "0.4\n"
     ]
    }
   ],
   "source": [
    "def decorator(func):\n",
    "    def demo (a,b):\n",
    "        if b == 0:\n",
    "            return 'Value Error'\n",
    "        data = func(a,b)\n",
    "        if data < 1:\n",
    "            return data\n",
    "        else:\n",
    "            return 'greater than 1'\n",
    "    return demo\n",
    "\n",
    "@decorator\n",
    "def daily(a,b):\n",
    "    return a/b\n",
    "a,b = 2,5\n",
    "print(daily(a,b))"
   ]
  },
  {
   "cell_type": "code",
   "execution_count": null,
   "metadata": {},
   "outputs": [],
   "source": []
  }
 ],
 "metadata": {
  "kernelspec": {
   "display_name": "Python 3 (ipykernel)",
   "language": "python",
   "name": "python3"
  },
  "language_info": {
   "codemirror_mode": {
    "name": "ipython",
    "version": 3
   },
   "file_extension": ".py",
   "mimetype": "text/x-python",
   "name": "python",
   "nbconvert_exporter": "python",
   "pygments_lexer": "ipython3",
   "version": "3.11.5"
  }
 },
 "nbformat": 4,
 "nbformat_minor": 4
}
