{
 "cells": [
  {
   "cell_type": "code",
   "execution_count": 21,
   "id": "aba2507b-d00d-4406-8499-3470e3bb7190",
   "metadata": {},
   "outputs": [
    {
     "name": "stdin",
     "output_type": "stream",
     "text": [
      "Enter the row numbers: 5\n"
     ]
    },
    {
     "name": "stdout",
     "output_type": "stream",
     "text": [
      "*\n",
      "**\n",
      "***\n",
      "****\n",
      "*****\n"
     ]
    }
   ],
   "source": [
    "n=int(input('Enter the row numbers:'))\n",
    "for i in range(1,n+1):\n",
    "    for j in range(1,i+1):\n",
    "        print(\"*\",end =\"\")\n",
    "    print()"
   ]
  },
  {
   "cell_type": "code",
   "execution_count": 20,
   "id": "d267db2d-e21b-4a5e-a8ff-37f4df6aee47",
   "metadata": {},
   "outputs": [
    {
     "name": "stdin",
     "output_type": "stream",
     "text": [
      "Enter the row numbers: 5\n"
     ]
    },
    {
     "name": "stdout",
     "output_type": "stream",
     "text": [
      "*\n",
      "**\n",
      "***\n",
      "****\n",
      "*****\n"
     ]
    }
   ],
   "source": [
    "n=int(input('Enter the row numbers:'))\n",
    "for i in range(1,n+1):\n",
    "    print('*'*i)"
   ]
  },
  {
   "cell_type": "code",
   "execution_count": 18,
   "id": "8faea47f-0c15-4aa8-876a-b38b61bd8f74",
   "metadata": {},
   "outputs": [
    {
     "name": "stdin",
     "output_type": "stream",
     "text": [
      "Enter the row numbers: 5\n"
     ]
    },
    {
     "name": "stdout",
     "output_type": "stream",
     "text": [
      "    * \n",
      "   * * \n",
      "  * * * \n",
      " * * * * \n",
      "* * * * * \n"
     ]
    }
   ],
   "source": [
    "n=int(input('Enter the row numbers:'))\n",
    "for i in range(1,n+1):\n",
    "    print(\" \"*(n-i),end=\"\")\n",
    "    print(\"* \"*i)"
   ]
  },
  {
   "cell_type": "code",
   "execution_count": 8,
   "id": "1f679d04-a702-4e3d-a0a3-4056437ef74e",
   "metadata": {},
   "outputs": [
    {
     "name": "stdout",
     "output_type": "stream",
     "text": [
      "\n",
      "* \n",
      "* * \n",
      "* * * \n",
      "* * * * \n",
      "* * * * * \n",
      "* * * * \n",
      "* * * \n",
      "* * \n",
      "* \n"
     ]
    }
   ],
   "source": [
    "n= 5\n",
    "for i in range(n):\n",
    "    for j in range(i):\n",
    "        print(\"*\", end =\" \")\n",
    "    print()\n",
    "\n",
    "for i in range(n,0,-1):\n",
    "    for j in range(i):\n",
    "        print(\"*\", end = \" \")\n",
    "    print()"
   ]
  },
  {
   "cell_type": "code",
   "execution_count": 11,
   "id": "17999d52-ecb9-479a-b2a4-d975c2420dc3",
   "metadata": {},
   "outputs": [
    {
     "name": "stdout",
     "output_type": "stream",
     "text": [
      "  ***  \n",
      " *   * \n",
      " *   * \n",
      " ***** \n",
      " *   * \n",
      " *   * \n",
      " *   * \n",
      "\n"
     ]
    }
   ],
   "source": [
    "str  = \"\"\n",
    "\n",
    "for i in range(0,7):\n",
    "    for j in range(0,7):\n",
    "        if (((j == 1 or j == 5) and i != 0) or ((i == 0  or i == 3) and (j > 1 and j < 5))):\n",
    "            str += \"*\"\n",
    "        else:\n",
    "            str += \" \"\n",
    "    str = str + \"\\n\"\n",
    "print(str)"
   ]
  },
  {
   "cell_type": "code",
   "execution_count": 12,
   "id": "e9dcacff-b50a-4f44-8fde-315b69589f12",
   "metadata": {},
   "outputs": [
    {
     "name": "stdout",
     "output_type": "stream",
     "text": [
      " ****  \n",
      " *   * \n",
      " *   * \n",
      " *   * \n",
      " *   * \n",
      " *   * \n",
      " ****  \n",
      "\n"
     ]
    }
   ],
   "source": [
    "str = ''\n",
    "for i in range(0,7):\n",
    "    for j in range(0,7):\n",
    "        if (j == 1 or ((i == 0 or i == 6) and (j > 1 and j < 5)) or (j == 5 and i != 0 and i != 6)):\n",
    "            str += \"*\"\n",
    "        else:\n",
    "            str += \" \"\n",
    "    str = str + \"\\n\"\n",
    "print(str)"
   ]
  },
  {
   "cell_type": "code",
   "execution_count": null,
   "id": "f17a9200-270c-4681-b7b7-9bab47bfc1f3",
   "metadata": {},
   "outputs": [],
   "source": []
  },
  {
   "cell_type": "code",
   "execution_count": null,
   "id": "120967bd-bbc9-489e-94b2-f07fe2fa743c",
   "metadata": {},
   "outputs": [],
   "source": []
  },
  {
   "cell_type": "code",
   "execution_count": null,
   "id": "2fab1ba6-94af-44a5-9a92-66ff9f61de3d",
   "metadata": {},
   "outputs": [],
   "source": []
  },
  {
   "cell_type": "code",
   "execution_count": null,
   "id": "e02e3348-50bf-4044-ade0-9c12633f0085",
   "metadata": {},
   "outputs": [],
   "source": []
  },
  {
   "cell_type": "code",
   "execution_count": null,
   "id": "2d8c11e4-e905-47e9-8ec1-bbd596ec8208",
   "metadata": {},
   "outputs": [],
   "source": []
  },
  {
   "cell_type": "code",
   "execution_count": 23,
   "id": "702571c6-8348-4247-951a-b42636260c2d",
   "metadata": {},
   "outputs": [
    {
     "name": "stdout",
     "output_type": "stream",
     "text": [
      " rtaevjia\n"
     ]
    }
   ],
   "source": [
    "s1=\"ravi\"\n",
    "s2=\"teja\"\n",
    "\n",
    "output = ' ' \n",
    "i,j=0,0\n",
    "while i<len(s1) or j<len(s2):\n",
    "    if i<len(s1):\n",
    "        output= output+s1[i]\n",
    "        i=i+1\n",
    "    if j<len(s2):\n",
    "        output=output+s2[j]\n",
    "        j=j+1\n",
    "print(output)"
   ]
  },
  {
   "cell_type": "code",
   "execution_count": 35,
   "id": "086fbbf8-3581-4c15-b119-b13348fd892b",
   "metadata": {},
   "outputs": [
    {
     "name": "stdout",
     "output_type": "stream",
     "text": [
      "rtaevjia\n"
     ]
    }
   ],
   "source": [
    "s1=\"ravi\"\n",
    "s2=\"teja\"\n",
    "data = ''\n",
    "ram=max(len(s1),len(s2))\n",
    "for i in range(ram):\n",
    "    if i<len(s1):\n",
    "        data +=s1[i]\n",
    "    if i<len(s2):\n",
    "        data +=s2[i]\n",
    "print(data)"
   ]
  },
  {
   "cell_type": "code",
   "execution_count": 49,
   "id": "ba113eb1-912f-45bd-9381-df162e0d043e",
   "metadata": {},
   "outputs": [
    {
     "name": "stdin",
     "output_type": "stream",
     "text": [
      "enter the first name: ram \n",
      "enter the second name: raghu\n"
     ]
    },
    {
     "name": "stdout",
     "output_type": "stream",
     "text": [
      " rraamg hu\n"
     ]
    }
   ],
   "source": [
    "s1=input('enter the first name:')\n",
    "s2=input('enter the second name:')\n",
    "\n",
    "output = ' ' \n",
    "i,j = 0,0\n",
    "while i<len(s1) or j<len(s2):\n",
    "    if i<len(s1):\n",
    "        output= output+s1[i]\n",
    "        i+=1\n",
    "    if j<len(s2):\n",
    "        output=output+s2[j]\n",
    "        j+=1\n",
    "print(output)\n",
    "    "
   ]
  },
  {
   "cell_type": "code",
   "execution_count": 68,
   "id": "ecac5ea6-896f-4862-866a-71bfd4aa3141",
   "metadata": {},
   "outputs": [
    {
     "name": "stdout",
     "output_type": "stream",
     "text": [
      "['ram', 'raghu', 'ravi', 'rahul']\n"
     ]
    }
   ],
   "source": [
    "l=['ram','','raghu','ravi','','rahul']\n",
    "for i in l:\n",
    "    if not i.strip():\n",
    "        l.remove(i)\n",
    "print(l)"
   ]
  },
  {
   "cell_type": "code",
   "execution_count": 73,
   "id": "701c2350-ffad-4cb2-bfa2-ab5429a56f3f",
   "metadata": {},
   "outputs": [
    {
     "name": "stdout",
     "output_type": "stream",
     "text": [
      "[1, 2, 3, 4, 5, 6, 7, 8, 9]\n"
     ]
    }
   ],
   "source": [
    "x = [[1, 2, 3], [4, 5], [6, 7, 8, 9]]\n",
    "data = []\n",
    "\n",
    "for i in x:\n",
    "    for j in i:\n",
    "        data.append(j)\n",
    "print(data)"
   ]
  },
  {
   "cell_type": "code",
   "execution_count": 79,
   "id": "47b494bc-856f-4a59-943e-b06a6adaad66",
   "metadata": {},
   "outputs": [
    {
     "name": "stdout",
     "output_type": "stream",
     "text": [
      "[1, 2, 3, 4, 5, 6, 7, 8, 9]\n"
     ]
    }
   ],
   "source": [
    "x = [[1, 2, 3], [4, 5], [6, 7, 8, 9]]\n",
    "\n",
    "data=[j for i in x for j in i]\n",
    "print(data)\n"
   ]
  },
  {
   "cell_type": "code",
   "execution_count": 83,
   "id": "0f7faa9f-9562-4c7c-aba1-2c84f154ffbd",
   "metadata": {},
   "outputs": [
    {
     "name": "stdout",
     "output_type": "stream",
     "text": [
      "['Apple', 'Banana', 'Cherry', 'Date', 'Fig', 'Grape', 'Kiwi', 'Lemon', 'Mango']\n"
     ]
    }
   ],
   "source": [
    "x = [[\"apple\", \"banana\", \"cherry\"],\n",
    "          [\"date\", \"fig\", \"grape\"],\n",
    "          [\"kiwi\", \"lemon\", \"mango\"]]\n",
    "\n",
    "data=[]\n",
    "for i in x:\n",
    "    for j in i:\n",
    "        data.append(j.capitalize())\n",
    "print(data)"
   ]
  },
  {
   "cell_type": "code",
   "execution_count": 87,
   "id": "0c199cc7-5bce-4ba0-87b6-4704f00c53df",
   "metadata": {},
   "outputs": [
    {
     "name": "stdout",
     "output_type": "stream",
     "text": [
      "[['Geeeks', ' Forgeeks'], ['65.7492', ' 62.5405'], ['Geeks', ' 123'], ['555.7492', ' 152.5406']]\n"
     ]
    }
   ],
   "source": [
    "Input = ['Geeeks, Forgeeks', '65.7492, 62.5405',\n",
    "         'Geeks, 123', '555.7492, 152.5406']\n",
    "tem=[]\n",
    "for i in Input:\n",
    "    tem2 = i.split(',')\n",
    "    tem.append(tem2)\n",
    "print(tem)"
   ]
  },
  {
   "cell_type": "code",
   "execution_count": 89,
   "id": "f73cc90f-8eec-4bee-a2d6-c77b0dc9bd1d",
   "metadata": {},
   "outputs": [
    {
     "name": "stdout",
     "output_type": "stream",
     "text": [
      "21\n",
      "5\n",
      "16\n"
     ]
    }
   ],
   "source": [
    "a=[1,2,3,4,6]\n",
    "n=len(a)+1\n",
    "extimate = n* (n+1)//2\n",
    "print(extimate)\n",
    "act = sum(a)\n",
    "missing = extimate-act\n",
    "print(missing)\n",
    "print(act)"
   ]
  },
  {
   "cell_type": "code",
   "execution_count": 1,
   "id": "f346d631-9b8e-42a5-bbb6-ea2bb1a1f119",
   "metadata": {},
   "outputs": [
    {
     "name": "stdout",
     "output_type": "stream",
     "text": [
      "12\n"
     ]
    }
   ],
   "source": [
    "a=3\n",
    "b=4\n",
    "c=0\n",
    "for i in range(a):\n",
    "    c=c+b\n",
    "print(c)"
   ]
  },
  {
   "cell_type": "code",
   "execution_count": null,
   "id": "c008827c-a112-4f2e-9d92-02ba80496b79",
   "metadata": {},
   "outputs": [],
   "source": []
  },
  {
   "cell_type": "code",
   "execution_count": null,
   "id": "dc4df670-422d-4bf2-b5ba-3bdc4655568d",
   "metadata": {},
   "outputs": [],
   "source": []
  },
  {
   "cell_type": "code",
   "execution_count": null,
   "id": "60461393-3dfe-4b94-9cb1-615f3c79b774",
   "metadata": {},
   "outputs": [],
   "source": []
  }
 ],
 "metadata": {
  "kernelspec": {
   "display_name": "Python 3 (ipykernel)",
   "language": "python",
   "name": "python3"
  },
  "language_info": {
   "codemirror_mode": {
    "name": "ipython",
    "version": 3
   },
   "file_extension": ".py",
   "mimetype": "text/x-python",
   "name": "python",
   "nbconvert_exporter": "python",
   "pygments_lexer": "ipython3",
   "version": "3.11.5"
  }
 },
 "nbformat": 4,
 "nbformat_minor": 5
}
