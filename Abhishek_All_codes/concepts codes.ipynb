{
 "cells": [
  {
   "cell_type": "code",
   "execution_count": null,
   "id": "fb4131ac-69f8-4fc2-b6f9-b17936c9824d",
   "metadata": {},
   "outputs": [],
   "source": [
    "ALL Detailed string list tuple set dictionary built in function codes"
   ]
  },
  {
   "cell_type": "code",
   "execution_count": 7,
   "id": "e4aeeefc-84e5-41ed-b66e-3a16d78ecc61",
   "metadata": {},
   "outputs": [
    {
     "name": "stdout",
     "output_type": "stream",
     "text": [
      "[1, 2, 3, 4, 5, 6]\n"
     ]
    }
   ],
   "source": [
    "# List:\n",
    "\n",
    "# ------------------------------\n",
    "\n",
    "# l1=[1,2,3]\n",
    "# l2=[4,5,6]\n",
    "# l3=l1+l2\n",
    "# print(l3)\n",
    "\n",
    "# -------------------------\n",
    "\n",
    "# l1=[1,2,3]\n",
    "# l2=[4,5,6]\n",
    "# l1.extend(l2)\n",
    "# print(l1)\n",
    "\n",
    "# ----------------------\n",
    "\n",
    "# l1=[1,2,3]\n",
    "# l2=[4,5,6]\n",
    "\n",
    "# for i in range(len(l2)):\n",
    "#     l1.append(l2[i])\n",
    "# print(l1)\n",
    "\n",
    "# --------------------------------\n",
    "\n",
    "\n",
    "\n"
   ]
  },
  {
   "cell_type": "code",
   "execution_count": 2,
   "id": "cadce223-11b7-48e4-8eb3-4843610fedf4",
   "metadata": {},
   "outputs": [
    {
     "name": "stdout",
     "output_type": "stream",
     "text": [
      "hello, world!\n"
     ]
    }
   ],
   "source": [
    "a = \"Hello, World!\"\n",
    "print(a.lower())"
   ]
  },
  {
   "cell_type": "code",
   "execution_count": 5,
   "id": "cb70d3da-9ae9-4666-8fcf-4b9d7724f46b",
   "metadata": {},
   "outputs": [
    {
     "name": "stdout",
     "output_type": "stream",
     "text": [
      "HELLO, WORLD!\n"
     ]
    }
   ],
   "source": [
    "a = \"Hello, World!\"\n",
    "print(a.upper())\n"
   ]
  },
  {
   "cell_type": "code",
   "execution_count": 16,
   "id": "a320795f-48ba-480e-a5cd-0c4312124ee0",
   "metadata": {},
   "outputs": [
    {
     "name": "stdout",
     "output_type": "stream",
     "text": [
      "Hello, World!\n"
     ]
    }
   ],
   "source": [
    "a = \"Hello, World!\"\n",
    "b=a.strip()\n",
    "print(b)\n"
   ]
  },
  {
   "cell_type": "code",
   "execution_count": 19,
   "id": "d6d53c03-4eb2-4018-a046-b0171c459109",
   "metadata": {},
   "outputs": [
    {
     "name": "stdout",
     "output_type": "stream",
     "text": [
      "Jello, World!\n"
     ]
    }
   ],
   "source": [
    "a = \"Hello, World!\"\n",
    "print(a.replace('H','J'))"
   ]
  },
  {
   "cell_type": "code",
   "execution_count": 4,
   "id": "ec2571b0-b12d-497c-9110-d42300d02557",
   "metadata": {},
   "outputs": [
    {
     "name": "stdout",
     "output_type": "stream",
     "text": [
      "gfg\n",
      "gfgg\n"
     ]
    }
   ],
   "source": [
    "s='gfg'\n",
    "print(s)\n",
    " # concatenate the 2 values \n",
    "s1=s+s[0]  \n",
    "print(s1)\n"
   ]
  },
  {
   "cell_type": "code",
   "execution_count": null,
   "id": "feaeead2-6a34-4ce1-8389-317e35bd7597",
   "metadata": {},
   "outputs": [],
   "source": []
  }
 ],
 "metadata": {
  "kernelspec": {
   "display_name": "Python 3 (ipykernel)",
   "language": "python",
   "name": "python3"
  },
  "language_info": {
   "codemirror_mode": {
    "name": "ipython",
    "version": 3
   },
   "file_extension": ".py",
   "mimetype": "text/x-python",
   "name": "python",
   "nbconvert_exporter": "python",
   "pygments_lexer": "ipython3",
   "version": "3.11.5"
  }
 },
 "nbformat": 4,
 "nbformat_minor": 5
}
