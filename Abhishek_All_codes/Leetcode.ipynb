{
 "cells": [
  {
   "cell_type": "code",
   "execution_count": 12,
   "id": "6b679279-c4c9-42ea-9cbf-11d7d1b1dbfe",
   "metadata": {},
   "outputs": [
    {
     "name": "stdout",
     "output_type": "stream",
     "text": [
      "True\n",
      "True\n",
      "True\n",
      "False\n",
      "True\n"
     ]
    }
   ],
   "source": [
    "def is_paranthesis(s):\n",
    "    data = {')':'(',']':'[','}':'{'}\n",
    "    a = []\n",
    "    for i in s:\n",
    "        if i in data:\n",
    "            day = a.pop()\n",
    "            if a:\n",
    "                a\n",
    "            else:\n",
    "                '#'\n",
    "            if data[i]!= day:\n",
    "                return False\n",
    "        else:\n",
    "            a.append(i)\n",
    "    return not a\n",
    "\n",
    "print (is_paranthesis(\"()\"))\n",
    "print(is_paranthesis(\"()\"))       # Output: True\n",
    "print(is_paranthesis(\"()[]{}\"))   # Output: True\n",
    "print(is_paranthesis(\"(]\"))       # Output: False\n",
    "print(is_paranthesis(\"([])\"))"
   ]
  },
  {
   "cell_type": "code",
   "execution_count": 23,
   "id": "4033810f-a68f-4d81-81d1-7c34cfff9a5f",
   "metadata": {},
   "outputs": [
    {
     "name": "stdout",
     "output_type": "stream",
     "text": [
      "[0, 1]\n"
     ]
    }
   ],
   "source": [
    "def sum_of_two(s,target):\n",
    "    for i in range(len(s)):\n",
    "        for j in range(i+1,len(s)):\n",
    "            if s[i] + s[j] == target:\n",
    "                return [i,j]\n",
    "    return []\n",
    "target = 9\n",
    "s=[4,5,6,7,8,1,10,12]\n",
    "print(sum_of_two(s,target))"
   ]
  },
  {
   "cell_type": "code",
   "execution_count": 26,
   "id": "1cad8fad-b0f5-415c-84e3-577be3844481",
   "metadata": {},
   "outputs": [
    {
     "name": "stdout",
     "output_type": "stream",
     "text": [
      "True\n"
     ]
    }
   ],
   "source": [
    "def is_palindrome(data):\n",
    "    a = str(data)\n",
    "    left, right = 0,  len(a)-1\n",
    "    while left > right :\n",
    "        if y[left] != y[right]:\n",
    "            return False\n",
    "        right -= 1\n",
    "        left += 1\n",
    "    return True\n",
    "\n",
    "data = 121\n",
    "print(is_palindrome(data))\n",
    "        \n",
    "    "
   ]
  },
  {
   "cell_type": "code",
   "execution_count": 33,
   "id": "ad43c7ac-b103-44c7-a613-70bec513cc88",
   "metadata": {},
   "outputs": [
    {
     "name": "stdout",
     "output_type": "stream",
     "text": [
      "58\n"
     ]
    }
   ],
   "source": [
    "def roman_to_integer(a):\n",
    "    roman = {'I': 1, 'V': 5, 'X': 10, 'L': 50, 'C': 100, 'D': 500, 'M': 1000}\n",
    "    pre = 0\n",
    "    total  = 0\n",
    "    for i in reversed(a):\n",
    "        curr = roman [i]\n",
    "        if curr < pre:\n",
    "            total -= curr\n",
    "        else:\n",
    "            total +=curr\n",
    "        pre = curr\n",
    "    return total\n",
    "\n",
    "a = \"LVIII\"\n",
    "print(roman_to_integer(a))"
   ]
  },
  {
   "cell_type": "code",
   "execution_count": 38,
   "id": "43943927-fd47-415c-97b0-ae2ddc50996e",
   "metadata": {},
   "outputs": [
    {
     "name": "stdout",
     "output_type": "stream",
     "text": [
      "fl\n"
     ]
    }
   ],
   "source": [
    "def longestCommonPrefix(s):\n",
    "    if not s:\n",
    "        return '' \n",
    "    data = s[0]\n",
    "    for i in s[1:]:\n",
    "        while not i.startswith(data):\n",
    "            data = data[:-1]\n",
    "            if not data:\n",
    "                return ''\n",
    "    return data\n",
    "\n",
    "s = [\"flower\",\"flow\",\"flight\"]\n",
    "print(longestCommonPrefix(s))\n",
    "            "
   ]
  },
  {
   "cell_type": "code",
   "execution_count": 11,
   "id": "747aa920-1387-4d8a-b59f-12f5a0a80d45",
   "metadata": {},
   "outputs": [
    {
     "name": "stdout",
     "output_type": "stream",
     "text": [
      "-1\n"
     ]
    }
   ],
   "source": [
    "\n",
    "\n",
    "s = [-4,-1,2,3,5,6,8,-10]\n",
    "\n",
    "a = s[0]\n",
    "for i in s:\n",
    "    if abs(i) < abs(a) or(abs(i) == abs(a) and i > a):\n",
    "        a = i \n",
    "print(a)"
   ]
  },
  {
   "cell_type": "code",
   "execution_count": 8,
   "id": "8b8c2eb4-7a18-45f8-9877-2bb9c50e0ff1",
   "metadata": {},
   "outputs": [
    {
     "name": "stdout",
     "output_type": "stream",
     "text": [
      "1\n"
     ]
    }
   ],
   "source": [
    "#  absolute min value in that minimum value not considered as negative value it provides only positives \n",
    "\n",
    "def absolute_min_values(nums):\n",
    "    min = abs(nums[0])\n",
    "    for i in nums:\n",
    "        data = abs(i)\n",
    "        if data < min:\n",
    "            min = data\n",
    "    return min\n",
    "nums = [-2,-4,-3,1,2,4,6]\n",
    "print(absolute_min_values(nums))"
   ]
  },
  {
   "cell_type": "code",
   "execution_count": null,
   "id": "aaf961fb-77c0-40d9-beda-38d09f7d956e",
   "metadata": {},
   "outputs": [],
   "source": []
  }
 ],
 "metadata": {
  "kernelspec": {
   "display_name": "Python 3 (ipykernel)",
   "language": "python",
   "name": "python3"
  },
  "language_info": {
   "codemirror_mode": {
    "name": "ipython",
    "version": 3
   },
   "file_extension": ".py",
   "mimetype": "text/x-python",
   "name": "python",
   "nbconvert_exporter": "python",
   "pygments_lexer": "ipython3",
   "version": "3.12.9"
  }
 },
 "nbformat": 4,
 "nbformat_minor": 5
}
